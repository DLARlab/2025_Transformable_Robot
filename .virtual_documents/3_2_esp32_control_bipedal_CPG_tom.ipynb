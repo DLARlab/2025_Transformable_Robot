%run mqtt_thingy.ipynb








%cd ./util_interfaces/
%run advance_dashboard.ipynb





    # R1=Responder(("10.144.113.5",1885),"ho1_ret")
    # R1.to="ho1"


    LF=Responder(("10.144.113.5",1885),"ho3_ret")
    LF.to="ho3"


    RF=Responder(("10.144.113.5",1885),"ho2_ret")
    RF.to="ho2"


def rett(task):
    k=ipywidgets.Textarea(layout=ipywidgets.Layout(width='500px', height='100px'))
    task.start()
    return (k,)

@TaskHandlerButtonAdvanced.add_to_state_button(s, rett)
async def control_loop(task, sleep_interval=0.05, keep_len=10):
    global actions
    obs = task.widgets[0]
    
    @loop(sleep_interval)
    def go():
        obs.value="\n".join([str(i) for i in LF.ret_list][::-1])
    
    # await asyncio.gather(R.loop_recv(),go())
    await asyncio.gather(go())
t=control_loop("control_loop")


await asyncio.sleep(0.1)


# Import required libraries
import numpy as np
import matplotlib.pyplot as plt
from scipy.integrate import solve_ivp

import time



InitL = np.array([90, 90, 0, -90, -90])*(1/135)
InitR = np.array([-90, 90, 0, -90, 90])*(1/135)
LF.send_exe(f"esp.pca_moves({InitL.tolist()})")
RF.send_exe(f"esp.pca_moves({InitR.tolist()})")


await asyncio.sleep(0.5)


# Init = [0.5, 0, 0, 0, 0]
# LF.send_exe(f"esp.pca_moves({Init})")
# # RF.send_exe(f"esp.pca_moves({Init})")


s.display()








#%% Define constants and parameters

n = 10

# Frequency
omega_val = 2 * np.pi
omega = np.ones(n) * omega_val

# Convergence rate
mu_const = 1
mu = np.ones(n) * mu_const

# Amplitude
a_val = 10
a_param = np.ones(n) * a_val



## In the current bipedal configuration
## Motor 1, 3 ,5 will have opposite joint angles
## Motor 2, 4 will have identical joint angles


# # Tune the code after these:

# # Amplitude
# R_val = 45
# # R_amp = np.ones(n) * R_val
# R_amp=np.array([0.6, 0, 1, 0 ,0.6,    -.6, 0, -1, 0, -0.6])*R_val


# # Joint offsets

# Offsets = np.array([45, 90, 60, -95, -90,    -45, 90, -50, -85, 90])


# # Desired phase differences

# # theta_tilde = np.array([0, -np.pi/2, 0, 0,     -np.pi/2, 0, -np.pi/2, 0, 0])

# theta_tilde = np.array([0, np.pi, 0, 0,     -np.pi, np.pi, 0, 0, 0])

# # k=np.pi-np.sum(theta_tilde[0:4])

# # theta_tilde = np.array([np.pi/2, np.pi*(0.5-0.25), np.pi/2, -np.pi/2,     0+k,np.pi/2+k, np.pi*(0.5-0.25)+k, np.pi/2+k, -np.pi/2+k,])



# Tune the code after these:

# Amplitude
# R_val = 45
# R_amp = np.ones(n) * R_val

R_amp=np.array([20, 60, 45, 0 ,0.,    -.20, 60, -45, 0, -0.0])

# Joint offsets

Offsets = np.array([90, 0, 0, -95, -90,    -90, 0, -0, -90, 90])


# Desired phase differences

phi_tilde = [0, 0, 0, np.pi, 2*np.pi, 3*np.pi, 4*np.pi, 0, 0, 0]  # forward

# phi_tilde = [0, 0, np.pi/2, 0, 0, 0, 0, 0, 0, 0]  # turning

theta_tilde=[phi_tilde[i+1]-phi_tilde[i] for i in range(9)]













#%% Matrices A and B
A = np.zeros((n, n))
A[0, 0] = -mu[0]
if n >= 2:
    A[0, 1] = mu[1]
for i in range(1, n - 1):
    A[i, i - 1] = mu[i]
    A[i, i]     = -2 * mu[i]
    A[i, i + 1] = mu[i]
A[n - 1, n - 2] = mu[n - 1]
A[n - 1, n - 1] = -mu[n - 1]

B = np.zeros((n, n - 1))
B[0, 0] = 1
for i in range(1, n - 1):
    B[i, i - 1] = -1
    B[i, i]     = 1
B[n - 1, n - 2] = -1

#%% ODE setup
phi0 = np.zeros(n)   # initial phases
r0   = np.zeros(n)   # initial amplitudes
dr0  = np.zeros(n)   # initial amplitude derivatives

x0 = np.concatenate((phi0, r0, dr0))

dt = 0.02 # time step
t_span = (0, 20)  # simulate for 20 seconds
t_eval = np.linspace(t_span[0], t_span[1], int(t_span[1]/dt)) # time points: based on dt and t_span

#%% ODE function definition
def cpgODE(t, x, omega, A, B, theta_tilde, a_param, R_amp, n):
    """
    Compute the derivatives for the CPG system.
    x is [phi, r, dr] with each block of length n.
    Returns: [dphi; dr; ddr]
    """
    phi = x[0:n]
    r   = x[n:2*n]
    dr  = x[2*n:3*n]

    # Phase derivatives
    dphi = omega + A.dot(phi) + B.dot(theta_tilde)

    # Second derivatives for amplitude
    ddr = a_param * ((a_param / 4) * (R_amp - r) - dr)

    # Note: The derivative of r is dr (not r)
    return np.concatenate((dphi, dr, ddr))

#%% Solve the ODE
sol = solve_ivp(
    lambda t, y: cpgODE(t, y, omega, A, B, theta_tilde, a_param, R_amp, n),
    t_span,
    x0,
    t_eval=t_eval
)

t = sol.t
x = sol.y.T  # shape (time_points, 3*n)

#%% Extract the results
phi = x[:, :n]          # phases
r   = x[:, n:2*n]       # amplitudes
dr  = x[:, 2*n:3*n]     # amplitude derivatives

# Compute the rhythmic output signals: x_i = r_i * sin(phi_i)
desired_angle = r * np.sin(phi) + np.ones(phi.shape)*Offsets

normalize_min = -135
normalize_max = 135


# Normalize the output from -1 to 1
desired_angle_normalized = (desired_angle - normalize_min) / (normalize_max - normalize_min) * 2 - 1

# Change the decimal length
desired_angle_normalized = np.round(desired_angle_normalized,4)


#%% Display the first 5 outputs
# print("First 5 time points:", t[:5])
print("First 5 desired angle rows (each row corresponds to the outputs of all oscillators):")
print(desired_angle_normalized[:5, :])

#%% Plot results using columns for each oscillator
plt.figure(figsize=(10, 8))
for i in range(n):
    plt.subplot(n, 1, i+1)
    # Here we plot the i-th column of output, which corresponds to oscillator i+1.
    # plt.plot(t, desired_angle_normalized[:, i], linewidth=1.5)
    plt.plot(t, desired_angle[:, i], linewidth=1.5)
    plt.ylabel(f'x_{i+1}')
    plt.grid(True)
    # plt.ylim(-1, 1) 
    plt.ylim(-135, 135) 
plt.xlabel('Time (s)')
plt.suptitle('CPG Output Signals', y=0.93)
plt.tight_layout()
plt.show()


# For rolling
step_multi = 1
sleep_time = 10*dt*step_multi

for li in desired_angle_normalized[::step_multi]:
    li=li.tolist()
    time.sleep(sleep_time)
    LF.send_exe(f"esp.pca_moves({li[:5]})")
    RF.send_exe(f"esp.pca_moves({li[5:]})")
    # print(li)


li


sleep_time


len(desired_angle_normalized)


lrf=desired_angle_normalized[600:800:1,5:].tolist()
llf=desired_angle_normalized[600:800:1,:5].tolist()


LF.send_exe(f"esp.ta=loop.create_task(from_li({llf},0.03,1))")
RF.send_exe(f"esp.ta=loop.create_task(from_li({lrf},0.03,1))")


break


LF.send_exe(f"esp.ta.cancel()")
RF.send_exe(f"esp.ta.cancel()")


LF.send_exe(f"esp.ta")





# li = [-0.278, 0.6667, 0.8552, -0.7037, -0.6667]

# LF.send_exe(f"esp.pca_moves({li})")



# li = [0.5353, 0.6667, -0.533, -0.6296, 0.6667]
# RF.send_exe(f"esp.pca_moves({li})")





LF.send_exe(f"loop.create_task(g)")


LF.send_exe(f"wlan.ifconfig()")


RF.send_exe(f"wlan.ifconfig()")


RF.ret_list





s.display()


LF.send_exe(f"esp.ta.cancel()")


break





InitL = np.array([90, 90, 0, -90, -90])*(1/135)
InitR = np.array([-90, 90, 0, -90, 90])*(1/135)
LF.send_exe(f"esp.pca_moves({InitL.tolist()})")
RF.send_exe(f"esp.pca_moves({InitR.tolist()})")


desL = np.array([90, 30, 0, -90, -90])*(1/135)
desR = np.array([-90, 30, 0, -90, 90])*(1/135)
LF.send_exe(f"esp.pca_moves({desL.tolist()})")
RF.send_exe(f"esp.pca_moves({desR.tolist()})")



