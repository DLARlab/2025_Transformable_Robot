{
 "cells": [
  {
   "cell_type": "code",
   "execution_count": 1,
   "id": "ahead-bicycle",
   "metadata": {},
   "outputs": [],
   "source": [
    "%run mqtt_thingy.ipynb"
   ]
  },
  {
   "cell_type": "code",
   "execution_count": null,
   "id": "57d3663f-14a9-4959-bbd9-45ea645c0773",
   "metadata": {},
   "outputs": [],
   "source": []
  },
  {
   "cell_type": "raw",
   "id": "bottom-father",
   "metadata": {},
   "source": [
    "from multiprocessing.managers import BaseManager\n",
    "class QueueManager(BaseManager): pass\n",
    "\n",
    "\n",
    "QueueManager.register('qo')\n",
    "\n",
    "m = QueueManager(address=('host.docker.internal', 8881), authkey=b'howdy')\n",
    "m.connect()\n",
    "\n",
    "q = m.qo()"
   ]
  },
  {
   "cell_type": "code",
   "execution_count": 2,
   "id": "engaged-sullivan",
   "metadata": {},
   "outputs": [
    {
     "name": "stdout",
     "output_type": "stream",
     "text": [
      "/home/dlar58/Documents/transformable-robot-hardware/Hardware_Control_ESP32/util_interfaces\n",
      "info\n",
      "        \n",
      "        Always be aware that this version of dashboard is instanced when defination.\n",
      "        Which means that there cannot be two dashboard in the same ipynb kernel.\n",
      "        \n",
      "        \n"
     ]
    },
    {
     "data": {
      "application/vnd.jupyter.widget-view+json": {
       "model_id": "e92093c1d70b4a7b86672c09c2ac8150",
       "version_major": 2,
       "version_minor": 0
      },
      "text/plain": [
       "Box(children=(Button(description='buttoner', disabled=True, layout=Layout(height='30px', width='auto'), style=…"
      ]
     },
     "metadata": {},
     "output_type": "display_data"
    },
    {
     "data": {
      "application/vnd.jupyter.widget-view+json": {
       "model_id": "34fbf9ff258e4ad8a2912d4310038a25",
       "version_major": 2,
       "version_minor": 0
      },
      "text/plain": [
       "Box(children=(StateButton(description='loop_timer', layout=Layout(height='30px'), style=ButtonStyle(button_col…"
      ]
     },
     "metadata": {},
     "output_type": "display_data"
    }
   ],
   "source": [
    "%cd ./util_interfaces/\n",
    "%run advance_dashboard.ipynb"
   ]
  },
  {
   "cell_type": "code",
   "execution_count": null,
   "id": "alternative-boards",
   "metadata": {},
   "outputs": [],
   "source": []
  },
  {
   "cell_type": "code",
   "execution_count": 3,
   "id": "a119fbf7-7cbc-4ab3-93f9-f54dcc5ab446",
   "metadata": {},
   "outputs": [],
   "source": [
    "    # R1=Responder((\"10.144.113.5\",1885),\"ho1_ret\")\n",
    "    # R1.to=\"ho1\""
   ]
  },
  {
   "cell_type": "code",
   "execution_count": 4,
   "id": "e81ba11f-57e2-40ff-bf96-fe022b638b18",
   "metadata": {},
   "outputs": [
    {
     "name": "stderr",
     "output_type": "stream",
     "text": [
      "/tmp/ipykernel_6257/1161333552.py:8: DeprecationWarning: Callback API version 1 is deprecated, update to latest version\n",
      "  client = mqtt.Client()\n"
     ]
    }
   ],
   "source": [
    "    LF=Responder((\"10.144.113.5\",1885),\"ho3_ret\")\n",
    "    LF.to=\"ho3\""
   ]
  },
  {
   "cell_type": "code",
   "execution_count": 5,
   "id": "e53be792-ef41-472a-86c3-d59285dc5fd4",
   "metadata": {},
   "outputs": [
    {
     "name": "stdout",
     "output_type": "stream",
     "text": [
      "Connected successfully!\n",
      "Connected successfully!\n"
     ]
    },
    {
     "name": "stderr",
     "output_type": "stream",
     "text": [
      "/tmp/ipykernel_6257/1161333552.py:8: DeprecationWarning: Callback API version 1 is deprecated, update to latest version\n",
      "  client = mqtt.Client()\n"
     ]
    }
   ],
   "source": [
    "    RF=Responder((\"10.144.113.5\",1885),\"ho2_ret\")\n",
    "    RF.to=\"ho2\""
   ]
  },
  {
   "cell_type": "code",
   "execution_count": 6,
   "id": "twenty-judges",
   "metadata": {},
   "outputs": [],
   "source": [
    "def rett(task):\n",
    "    k=ipywidgets.Textarea(layout=ipywidgets.Layout(width='500px', height='100px'))\n",
    "    task.start()\n",
    "    return (k,)\n",
    "\n",
    "@TaskHandlerButtonAdvanced.add_to_state_button(s, rett)\n",
    "async def control_loop(task, sleep_interval=0.05, keep_len=10):\n",
    "    global actions\n",
    "    obs = task.widgets[0]\n",
    "    \n",
    "    @loop(sleep_interval)\n",
    "    def go():\n",
    "        obs.value=\"\\n\".join([str(i) for i in LF.ret_list][::-1])\n",
    "    \n",
    "    # await asyncio.gather(R.loop_recv(),go())\n",
    "    await asyncio.gather(go())\n",
    "t=control_loop(\"control_loop\")"
   ]
  },
  {
   "cell_type": "code",
   "execution_count": 7,
   "id": "determined-treasurer",
   "metadata": {},
   "outputs": [],
   "source": [
    "await asyncio.sleep(0.1)"
   ]
  },
  {
   "cell_type": "code",
   "execution_count": 8,
   "id": "e3d99544-60b8-4738-8187-bc22b609b21b",
   "metadata": {},
   "outputs": [],
   "source": [
    "# Import required libraries\n",
    "import numpy as np\n",
    "import matplotlib.pyplot as plt\n",
    "from scipy.integrate import solve_ivp\n",
    "\n",
    "import time\n"
   ]
  },
  {
   "cell_type": "code",
   "execution_count": 9,
   "id": "cleared-bulgarian",
   "metadata": {},
   "outputs": [],
   "source": [
    "InitL = np.array([90, 90, 0, -90, -90])*(1/135)\n",
    "InitR = np.array([-90, 90, 0, -90, 90])*(1/135)\n",
    "LF.send_exe(f\"esp.pca_moves({InitL.tolist()})\")\n",
    "RF.send_exe(f\"esp.pca_moves({InitR.tolist()})\")"
   ]
  },
  {
   "cell_type": "code",
   "execution_count": 10,
   "id": "b577bf58-6b65-4082-8cc4-2bd493fcb7a4",
   "metadata": {},
   "outputs": [],
   "source": [
    "await asyncio.sleep(0.5)"
   ]
  },
  {
   "cell_type": "code",
   "execution_count": 11,
   "id": "36d07ade-116b-4e1c-8150-79814fa05f3b",
   "metadata": {},
   "outputs": [],
   "source": [
    "# Init = [0.5, 0, 0, 0, 0]\n",
    "# LF.send_exe(f\"esp.pca_moves({Init})\")\n",
    "# # RF.send_exe(f\"esp.pca_moves({Init})\")"
   ]
  },
  {
   "cell_type": "code",
   "execution_count": 12,
   "id": "collective-dryer",
   "metadata": {},
   "outputs": [
    {
     "data": {
      "application/vnd.jupyter.widget-view+json": {
       "model_id": "e92093c1d70b4a7b86672c09c2ac8150",
       "version_major": 2,
       "version_minor": 0
      },
      "text/plain": [
       "Box(children=(Button(description='buttoner', disabled=True, layout=Layout(height='30px', width='auto'), style=…"
      ]
     },
     "metadata": {},
     "output_type": "display_data"
    },
    {
     "data": {
      "application/vnd.jupyter.widget-view+json": {
       "model_id": "34fbf9ff258e4ad8a2912d4310038a25",
       "version_major": 2,
       "version_minor": 0
      },
      "text/plain": [
       "Box(children=(StateButton(description='loop_timer', layout=Layout(height='30px'), style=ButtonStyle(button_col…"
      ]
     },
     "metadata": {},
     "output_type": "display_data"
    },
    {
     "data": {
      "application/vnd.jupyter.widget-view+json": {
       "model_id": "855b5ca764994c1cba0847c65f3b3d36",
       "version_major": 2,
       "version_minor": 0
      },
      "text/plain": [
       "Box(children=(StateButton(description='control_loop', layout=Layout(height='30px'), style=ButtonStyle(button_c…"
      ]
     },
     "metadata": {},
     "output_type": "display_data"
    }
   ],
   "source": [
    "s.display()"
   ]
  },
  {
   "cell_type": "raw",
   "id": "5b1d9657-9ee7-46d3-b160-1796219acd2a",
   "metadata": {},
   "source": []
  },
  {
   "cell_type": "code",
   "execution_count": null,
   "id": "9bcb6b2b-9a71-437b-8720-9f48a161335a",
   "metadata": {},
   "outputs": [],
   "source": []
  },
  {
   "cell_type": "code",
   "execution_count": null,
   "id": "417e1778-3729-417a-a37d-4cea287a56fd",
   "metadata": {},
   "outputs": [],
   "source": [
    "#%% Define constants and parameters\n",
    "\n",
    "n = 10\n",
    "\n",
    "# Frequency\n",
    "omega_val = 2 * np.pi\n",
    "omega = np.ones(n) * omega_val\n",
    "\n",
    "# Convergence rate\n",
    "mu_const = 1\n",
    "mu = np.ones(n) * mu_const\n",
    "\n",
    "# Amplitude\n",
    "a_val = 10\n",
    "a_param = np.ones(n) * a_val\n"
   ]
  },
  {
   "cell_type": "code",
   "execution_count": null,
   "id": "9b0c95f8-facf-4d45-9253-f5cea5fe044d",
   "metadata": {},
   "outputs": [],
   "source": [
    "## In the current bipedal configuration\n",
    "## Motor 1, 3 ,5 will have opposite joint angles\n",
    "## Motor 2, 4 will have identical joint angles"
   ]
  },
  {
   "cell_type": "code",
   "execution_count": null,
   "id": "21204adb-a621-43ce-8b35-b6b1cdef10a9",
   "metadata": {},
   "outputs": [],
   "source": [
    "# # Tune the code after these:\n",
    "\n",
    "# # Amplitude\n",
    "# R_val = 45\n",
    "# # R_amp = np.ones(n) * R_val\n",
    "# R_amp=np.array([0.6, 0, 1, 0 ,0.6,    -.6, 0, -1, 0, -0.6])*R_val\n",
    "\n",
    "\n",
    "# # Joint offsets\n",
    "\n",
    "# Offsets = np.array([45, 90, 60, -95, -90,    -45, 90, -50, -85, 90])\n",
    "\n",
    "\n",
    "# # Desired phase differences\n",
    "\n",
    "# # theta_tilde = np.array([0, -np.pi/2, 0, 0,     -np.pi/2, 0, -np.pi/2, 0, 0])\n",
    "\n",
    "# theta_tilde = np.array([0, np.pi, 0, 0,     -np.pi, np.pi, 0, 0, 0])\n",
    "\n",
    "# # k=np.pi-np.sum(theta_tilde[0:4])\n",
    "\n",
    "# # theta_tilde = np.array([np.pi/2, np.pi*(0.5-0.25), np.pi/2, -np.pi/2,     0+k,np.pi/2+k, np.pi*(0.5-0.25)+k, np.pi/2+k, -np.pi/2+k,])\n"
   ]
  },
  {
   "cell_type": "code",
   "execution_count": null,
   "id": "9d5ebb21-1a4b-4de3-87ff-8c86126a06cc",
   "metadata": {},
   "outputs": [],
   "source": [
    "# Tune the code after these:\n",
    "\n",
    "# Amplitude\n",
    "# R_val = 45\n",
    "# R_amp = np.ones(n) * R_val\n",
    "\n",
    "R_amp=np.array([20, 60, 45, 0 ,0.,    -.20, 60, -45, 0, -0.0])\n",
    "\n",
    "# Joint offsets\n",
    "\n",
    "Offsets = np.array([90, 0, 0, -95, -90,    -90, 0, -0, -90, 90])\n",
    "\n",
    "\n",
    "# Desired phase differences\n",
    "\n",
    "phi_tilde = [0, 0, 0, np.pi, 2*np.pi, 3*np.pi, 4*np.pi, 0, 0, 0]  # forward\n",
    "\n",
    "# phi_tilde = [0, 0, np.pi/2, 0, 0, 0, 0, 0, 0, 0]  # turning\n",
    "\n",
    "theta_tilde=[phi_tilde[i+1]-phi_tilde[i] for i in range(9)]\n",
    "\n"
   ]
  },
  {
   "cell_type": "code",
   "execution_count": null,
   "id": "270e6a81-c6c5-4394-9082-a0d25b1de4a0",
   "metadata": {},
   "outputs": [],
   "source": []
  },
  {
   "cell_type": "code",
   "execution_count": null,
   "id": "b0ce9f27-12a3-46d6-b0ba-837f37ccfaba",
   "metadata": {},
   "outputs": [],
   "source": []
  },
  {
   "cell_type": "code",
   "execution_count": null,
   "id": "fdd81e3e-142e-4a0e-a984-cb068f39a505",
   "metadata": {},
   "outputs": [],
   "source": []
  },
  {
   "cell_type": "code",
   "execution_count": null,
   "id": "861e427b-d9f3-4f91-9266-9609a5b4b99e",
   "metadata": {},
   "outputs": [],
   "source": [
    "#%% Matrices A and B\n",
    "A = np.zeros((n, n))\n",
    "A[0, 0] = -mu[0]\n",
    "if n >= 2:\n",
    "    A[0, 1] = mu[1]\n",
    "for i in range(1, n - 1):\n",
    "    A[i, i - 1] = mu[i]\n",
    "    A[i, i]     = -2 * mu[i]\n",
    "    A[i, i + 1] = mu[i]\n",
    "A[n - 1, n - 2] = mu[n - 1]\n",
    "A[n - 1, n - 1] = -mu[n - 1]\n",
    "\n",
    "B = np.zeros((n, n - 1))\n",
    "B[0, 0] = 1\n",
    "for i in range(1, n - 1):\n",
    "    B[i, i - 1] = -1\n",
    "    B[i, i]     = 1\n",
    "B[n - 1, n - 2] = -1\n",
    "\n",
    "#%% ODE setup\n",
    "phi0 = np.zeros(n)   # initial phases\n",
    "r0   = np.zeros(n)   # initial amplitudes\n",
    "dr0  = np.zeros(n)   # initial amplitude derivatives\n",
    "\n",
    "x0 = np.concatenate((phi0, r0, dr0))\n",
    "\n",
    "dt = 0.02 # time step\n",
    "t_span = (0, 20)  # simulate for 20 seconds\n",
    "t_eval = np.linspace(t_span[0], t_span[1], int(t_span[1]/dt)) # time points: based on dt and t_span\n",
    "\n",
    "#%% ODE function definition\n",
    "def cpgODE(t, x, omega, A, B, theta_tilde, a_param, R_amp, n):\n",
    "    \"\"\"\n",
    "    Compute the derivatives for the CPG system.\n",
    "    x is [phi, r, dr] with each block of length n.\n",
    "    Returns: [dphi; dr; ddr]\n",
    "    \"\"\"\n",
    "    phi = x[0:n]\n",
    "    r   = x[n:2*n]\n",
    "    dr  = x[2*n:3*n]\n",
    "\n",
    "    # Phase derivatives\n",
    "    dphi = omega + A.dot(phi) + B.dot(theta_tilde)\n",
    "\n",
    "    # Second derivatives for amplitude\n",
    "    ddr = a_param * ((a_param / 4) * (R_amp - r) - dr)\n",
    "\n",
    "    # Note: The derivative of r is dr (not r)\n",
    "    return np.concatenate((dphi, dr, ddr))\n",
    "\n",
    "#%% Solve the ODE\n",
    "sol = solve_ivp(\n",
    "    lambda t, y: cpgODE(t, y, omega, A, B, theta_tilde, a_param, R_amp, n),\n",
    "    t_span,\n",
    "    x0,\n",
    "    t_eval=t_eval\n",
    ")\n",
    "\n",
    "t = sol.t\n",
    "x = sol.y.T  # shape (time_points, 3*n)\n",
    "\n",
    "#%% Extract the results\n",
    "phi = x[:, :n]          # phases\n",
    "r   = x[:, n:2*n]       # amplitudes\n",
    "dr  = x[:, 2*n:3*n]     # amplitude derivatives\n",
    "\n",
    "# Compute the rhythmic output signals: x_i = r_i * sin(phi_i)\n",
    "desired_angle = r * np.sin(phi) + np.ones(phi.shape)*Offsets\n",
    "\n",
    "normalize_min = -135\n",
    "normalize_max = 135"
   ]
  },
  {
   "cell_type": "code",
   "execution_count": null,
   "id": "4a133a26-4fb7-41eb-baf9-efdb7e1a9235",
   "metadata": {},
   "outputs": [],
   "source": [
    "# Normalize the output from -1 to 1\n",
    "desired_angle_normalized = (desired_angle - normalize_min) / (normalize_max - normalize_min) * 2 - 1\n",
    "\n",
    "# Change the decimal length\n",
    "desired_angle_normalized = np.round(desired_angle_normalized,4)"
   ]
  },
  {
   "cell_type": "code",
   "execution_count": null,
   "id": "273a73b0-e6a1-44b4-b7ee-ba7649176e58",
   "metadata": {},
   "outputs": [],
   "source": [
    "#%% Display the first 5 outputs\n",
    "# print(\"First 5 time points:\", t[:5])\n",
    "print(\"First 5 desired angle rows (each row corresponds to the outputs of all oscillators):\")\n",
    "print(desired_angle_normalized[:5, :])\n",
    "\n",
    "#%% Plot results using columns for each oscillator\n",
    "plt.figure(figsize=(10, 8))\n",
    "for i in range(n):\n",
    "    plt.subplot(n, 1, i+1)\n",
    "    # Here we plot the i-th column of output, which corresponds to oscillator i+1.\n",
    "    # plt.plot(t, desired_angle_normalized[:, i], linewidth=1.5)\n",
    "    plt.plot(t, desired_angle[:, i], linewidth=1.5)\n",
    "    plt.ylabel(f'x_{i+1}')\n",
    "    plt.grid(True)\n",
    "    # plt.ylim(-1, 1) \n",
    "    plt.ylim(-135, 135) \n",
    "plt.xlabel('Time (s)')\n",
    "plt.suptitle('CPG Output Signals', y=0.93)\n",
    "plt.tight_layout()\n",
    "plt.show()"
   ]
  },
  {
   "cell_type": "code",
   "execution_count": null,
   "id": "55950c74-2255-40bd-9a97-2e7008947d09",
   "metadata": {},
   "outputs": [],
   "source": [
    "# For rolling\n",
    "step_multi = 1\n",
    "sleep_time = 10*dt*step_multi\n",
    "\n",
    "for li in desired_angle_normalized[::step_multi]:\n",
    "    li=li.tolist()\n",
    "    time.sleep(sleep_time)\n",
    "    LF.send_exe(f\"esp.pca_moves({li[:5]})\")\n",
    "    RF.send_exe(f\"esp.pca_moves({li[5:]})\")\n",
    "    # print(li)"
   ]
  },
  {
   "cell_type": "code",
   "execution_count": null,
   "id": "e4413a30-3feb-4aaa-a63e-41716bd371cd",
   "metadata": {},
   "outputs": [],
   "source": [
    "li"
   ]
  },
  {
   "cell_type": "code",
   "execution_count": null,
   "id": "fe4c232c-9ef3-493f-825e-741fcc899c09",
   "metadata": {},
   "outputs": [],
   "source": [
    "sleep_time"
   ]
  },
  {
   "cell_type": "code",
   "execution_count": null,
   "id": "426d04bb-9912-41ae-9868-e9ec7e7804ef",
   "metadata": {},
   "outputs": [],
   "source": [
    "len(desired_angle_normalized)"
   ]
  },
  {
   "cell_type": "code",
   "execution_count": null,
   "id": "5a85da07-f34a-4c97-aa42-af39b34d8b14",
   "metadata": {},
   "outputs": [],
   "source": [
    "lrf=desired_angle_normalized[600:800:1,5:].tolist()\n",
    "llf=desired_angle_normalized[600:800:1,:5].tolist()"
   ]
  },
  {
   "cell_type": "code",
   "execution_count": null,
   "id": "497dd6ee-92a7-44d9-ad07-7efb3d6240da",
   "metadata": {},
   "outputs": [],
   "source": [
    "LF.send_exe(f\"esp.ta=loop.create_task(from_li({llf},0.03,1))\")\n",
    "RF.send_exe(f\"esp.ta=loop.create_task(from_li({lrf},0.03,1))\")"
   ]
  },
  {
   "cell_type": "code",
   "execution_count": null,
   "id": "bd048d36-8b32-4e71-89e7-87b3e13a22ef",
   "metadata": {},
   "outputs": [],
   "source": [
    "break"
   ]
  },
  {
   "cell_type": "code",
   "execution_count": null,
   "id": "d07b819a-2c26-4013-8a6e-38de2f9be9c7",
   "metadata": {},
   "outputs": [],
   "source": [
    "LF.send_exe(f\"esp.ta.cancel()\")\n",
    "RF.send_exe(f\"esp.ta.cancel()\")"
   ]
  },
  {
   "cell_type": "code",
   "execution_count": null,
   "id": "696cff19-1686-4dee-8936-852ad8a496d3",
   "metadata": {},
   "outputs": [],
   "source": [
    "LF.send_exe(f\"esp.ta\")"
   ]
  },
  {
   "cell_type": "code",
   "execution_count": null,
   "id": "fe58282c-a888-4d60-95d6-46d866be768b",
   "metadata": {},
   "outputs": [],
   "source": []
  },
  {
   "cell_type": "code",
   "execution_count": null,
   "id": "54c10125-17e9-4381-a3ab-a0bb0c4dffaa",
   "metadata": {},
   "outputs": [],
   "source": [
    "# li = [-0.278, 0.6667, 0.8552, -0.7037, -0.6667]\n",
    "\n",
    "# LF.send_exe(f\"esp.pca_moves({li})\")\n"
   ]
  },
  {
   "cell_type": "code",
   "execution_count": null,
   "id": "c935b807-37e5-4532-aedb-49e13c376c76",
   "metadata": {},
   "outputs": [],
   "source": [
    "# li = [0.5353, 0.6667, -0.533, -0.6296, 0.6667]\n",
    "# RF.send_exe(f\"esp.pca_moves({li})\")"
   ]
  },
  {
   "cell_type": "code",
   "execution_count": null,
   "id": "5a32183d-d93f-4e7a-9f15-364b416b988e",
   "metadata": {},
   "outputs": [],
   "source": []
  },
  {
   "cell_type": "code",
   "execution_count": null,
   "id": "9faf7aa0-26a1-4243-bbc7-baabd4daa0e0",
   "metadata": {},
   "outputs": [],
   "source": [
    "LF.send_exe(f\"loop.create_task(g)\")"
   ]
  },
  {
   "cell_type": "code",
   "execution_count": null,
   "id": "bf9740e4-56d3-4f8f-b563-c3d1aa767e5a",
   "metadata": {},
   "outputs": [],
   "source": [
    "LF.send_exe(f\"wlan.ifconfig()\")"
   ]
  },
  {
   "cell_type": "code",
   "execution_count": null,
   "id": "0d36363b-d1af-4918-8d9b-ccc69fcd5526",
   "metadata": {},
   "outputs": [],
   "source": [
    "RF.send_exe(f\"wlan.ifconfig()\")"
   ]
  },
  {
   "cell_type": "code",
   "execution_count": null,
   "id": "4b5c4116-2a53-4b2a-b89f-fca8d2ef583d",
   "metadata": {},
   "outputs": [],
   "source": [
    "RF.ret_list"
   ]
  },
  {
   "cell_type": "code",
   "execution_count": null,
   "id": "eae76cb4-a6ee-4518-949c-b859de4b82f8",
   "metadata": {},
   "outputs": [],
   "source": []
  },
  {
   "cell_type": "code",
   "execution_count": null,
   "id": "618ad39c-c954-447c-92e5-16650abf9294",
   "metadata": {},
   "outputs": [],
   "source": [
    "s.display()"
   ]
  },
  {
   "cell_type": "code",
   "execution_count": null,
   "id": "963c95cf-38e6-47b4-9de4-5cffc25b7fcc",
   "metadata": {},
   "outputs": [],
   "source": [
    "LF.send_exe(f\"esp.ta.cancel()\")"
   ]
  },
  {
   "cell_type": "code",
   "execution_count": null,
   "id": "c48dd135-c843-4287-acf9-1bc3b1a3424f",
   "metadata": {},
   "outputs": [],
   "source": [
    "break"
   ]
  },
  {
   "cell_type": "code",
   "execution_count": null,
   "id": "032f3b5c-73d7-42d8-926a-4a67291c875c",
   "metadata": {},
   "outputs": [],
   "source": []
  },
  {
   "cell_type": "code",
   "execution_count": null,
   "id": "cea562b0-bfb3-4e6d-8222-f4dcd2d6276f",
   "metadata": {},
   "outputs": [],
   "source": [
    "InitL = np.array([90, 90, 0, -90, -90])*(1/135)\n",
    "InitR = np.array([-90, 90, 0, -90, 90])*(1/135)\n",
    "LF.send_exe(f\"esp.pca_moves({InitL.tolist()})\")\n",
    "RF.send_exe(f\"esp.pca_moves({InitR.tolist()})\")"
   ]
  },
  {
   "cell_type": "code",
   "execution_count": null,
   "id": "329b4b46-58ee-419f-b34f-479d0062212f",
   "metadata": {},
   "outputs": [],
   "source": [
    "desL = np.array([90, 30, 0, -90, -90])*(1/135)\n",
    "desR = np.array([-90, 30, 0, -90, 90])*(1/135)\n",
    "LF.send_exe(f\"esp.pca_moves({desL.tolist()})\")\n",
    "RF.send_exe(f\"esp.pca_moves({desR.tolist()})\")"
   ]
  },
  {
   "cell_type": "code",
   "execution_count": null,
   "id": "b1839ce3-6f31-49bc-a8b4-c64cb15201bd",
   "metadata": {},
   "outputs": [],
   "source": []
  }
 ],
 "metadata": {
  "kernelspec": {
   "display_name": "Python 3 (ipykernel)",
   "language": "python",
   "name": "python3"
  },
  "language_info": {
   "codemirror_mode": {
    "name": "ipython",
    "version": 3
   },
   "file_extension": ".py",
   "mimetype": "text/x-python",
   "name": "python",
   "nbconvert_exporter": "python",
   "pygments_lexer": "ipython3",
   "version": "3.12.4"
  }
 },
 "nbformat": 4,
 "nbformat_minor": 5
}
