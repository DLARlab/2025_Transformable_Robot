{
 "cells": [
  {
   "cell_type": "code",
   "execution_count": 1,
   "id": "ahead-bicycle",
   "metadata": {},
   "outputs": [],
   "source": [
    "%run mqtt_thingy.ipynb"
   ]
  },
  {
   "cell_type": "code",
   "execution_count": null,
   "id": "57d3663f-14a9-4959-bbd9-45ea645c0773",
   "metadata": {},
   "outputs": [],
   "source": []
  },
  {
   "cell_type": "raw",
   "id": "bottom-father",
   "metadata": {},
   "source": [
    "from multiprocessing.managers import BaseManager\n",
    "class QueueManager(BaseManager): pass\n",
    "\n",
    "\n",
    "QueueManager.register('qo')\n",
    "\n",
    "m = QueueManager(address=('host.docker.internal', 8881), authkey=b'howdy')\n",
    "m.connect()\n",
    "\n",
    "q = m.qo()"
   ]
  },
  {
   "cell_type": "code",
   "execution_count": 2,
   "id": "engaged-sullivan",
   "metadata": {},
   "outputs": [
    {
     "name": "stdout",
     "output_type": "stream",
     "text": [
      "/home/dlar58/Documents/transformable-robot-hardware/Hardware_Control_ESP32/util_interfaces\n",
      "info\n",
      "        \n",
      "        Always be aware that this version of dashboard is instanced when defination.\n",
      "        Which means that there cannot be two dashboard in the same ipynb kernel.\n",
      "        \n",
      "        \n"
     ]
    },
    {
     "data": {
      "application/vnd.jupyter.widget-view+json": {
       "model_id": "9aff94df2602470a871cb03c304b2e13",
       "version_major": 2,
       "version_minor": 0
      },
      "text/plain": [
       "Box(children=(Button(description='buttoner', disabled=True, layout=Layout(height='30px', width='auto'), style=…"
      ]
     },
     "metadata": {},
     "output_type": "display_data"
    },
    {
     "data": {
      "application/vnd.jupyter.widget-view+json": {
       "model_id": "81a1d95af35a4b929e45f36864d9d162",
       "version_major": 2,
       "version_minor": 0
      },
      "text/plain": [
       "Box(children=(StateButton(description='loop_timer', layout=Layout(height='30px'), style=ButtonStyle(button_col…"
      ]
     },
     "metadata": {},
     "output_type": "display_data"
    }
   ],
   "source": [
    "%cd ./util_interfaces/\n",
    "%run advance_dashboard.ipynb"
   ]
  },
  {
   "cell_type": "code",
   "execution_count": null,
   "id": "alternative-boards",
   "metadata": {},
   "outputs": [],
   "source": []
  },
  {
   "cell_type": "code",
   "execution_count": 3,
   "id": "a119fbf7-7cbc-4ab3-93f9-f54dcc5ab446",
   "metadata": {},
   "outputs": [],
   "source": [
    "    # R1=Responder((\"10.144.113.5\",1885),\"ho1_ret\")\n",
    "    # R1.to=\"ho1\""
   ]
  },
  {
   "cell_type": "code",
   "execution_count": 4,
   "id": "e81ba11f-57e2-40ff-bf96-fe022b638b18",
   "metadata": {},
   "outputs": [
    {
     "name": "stderr",
     "output_type": "stream",
     "text": [
      "/tmp/ipykernel_276731/1161333552.py:8: DeprecationWarning: Callback API version 1 is deprecated, update to latest version\n",
      "  client = mqtt.Client()\n"
     ]
    }
   ],
   "source": [
    "    LF=Responder((\"10.144.113.5\",1885),\"ho3_ret\")\n",
    "    LF.to=\"ho3\""
   ]
  },
  {
   "cell_type": "code",
   "execution_count": 5,
   "id": "e53be792-ef41-472a-86c3-d59285dc5fd4",
   "metadata": {},
   "outputs": [
    {
     "name": "stdout",
     "output_type": "stream",
     "text": [
      "Connected successfully!\n"
     ]
    },
    {
     "name": "stderr",
     "output_type": "stream",
     "text": [
      "/tmp/ipykernel_276731/1161333552.py:8: DeprecationWarning: Callback API version 1 is deprecated, update to latest version\n",
      "  client = mqtt.Client()\n"
     ]
    }
   ],
   "source": [
    "    RF=Responder((\"10.144.113.5\",1885),\"ho2_ret\")\n",
    "    RF.to=\"ho2\""
   ]
  },
  {
   "cell_type": "code",
   "execution_count": 6,
   "id": "twenty-judges",
   "metadata": {},
   "outputs": [
    {
     "name": "stdout",
     "output_type": "stream",
     "text": [
      "Connected successfully!\n"
     ]
    }
   ],
   "source": [
    "def rett(task):\n",
    "    k=ipywidgets.Textarea(layout=ipywidgets.Layout(width='500px', height='100px'))\n",
    "    task.start()\n",
    "    return (k,)\n",
    "\n",
    "@TaskHandlerButtonAdvanced.add_to_state_button(s, rett)\n",
    "async def control_loop(task, sleep_interval=0.05, keep_len=10):\n",
    "    global actions\n",
    "    obs = task.widgets[0]\n",
    "    \n",
    "    @loop(sleep_interval)\n",
    "    def go():\n",
    "        obs.value=\"\\n\".join([str(i) for i in LF.ret_list][::-1])\n",
    "    \n",
    "    # await asyncio.gather(R.loop_recv(),go())\n",
    "    await asyncio.gather(go())\n",
    "t=control_loop(\"control_loop\")"
   ]
  },
  {
   "cell_type": "code",
   "execution_count": 7,
   "id": "determined-treasurer",
   "metadata": {},
   "outputs": [],
   "source": [
    "await asyncio.sleep(0.1)"
   ]
  },
  {
   "cell_type": "code",
   "execution_count": 8,
   "id": "e3d99544-60b8-4738-8187-bc22b609b21b",
   "metadata": {},
   "outputs": [],
   "source": [
    "# Import required libraries\n",
    "import numpy as np\n",
    "import matplotlib.pyplot as plt\n",
    "from scipy.integrate import solve_ivp\n",
    "\n",
    "import time\n"
   ]
  },
  {
   "cell_type": "code",
   "execution_count": null,
   "id": "cleared-bulgarian",
   "metadata": {},
   "outputs": [],
   "source": []
  },
  {
   "cell_type": "raw",
   "id": "abcac898-e580-4777-85e5-bf4e691000a3",
   "metadata": {},
   "source": [
    "InitL = np.array([0, 0, 0, 0, 0])*(1/135)\n",
    "InitR = np.array([0, 0, 0, 0, 0])*(1/135)\n",
    "LF.send_exe(f\"esp.pca_moves({InitL.tolist()})\")\n",
    "RF.send_exe(f\"esp.pca_moves({InitR.tolist()})\")"
   ]
  },
  {
   "cell_type": "code",
   "execution_count": 9,
   "id": "b577bf58-6b65-4082-8cc4-2bd493fcb7a4",
   "metadata": {},
   "outputs": [],
   "source": [
    "await asyncio.sleep(1)"
   ]
  },
  {
   "cell_type": "code",
   "execution_count": 10,
   "id": "collective-dryer",
   "metadata": {},
   "outputs": [
    {
     "data": {
      "application/vnd.jupyter.widget-view+json": {
       "model_id": "9aff94df2602470a871cb03c304b2e13",
       "version_major": 2,
       "version_minor": 0
      },
      "text/plain": [
       "Box(children=(Button(description='buttoner', disabled=True, layout=Layout(height='30px', width='auto'), style=…"
      ]
     },
     "metadata": {},
     "output_type": "display_data"
    },
    {
     "data": {
      "application/vnd.jupyter.widget-view+json": {
       "model_id": "81a1d95af35a4b929e45f36864d9d162",
       "version_major": 2,
       "version_minor": 0
      },
      "text/plain": [
       "Box(children=(StateButton(description='loop_timer', layout=Layout(height='30px'), style=ButtonStyle(button_col…"
      ]
     },
     "metadata": {},
     "output_type": "display_data"
    },
    {
     "data": {
      "application/vnd.jupyter.widget-view+json": {
       "model_id": "c07c8c92f25b47d2b9de6f24e17462fb",
       "version_major": 2,
       "version_minor": 0
      },
      "text/plain": [
       "Box(children=(StateButton(description='control_loop', layout=Layout(height='30px'), style=ButtonStyle(button_c…"
      ]
     },
     "metadata": {},
     "output_type": "display_data"
    }
   ],
   "source": [
    "s.display()"
   ]
  },
  {
   "cell_type": "raw",
   "id": "2f7cb3ac-d12f-4c45-8c96-4899eda7a8c4",
   "metadata": {},
   "source": [
    "InitL = np.array([0, 0, 45, 45, 45])*(1/135)\n",
    "InitR = np.array([0, 0, -45, 45, -45])*(1/135)\n",
    "LF.send_exe(f\"esp.pca_moves({InitL.tolist()})\")\n",
    "RF.send_exe(f\"esp.pca_moves({InitR.tolist()})\")"
   ]
  },
  {
   "cell_type": "raw",
   "id": "5b1d9657-9ee7-46d3-b160-1796219acd2a",
   "metadata": {},
   "source": []
  },
  {
   "cell_type": "code",
   "execution_count": null,
   "id": "a8877254-c107-4067-a047-b54195e56082",
   "metadata": {},
   "outputs": [],
   "source": []
  },
  {
   "cell_type": "code",
   "execution_count": null,
   "id": "9bcb6b2b-9a71-437b-8720-9f48a161335a",
   "metadata": {},
   "outputs": [],
   "source": []
  },
  {
   "cell_type": "code",
   "execution_count": 11,
   "id": "417e1778-3729-417a-a37d-4cea287a56fd",
   "metadata": {},
   "outputs": [],
   "source": [
    "#%% Define constants and parameters\n",
    "\n",
    "n = 10\n",
    "\n",
    "# Frequency\n",
    "omega_val = 2 * np.pi\n",
    "omega = np.ones(n) * omega_val\n",
    "\n",
    "# Convergence rate\n",
    "mu_const = 1\n",
    "mu = np.ones(n) * mu_const\n",
    "\n",
    "# Amplitude\n",
    "a_val = 10\n",
    "a_param = np.ones(n) * a_val\n"
   ]
  },
  {
   "cell_type": "code",
   "execution_count": 12,
   "id": "9b0c95f8-facf-4d45-9253-f5cea5fe044d",
   "metadata": {},
   "outputs": [],
   "source": [
    "## In the current bipedal configuration\n",
    "## Motor 1, 3 ,5 will have opposite joint angles\n",
    "## Motor 2, 4 will have identical joint angles"
   ]
  },
  {
   "cell_type": "code",
   "execution_count": 13,
   "id": "9d5ebb21-1a4b-4de3-87ff-8c86126a06cc",
   "metadata": {},
   "outputs": [],
   "source": [
    "#%% Define constants and parameters\n",
    "\n",
    "n = 5 # for one single leg\n",
    "\n",
    "# Frequency\n",
    "omega_val = 2 * np.pi*0.1\n",
    "omegaLF = np.ones(n) * omega_val\n",
    "omegaRF = np.ones(n) * omega_val\n",
    "\n",
    "\n",
    "# Convergence rate\n",
    "mu_const = 1\n",
    "muLF = np.ones(n) * mu_const\n",
    "muRF = np.ones(n) * mu_const\n",
    "\n",
    "\n",
    "# Amplitude\n",
    "a_val = 10\n",
    "a_paramLF = np.ones(n) * a_val\n",
    "a_paramRF = np.ones(n) * a_val\n",
    "\n",
    "\n",
    "\n",
    "# Tune the code after these:\n",
    "\n",
    "\n",
    "R_ampLF = np.array([20, 60, 45, 0 ,0.])\n",
    "# R_ampLF = np.array([20, 60, 45, 0 ,0.])*1.15\n",
    "\n",
    "R_ampRF = np.array([ -20, 60, -45, 0, -0.0])\n",
    "# R_ampRF = np.array([ -20, 60, -45, 0, -0.0])*1.15\n",
    "\n",
    "\n",
    "\n",
    "# # Mechanical offsets\n",
    "# los = np.array([3, 3, 3, 3, 3])\n",
    "# ros = np.array([-12, -12, -12, -12, -12])\n",
    "\n",
    "\n",
    "# Joint offsets: For integration\n",
    "\n",
    "OffsetsLF = np.array([95, 0, 5, -97, -90])\n",
    "OffsetsRF = np.array([-100, 0, 5, -83, 85])\n",
    "\n",
    "\n",
    "# OffsetsLF = np.array([90, 0, 0, -90, -90])*0.9\n",
    "# OffsetsRF = np.array([-90, 0, -0, -90, 90])*1.1\n",
    "\n",
    "\n",
    "\n",
    "# Desired phase differences\n",
    "\n",
    "# high-level phase: LF, RF\n",
    "# To change the initial condition of integration, as a high level CPG parameter\n",
    "phi_tilde_high = [0, 0]   # for two legs synchronized\n",
    "# phi_tilde_high = [0, np.pi]   # phase delays of between two legs: half of the period\n",
    "\n",
    "\n",
    "# phi_tilde = [0, 1*np.pi, 1*np.pi, 0*np.pi, 0*np.pi,    0, 1*np.pi, 1*np.pi, 0*np.pi, 0*np.pi]  # forward： hop\n",
    "phi_tilde_lf = [0, 1*np.pi, 1*np.pi, 0*np.pi, 0*np.pi]\n",
    "phi_tilde_rf = [0, 1*np.pi, 1*np.pi, 0*np.pi, 0*np.pi]\n",
    "\n",
    "theta_tilde_lf=[phi_tilde_lf[i+1]-phi_tilde_lf[i] for i in range(4)]\n",
    "theta_tilde_rf=[phi_tilde_rf[i+1]-phi_tilde_rf[i] for i in range(4)]\n",
    "\n",
    "\n",
    "# phi_tilde = [0, 1*np.pi, 1*np.pi, 0*np.pi, 0*np.pi,    np.pi, 2*np.pi, 2*np.pi, 1*np.pi, 1*np.pi]  # forward： walk\n",
    "\n",
    "phi_tilde_lf = [0, 1*np.pi, 1*np.pi, 0*np.pi, 0*np.pi]\n",
    "phi_tilde_rf = [0, 1*np.pi, 1*np.pi, 0*np.pi, 0*np.pi]\n",
    "# phi_tilde_rf = [x + phi_tilde_high[1] for x in phi_tilde_rf]\n",
    "\n",
    "theta_tilde_lf=[phi_tilde_lf[i+1]-phi_tilde_lf[i] for i in range(4)]\n",
    "theta_tilde_rf=[phi_tilde_rf[i+1]-phi_tilde_rf[i] for i in range(4)]\n",
    "\n",
    "\n",
    "\n",
    "# phi_tilde = [0, 0, np.pi/2, 0, 0, 0, 0, 0, 0, 0]  # turning\n",
    "\n",
    "# theta_tilde=[phi_tilde[i+1]-phi_tilde[i] for i in range(9)]\n",
    "\n",
    "#%% ODE setup\n",
    "phi0_lf = np.zeros(n)   # initial phases\n",
    "r0_lf   = np.zeros(n)   # initial amplitudes\n",
    "dr0_lf  = np.zeros(n)   # initial amplitude derivatives\n",
    "\n",
    "x0_lf = np.concatenate((phi0_lf, r0_lf, dr0_lf))\n",
    "\n",
    "\n",
    "phi0_rf = np.zeros(n) + phi_tilde_high[1]   # initial phases\n",
    "r0_rf   = np.zeros(n)   # initial amplitudes\n",
    "dr0_rf  = np.zeros(n)   # initial amplitude derivatives\n",
    "\n",
    "x0_rf = np.concatenate((phi0_rf, r0_rf, dr0_rf))\n"
   ]
  },
  {
   "cell_type": "code",
   "execution_count": 14,
   "id": "861e427b-d9f3-4f91-9266-9609a5b4b99e",
   "metadata": {},
   "outputs": [],
   "source": [
    "#%% Matrices A and B\n",
    "A = np.zeros((n, n))\n",
    "A[0, 0] = -mu[0]\n",
    "if n >= 2:\n",
    "    A[0, 1] = mu[1]\n",
    "for i in range(1, n - 1):\n",
    "    A[i, i - 1] = mu[i]\n",
    "    A[i, i]     = -2 * mu[i]\n",
    "    A[i, i + 1] = mu[i]\n",
    "A[n - 1, n - 2] = mu[n - 1]\n",
    "A[n - 1, n - 1] = -mu[n - 1]\n",
    "\n",
    "B = np.zeros((n, n - 1))\n",
    "B[0, 0] = 1\n",
    "for i in range(1, n - 1):\n",
    "    B[i, i - 1] = -1\n",
    "    B[i, i]     = 1\n",
    "B[n - 1, n - 2] = -1\n",
    "\n",
    "\n",
    "dt = 0.05 # time step\n",
    "t_span = (0, 20)  # simulate for 20 seconds\n",
    "t_eval = np.linspace(t_span[0], t_span[1], int(t_span[1]/dt)) # time points: based on dt and t_span\n",
    "\n",
    "#%% ODE function definition\n",
    "def cpgODE(t, x, omega, A, B, theta_tilde, a_param, R_amp, n):\n",
    "    \"\"\"\n",
    "    Compute the derivatives for the CPG system.\n",
    "    x is [phi, r, dr] with each block of length n.\n",
    "    Returns: [dphi; dr; ddr]\n",
    "    \"\"\"\n",
    "    phi = x[0:n]\n",
    "    r   = x[n:2*n]\n",
    "    dr  = x[2*n:3*n]\n",
    "\n",
    "    # Phase derivatives\n",
    "    dphi = omega + A.dot(phi) + B.dot(theta_tilde)\n",
    "\n",
    "    # Second derivatives for amplitude\n",
    "    ddr = a_param * ((a_param / 4) * (R_amp - r) - dr)\n",
    "\n",
    "    # Note: The derivative of r is dr (not r)\n",
    "    return np.concatenate((dphi, dr, ddr))\n",
    "\n",
    "#%% Solve the ODE\n",
    "sol_lf = solve_ivp(\n",
    "    lambda t, y: cpgODE(t, y, omegaLF, A, B, theta_tilde_lf, a_paramLF, R_ampLF, n),\n",
    "    t_span,\n",
    "    x0_lf,\n",
    "    t_eval=t_eval\n",
    ")\n",
    "\n",
    "sol_rf = solve_ivp(\n",
    "    lambda t, y: cpgODE(t, y, omegaRF, A, B, theta_tilde_rf, a_paramRF, R_ampRF, n),\n",
    "    t_span,\n",
    "    x0_rf,\n",
    "    t_eval=t_eval\n",
    ")\n",
    "\n",
    "\n",
    "t_lf = sol_lf.t\n",
    "x_lf = sol_lf.y.T  # shape (time_points, 3*n)\n",
    "\n",
    "t_rf = sol_rf.t\n",
    "x_rf = sol_rf.y.T  # shape (time_points, 3*n)\n",
    "\n",
    "\n",
    "\n",
    "#%% Extract the results\n",
    "phi_lf = x_lf[:, :n]          # phases\n",
    "r_lf   = x_lf[:, n:2*n]       # amplitudes\n",
    "dr_lf  = x_lf[:, 2*n:3*n]     # amplitude derivatives\n",
    "\n",
    "\n",
    "#%% Extract the results\n",
    "phi_rf = x_rf[:, :n]          # phases\n",
    "r_rf   = x_rf[:, n:2*n]       # amplitudes\n",
    "dr_rf  = x_rf[:, 2*n:3*n]     # amplitude derivatives\n",
    "\n",
    "\n",
    "# Compute the rhythmic output signals: x_i = r_i * sin(phi_i)\n",
    "desired_angle_lf = r_lf * np.sin(phi_lf) + np.ones(phi_lf.shape)*OffsetsLF\n",
    "desired_angle_rf = r_rf * np.sin(phi_rf) + np.ones(phi_rf.shape)*OffsetsRF\n",
    "\n",
    "normalize_min = -135\n",
    "normalize_max = 135"
   ]
  },
  {
   "cell_type": "code",
   "execution_count": 15,
   "id": "3fcbab00-9bb8-4a32-baa5-a5b34eaa306f",
   "metadata": {},
   "outputs": [],
   "source": [
    "# phi_rf[200,0] - phi_rf[200,1]"
   ]
  },
  {
   "cell_type": "code",
   "execution_count": 16,
   "id": "4a133a26-4fb7-41eb-baf9-efdb7e1a9235",
   "metadata": {},
   "outputs": [],
   "source": [
    "# Normalize the output from -1 to 1\n",
    "desired_angle_lf_normalized = (desired_angle_lf - normalize_min) / (normalize_max - normalize_min) * 2 - 1\n",
    "desired_angle_rf_normalized = (desired_angle_rf - normalize_min) / (normalize_max - normalize_min) * 2 - 1\n",
    "\n",
    "# Change the decimal length\n",
    "desired_angle_lf_normalized = np.round(desired_angle_lf_normalized,4)\n",
    "desired_angle_rf_normalized = np.round(desired_angle_rf_normalized,4)"
   ]
  },
  {
   "cell_type": "code",
   "execution_count": 17,
   "id": "273a73b0-e6a1-44b4-b7ee-ba7649176e58",
   "metadata": {},
   "outputs": [
    {
     "data": {
      "image/png": "[encoded data removed]",
      "text/plain": [
       "<Figure size 1200x1000 with 10 Axes>"
      ]
     },
     "metadata": {},
     "output_type": "display_data"
    }
   ],
   "source": [
    "# Create a figure with n rows and 2 columns\n",
    "fig, axs = plt.subplots(n, 2, figsize=(12, 2 * n), sharex='col', sharey=True)\n",
    "\n",
    "# Loop over each oscillator to plot its corresponding row\n",
    "for i in range(n):\n",
    "    # Left column: plots for the first dataset\n",
    "    axs[i, 0].plot(t_lf, desired_angle_lf[:, i], linewidth=1.5)\n",
    "    axs[i, 0].set_ylabel(f'x_{i+1}')\n",
    "    axs[i, 0].grid(True)\n",
    "    axs[i, 0].set_ylim(-135, 135)\n",
    "    \n",
    "    # Right column: plots for the second dataset\n",
    "    axs[i, 1].plot(t_rf, desired_angle_rf[:, i], linewidth=1.5)\n",
    "    axs[i, 1].set_ylabel(f'x_{i+1}')\n",
    "    axs[i, 1].grid(True)\n",
    "    axs[i, 1].set_ylim(-135, 135)\n",
    "\n",
    "# Add a common x-label and a title for the entire figure\n",
    "fig.text(0.5, 0.04, 'Time (s)', ha='center', va='center')\n",
    "fig.suptitle('CPG Output Signals', y=0.98)\n",
    "\n",
    "plt.tight_layout(rect=[0, 0.03, 1, 0.95])\n",
    "plt.show()\n"
   ]
  },
  {
   "cell_type": "code",
   "execution_count": 18,
   "id": "6657fe77-1e36-4046-9fcd-faf0f1986705",
   "metadata": {},
   "outputs": [],
   "source": [
    "# dir_map = np.array([-1, 1, -1, 1, -1])\n",
    "\n",
    "# desired_angle_lf[40,:] - desired_angle_rf[40,:]*dir_map"
   ]
  },
  {
   "cell_type": "code",
   "execution_count": 19,
   "id": "1621c0ea-5bad-4980-aef7-8665f9cd2ead",
   "metadata": {},
   "outputs": [],
   "source": [
    "# pps = int(2*np.pi/(phi_rf[11,1]-phi_rf[10,1]))"
   ]
  },
  {
   "cell_type": "code",
   "execution_count": 20,
   "id": "83d0d79b-6213-4fb2-a18d-079a261b4879",
   "metadata": {},
   "outputs": [],
   "source": [
    "# pps"
   ]
  },
  {
   "cell_type": "code",
   "execution_count": 21,
   "id": "55950c74-2255-40bd-9a97-2e7008947d09",
   "metadata": {},
   "outputs": [],
   "source": [
    "# # Create a figure with n rows and 2 columns\n",
    "# fig, axs = plt.subplots(n, 2, figsize=(12, 2 * n), sharex='col', sharey=True)\n",
    "\n",
    "# # Loop over each oscillator to plot its corresponding row\n",
    "# for i in range(n):\n",
    "#     # Left column: plots for the first dataset\n",
    "#     axs[i, 0].plot(t_lf[2*pps:3*pps:1], desired_angle_lf[2*pps:3*pps, i], linewidth=1.5)\n",
    "#     axs[i, 0].set_ylabel(f'x_{i+1}')\n",
    "#     axs[i, 0].grid(True)\n",
    "#     axs[i, 0].set_ylim(-135, 135)\n",
    "    \n",
    "#     # Right column: plots for the second dataset\n",
    "#     axs[i, 1].plot(t_rf[2*pps:3*pps:1], desired_angle_rf[2*pps:3*pps, i], linewidth=1.5)\n",
    "#     axs[i, 1].set_ylabel(f'x_{i+1}')\n",
    "#     axs[i, 1].grid(True)\n",
    "#     axs[i, 1].set_ylim(-135, 135)\n",
    "\n",
    "# # Add a common x-label and a title for the entire figure\n",
    "# fig.text(0.5, 0.04, 'Time (s)', ha='center', va='center')\n",
    "# fig.suptitle('CPG Output Signals', y=0.98)\n",
    "\n",
    "# plt.tight_layout(rect=[0, 0.03, 1, 0.95])\n",
    "# plt.show()\n"
   ]
  },
  {
   "cell_type": "code",
   "execution_count": 22,
   "id": "15a70ee8-15e3-4b69-881d-5b2b9c139c61",
   "metadata": {},
   "outputs": [
    {
     "data": {
      "text/plain": [
       "-254"
      ]
     },
     "execution_count": 22,
     "metadata": {},
     "output_type": "execute_result"
    }
   ],
   "source": [
    "pps = int(2*np.pi/(phi_rf[11,1]-phi_rf[10,1]))\n",
    "pps"
   ]
  },
  {
   "cell_type": "code",
   "execution_count": 23,
   "id": "821536f1-526b-4d4d-b4f4-17db8d071e31",
   "metadata": {},
   "outputs": [
    {
     "ename": "SyntaxError",
     "evalue": "'break' outside loop (668683560.py, line 1)",
     "output_type": "error",
     "traceback": [
      "\u001b[0;36m  Cell \u001b[0;32mIn[23], line 1\u001b[0;36m\u001b[0m\n\u001b[0;31m    break\u001b[0m\n\u001b[0m    ^\u001b[0m\n\u001b[0;31mSyntaxError\u001b[0m\u001b[0;31m:\u001b[0m 'break' outside loop\n"
     ]
    }
   ],
   "source": [
    "break"
   ]
  },
  {
   "cell_type": "code",
   "execution_count": 25,
   "id": "b64b3ea7-a48b-46cf-9675-dffc38bcbcf0",
   "metadata": {},
   "outputs": [
    {
     "ename": "IndexError",
     "evalue": "index 508 is out of bounds for axis 0 with size 400",
     "output_type": "error",
     "traceback": [
      "\u001b[0;31m---------------------------------------------------------------------------\u001b[0m",
      "\u001b[0;31mIndexError\u001b[0m                                Traceback (most recent call last)",
      "Cell \u001b[0;32mIn[25], line 3\u001b[0m\n\u001b[1;32m      1\u001b[0m pps \u001b[38;5;241m=\u001b[39m \u001b[38;5;241m-\u001b[39m\u001b[38;5;28mint\u001b[39m(\u001b[38;5;241m2\u001b[39m\u001b[38;5;241m*\u001b[39mnp\u001b[38;5;241m.\u001b[39mpi\u001b[38;5;241m/\u001b[39m(phi_rf[\u001b[38;5;241m11\u001b[39m,\u001b[38;5;241m1\u001b[39m]\u001b[38;5;241m-\u001b[39mphi_rf[\u001b[38;5;241m10\u001b[39m,\u001b[38;5;241m1\u001b[39m]))\n\u001b[0;32m----> 3\u001b[0m llf_pre \u001b[38;5;241m=\u001b[39m desired_angle_lf_normalized[\u001b[38;5;241m2\u001b[39m\u001b[38;5;241m*\u001b[39mpps,:]\n\u001b[1;32m      4\u001b[0m lrf_pre \u001b[38;5;241m=\u001b[39m desired_angle_rf_normalized[\u001b[38;5;241m2\u001b[39m\u001b[38;5;241m*\u001b[39mpps,:]\n\u001b[1;32m      6\u001b[0m \u001b[38;5;66;03m# llf_pre[0] = llf_pre[0] + 10/135\u001b[39;00m\n",
      "\u001b[0;31mIndexError\u001b[0m: index 508 is out of bounds for axis 0 with size 400"
     ]
    }
   ],
   "source": [
    "pps = -int(2*np.pi/(phi_rf[11,1]-phi_rf[10,1]))\n",
    "\n",
    "llf_pre = desired_angle_lf_normalized[2*pps,:]\n",
    "lrf_pre = desired_angle_rf_normalized[2*pps,:]\n",
    "\n",
    "# llf_pre[0] = llf_pre[0] + 10/135\n",
    "\n",
    "LF.send_exe(f\"esp.pca_moves({llf_pre.tolist()})\")\n",
    "RF.send_exe(f\"esp.pca_moves({lrf_pre.tolist()})\")\n",
    "\n",
    "await asyncio.sleep(1)\n",
    "\n",
    "# break"
   ]
  },
  {
   "cell_type": "code",
   "execution_count": null,
   "id": "41dfa4ad-ba43-452e-9f55-7d42d7d29c55",
   "metadata": {},
   "outputs": [],
   "source": [
    "pps = int(2*np.pi/(phi_rf[11,1]-phi_rf[10,1]))\n",
    "\n",
    "llf = desired_angle_lf_normalized[2*pps:3*pps:1,:].tolist()\n",
    "lrf = desired_angle_rf_normalized[2*pps:3*pps:1,:].tolist()\n",
    "\n",
    "LF.send_exe(f\"esp.ta=loop.create_task(from_li({llf},0.1,1))\")\n",
    "RF.send_exe(f\"esp.ta=loop.create_task(from_li({lrf},0.1,1))\")\n"
   ]
  },
  {
   "cell_type": "code",
   "execution_count": null,
   "id": "f58172a1-303a-4ed9-9eae-5974e3bd055e",
   "metadata": {},
   "outputs": [],
   "source": [
    "pps = int(2*np.pi/(phi_rf[11,1]-phi_rf[10,1]))"
   ]
  },
  {
   "cell_type": "code",
   "execution_count": 27,
   "id": "24f2b263-5e59-499a-aaef-1b4ebec6c9c0",
   "metadata": {},
   "outputs": [],
   "source": [
    "llf = desired_angle_lf_normalized[100:300:1,:].tolist()\n",
    "lrf = desired_angle_rf_normalized[100:300:1,:].tolist()\n",
    "\n",
    "LF.send_exe(f\"esp.ta=loop.create_task(from_li({llf},0.1,1))\")\n",
    "RF.send_exe(f\"esp.ta=loop.create_task(from_li({lrf},0.1,1))\")"
   ]
  },
  {
   "cell_type": "code",
   "execution_count": null,
   "id": "1fa58e10-8f2c-42ab-a97e-260b34e2076a",
   "metadata": {},
   "outputs": [],
   "source": []
  },
  {
   "cell_type": "code",
   "execution_count": null,
   "id": "08ff13c6-eb0b-4629-9d1c-18379b00ee90",
   "metadata": {},
   "outputs": [],
   "source": [
    "LF.send_exe(f\"esp.ta.cancel()\")\n",
    "RF.send_exe(f\"esp.ta.cancel()\")"
   ]
  },
  {
   "cell_type": "code",
   "execution_count": null,
   "id": "b2fc0485-eeb4-46f3-a14e-8c3808d941df",
   "metadata": {},
   "outputs": [],
   "source": [
    "InitL = np.array([0, 0, 0, 0, 0])*(1/135)\n",
    "InitR = np.array([0, 0, 0, 0, 0])*(1/135)\n",
    "LF.send_exe(f\"esp.pca_moves({InitL.tolist()})\")\n",
    "RF.send_exe(f\"esp.pca_moves({InitR.tolist()})\")"
   ]
  },
  {
   "cell_type": "code",
   "execution_count": null,
   "id": "54c10125-17e9-4381-a3ab-a0bb0c4dffaa",
   "metadata": {},
   "outputs": [],
   "source": [
    "# li = [-0.278, 0.6667, 0.8552, -0.7037, -0.6667]\n",
    "\n",
    "# LF.send_exe(f\"esp.pca_moves({li})\")\n"
   ]
  },
  {
   "cell_type": "code",
   "execution_count": null,
   "id": "c935b807-37e5-4532-aedb-49e13c376c76",
   "metadata": {},
   "outputs": [],
   "source": [
    "# li = [0.5353, 0.6667, -0.533, -0.6296, 0.6667]\n",
    "# RF.send_exe(f\"esp.pca_moves({li})\")"
   ]
  },
  {
   "cell_type": "code",
   "execution_count": null,
   "id": "c48dd135-c843-4287-acf9-1bc3b1a3424f",
   "metadata": {},
   "outputs": [],
   "source": []
  },
  {
   "cell_type": "code",
   "execution_count": null,
   "id": "032f3b5c-73d7-42d8-926a-4a67291c875c",
   "metadata": {},
   "outputs": [],
   "source": [
    "# InitL = np.array([3, 3, 3, 3, 3])*(1/135)\n",
    "# # InitR = np.array([-12, -12, -12, -12, -12])*(1/135)\n",
    "# LF.send_exe(f\"esp.pca_moves({InitL.tolist()})\")\n",
    "# RF.send_exe(f\"esp.pca_moves({InitR.tolist()})\")"
   ]
  },
  {
   "cell_type": "code",
   "execution_count": null,
   "id": "cea562b0-bfb3-4e6d-8222-f4dcd2d6276f",
   "metadata": {},
   "outputs": [],
   "source": [
    "# InitL = np.array([90, 90, 0, -90, -90])*(1/135)\n",
    "# InitR = np.array([-90, 90, 0, -90, 90])*(1/135)\n",
    "# LF.send_exe(f\"esp.pca_moves({InitL.tolist()})\")\n",
    "# RF.send_exe(f\"esp.pca_moves({InitR.tolist()})\")"
   ]
  },
  {
   "cell_type": "code",
   "execution_count": null,
   "id": "329b4b46-58ee-419f-b34f-479d0062212f",
   "metadata": {},
   "outputs": [],
   "source": [
    "desL = np.array([0, 0, 0, 0, 0])*(1/135)\n",
    "desR = np.array([0, 0, 0, 0, 0])*(1/135)\n",
    "LF.send_exe(f\"esp.pca_moves({desL.tolist()})\")\n",
    "RF.send_exe(f\"esp.pca_moves({desR.tolist()})\")"
   ]
  },
  {
   "cell_type": "code",
   "execution_count": null,
   "id": "b1839ce3-6f31-49bc-a8b4-c64cb15201bd",
   "metadata": {},
   "outputs": [],
   "source": [
    "break"
   ]
  },
  {
   "cell_type": "code",
   "execution_count": null,
   "id": "59bbdab0-99c2-4229-a780-0ac178c15435",
   "metadata": {},
   "outputs": [],
   "source": [
    "LF.send_exe(f\"esp.ta.cancel()\")\n",
    "RF.send_exe(f\"esp.ta.cancel()\")"
   ]
  },
  {
   "cell_type": "code",
   "execution_count": null,
   "id": "1f0f3f16-40e8-4ae9-a4b3-0074451e73bb",
   "metadata": {},
   "outputs": [],
   "source": []
  }
 ],
 "metadata": {
  "kernelspec": {
   "display_name": "Python 3 (ipykernel)",
   "language": "python",
   "name": "python3"
  },
  "language_info": {
   "codemirror_mode": {
    "name": "ipython",
    "version": 3
   },
   "file_extension": ".py",
   "mimetype": "text/x-python",
   "name": "python",
   "nbconvert_exporter": "python",
   "pygments_lexer": "ipython3",
   "version": "3.12.4"
  }
 },
 "nbformat": 4,
 "nbformat_minor": 5
}
