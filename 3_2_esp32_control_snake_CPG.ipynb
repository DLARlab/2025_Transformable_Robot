{
 "cells": [
  {
   "cell_type": "code",
   "execution_count": 1,
   "id": "ahead-bicycle",
   "metadata": {},
   "outputs": [],
   "source": [
    "%run mqtt_thingy.ipynb"
   ]
  },
  {
   "cell_type": "code",
   "execution_count": null,
   "id": "57d3663f-14a9-4959-bbd9-45ea645c0773",
   "metadata": {},
   "outputs": [],
   "source": []
  },
  {
   "cell_type": "raw",
   "id": "bottom-father",
   "metadata": {},
   "source": [
    "from multiprocessing.managers import BaseManager\n",
    "class QueueManager(BaseManager): pass\n",
    "\n",
    "\n",
    "QueueManager.register('qo')\n",
    "\n",
    "m = QueueManager(address=('host.docker.internal', 8881), authkey=b'howdy')\n",
    "m.connect()\n",
    "\n",
    "q = m.qo()"
   ]
  },
  {
   "cell_type": "code",
   "execution_count": 2,
   "id": "engaged-sullivan",
   "metadata": {},
   "outputs": [
    {
     "name": "stdout",
     "output_type": "stream",
     "text": [
      "/home/dlar58/Documents/transformable-robot-hardware/Hardware_Control_ESP32/util_interfaces\n",
      "info\n",
      "        \n",
      "        Always be aware that this version of dashboard is instanced when defination.\n",
      "        Which means that there cannot be two dashboard in the same ipynb kernel.\n",
      "        \n",
      "        \n"
     ]
    },
    {
     "data": {
      "application/vnd.jupyter.widget-view+json": {
       "model_id": "8dfba2d5542e470d925b4cdcdb5d23b0",
       "version_major": 2,
       "version_minor": 0
      },
      "text/plain": [
       "Box(children=(Button(description='buttoner', disabled=True, layout=Layout(height='30px', width='auto'), style=…"
      ]
     },
     "metadata": {},
     "output_type": "display_data"
    },
    {
     "data": {
      "application/vnd.jupyter.widget-view+json": {
       "model_id": "b404e3de4de4438e9767579866f4cff3",
       "version_major": 2,
       "version_minor": 0
      },
      "text/plain": [
       "Box(children=(StateButton(description='loop_timer', layout=Layout(height='30px'), style=ButtonStyle(button_col…"
      ]
     },
     "metadata": {},
     "output_type": "display_data"
    }
   ],
   "source": [
    "%cd ./util_interfaces/\n",
    "%run advance_dashboard.ipynb"
   ]
  },
  {
   "cell_type": "code",
   "execution_count": null,
   "id": "alternative-boards",
   "metadata": {},
   "outputs": [],
   "source": []
  },
  {
   "cell_type": "code",
   "execution_count": 3,
   "id": "a119fbf7-7cbc-4ab3-93f9-f54dcc5ab446",
   "metadata": {},
   "outputs": [],
   "source": [
    "    # R1=Responder((\"10.144.113.5\",1885),\"ho1_ret\")\n",
    "    # R1.to=\"ho1\""
   ]
  },
  {
   "cell_type": "code",
   "execution_count": 4,
   "id": "e81ba11f-57e2-40ff-bf96-fe022b638b18",
   "metadata": {},
   "outputs": [
    {
     "name": "stderr",
     "output_type": "stream",
     "text": [
      "/tmp/ipykernel_420849/1161333552.py:8: DeprecationWarning: Callback API version 1 is deprecated, update to latest version\n",
      "  client = mqtt.Client()\n"
     ]
    },
    {
     "name": "stdout",
     "output_type": "stream",
     "text": [
      "Connected successfully!\n"
     ]
    }
   ],
   "source": [
    "    R1=Responder((\"10.144.113.5\",1885),\"ho1_ret\")\n",
    "    R1.to=\"ho1\""
   ]
  },
  {
   "cell_type": "code",
   "execution_count": 5,
   "id": "e53be792-ef41-472a-86c3-d59285dc5fd4",
   "metadata": {},
   "outputs": [
    {
     "name": "stderr",
     "output_type": "stream",
     "text": [
      "/tmp/ipykernel_420849/1161333552.py:8: DeprecationWarning: Callback API version 1 is deprecated, update to latest version\n",
      "  client = mqtt.Client()\n"
     ]
    }
   ],
   "source": [
    "    R2=Responder((\"10.144.113.5\",1885),\"ho4_ret\")\n",
    "    R2.to=\"ho4\""
   ]
  },
  {
   "cell_type": "code",
   "execution_count": 6,
   "id": "twenty-judges",
   "metadata": {},
   "outputs": [],
   "source": [
    "def rett(task):\n",
    "    k=ipywidgets.Textarea(layout=ipywidgets.Layout(width='500px', height='100px'))\n",
    "    task.start()\n",
    "    return (k,)\n",
    "\n",
    "@TaskHandlerButtonAdvanced.add_to_state_button(s, rett)\n",
    "async def control_loop(task, sleep_interval=0.05, keep_len=10):\n",
    "    global actions\n",
    "    obs = task.widgets[0]\n",
    "    \n",
    "    @loop(sleep_interval)\n",
    "    def go():\n",
    "        obs.value=\"\\n\".join([str(i) for i in R1.ret_list][::-1])\n",
    "    \n",
    "    # await asyncio.gather(R.loop_recv(),go())\n",
    "    await asyncio.gather(go())\n",
    "t=control_loop(\"control_loop\")"
   ]
  },
  {
   "cell_type": "code",
   "execution_count": 7,
   "id": "determined-treasurer",
   "metadata": {},
   "outputs": [
    {
     "name": "stdout",
     "output_type": "stream",
     "text": [
      "Connected successfully!\n"
     ]
    }
   ],
   "source": [
    "await asyncio.sleep(0.1)"
   ]
  },
  {
   "cell_type": "code",
   "execution_count": 8,
   "id": "e3d99544-60b8-4738-8187-bc22b609b21b",
   "metadata": {},
   "outputs": [],
   "source": [
    "# Import required libraries\n",
    "import numpy as np\n",
    "import matplotlib.pyplot as plt\n",
    "from scipy.integrate import solve_ivp\n",
    "\n",
    "import time\n"
   ]
  },
  {
   "cell_type": "code",
   "execution_count": null,
   "id": "cleared-bulgarian",
   "metadata": {},
   "outputs": [],
   "source": []
  },
  {
   "cell_type": "code",
   "execution_count": 9,
   "id": "b9bdcaac-a239-449d-a734-2557d298137a",
   "metadata": {},
   "outputs": [],
   "source": [
    "InitL = np.array([0, 0, 0, 0, 0])*(1/135)\n",
    "InitR = np.array([0, 0, 0, 0, 0])*(1/135)\n",
    "R1.send_exe(f\"esp.pca_moves({InitL.tolist()})\")\n",
    "R2.send_exe(f\"esp.pca_moves({InitR.tolist()})\")"
   ]
  },
  {
   "cell_type": "code",
   "execution_count": 10,
   "id": "b577bf58-6b65-4082-8cc4-2bd493fcb7a4",
   "metadata": {},
   "outputs": [],
   "source": [
    "await asyncio.sleep(1)"
   ]
  },
  {
   "cell_type": "code",
   "execution_count": 11,
   "id": "collective-dryer",
   "metadata": {},
   "outputs": [
    {
     "data": {
      "application/vnd.jupyter.widget-view+json": {
       "model_id": "8dfba2d5542e470d925b4cdcdb5d23b0",
       "version_major": 2,
       "version_minor": 0
      },
      "text/plain": [
       "Box(children=(Button(description='buttoner', disabled=True, layout=Layout(height='30px', width='auto'), style=…"
      ]
     },
     "metadata": {},
     "output_type": "display_data"
    },
    {
     "data": {
      "application/vnd.jupyter.widget-view+json": {
       "model_id": "b404e3de4de4438e9767579866f4cff3",
       "version_major": 2,
       "version_minor": 0
      },
      "text/plain": [
       "Box(children=(StateButton(description='loop_timer', layout=Layout(height='30px'), style=ButtonStyle(button_col…"
      ]
     },
     "metadata": {},
     "output_type": "display_data"
    },
    {
     "data": {
      "application/vnd.jupyter.widget-view+json": {
       "model_id": "7d108c6dff67492fbbef2a61bc96c4a6",
       "version_major": 2,
       "version_minor": 0
      },
      "text/plain": [
       "Box(children=(StateButton(description='control_loop', layout=Layout(height='30px'), style=ButtonStyle(button_c…"
      ]
     },
     "metadata": {},
     "output_type": "display_data"
    }
   ],
   "source": [
    "s.display()"
   ]
  },
  {
   "cell_type": "code",
   "execution_count": null,
   "id": "92fd8911-5dda-41cb-9a45-d4d6191582b3",
   "metadata": {},
   "outputs": [],
   "source": []
  },
  {
   "cell_type": "raw",
   "id": "5b1d9657-9ee7-46d3-b160-1796219acd2a",
   "metadata": {},
   "source": []
  },
  {
   "cell_type": "code",
   "execution_count": null,
   "id": "a8877254-c107-4067-a047-b54195e56082",
   "metadata": {},
   "outputs": [],
   "source": []
  },
  {
   "cell_type": "code",
   "execution_count": null,
   "id": "9bcb6b2b-9a71-437b-8720-9f48a161335a",
   "metadata": {},
   "outputs": [],
   "source": []
  },
  {
   "cell_type": "code",
   "execution_count": 40,
   "id": "9d5ebb21-1a4b-4de3-87ff-8c86126a06cc",
   "metadata": {},
   "outputs": [],
   "source": [
    "#%% Define constants and parameters\n",
    "\n",
    "\n",
    "#%% Define constants and parameters\n",
    "\n",
    "n = 5 # for one single leg\n",
    "\n",
    "# Frequency\n",
    "omega_val = 2 * np.pi\n",
    "omegaR1 = np.ones(n) * omega_val\n",
    "omegaR2 = np.ones(n) * omega_val\n",
    "\n",
    "\n",
    "# Convergence rate\n",
    "mu_const = 1\n",
    "muR1 = np.ones(n) * mu_const\n",
    "muR1 = np.ones(n) * mu_const\n",
    "\n",
    "mu = np.ones(n) * mu_const\n",
    "\n",
    "\n",
    "# Amplitude\n",
    "a_val = 10\n",
    "a_paramR1 = np.ones(n) * a_val\n",
    "a_paramR2 = np.ones(n) * a_val\n",
    "\n",
    "\n",
    "\n",
    "\n",
    "# # snake Side-Winding\n",
    "\n",
    "R_val = 25\n",
    "# R_ampR1 = np.array([0.5, 0, 1.0, 0, -1.5])*R_val\n",
    "# R_ampR2 = np.array([-1.5, 0, 1.0, 0, -3])*R_val\n",
    "\n",
    "# # Snake forward (for both hardware and simulation)\n",
    "# R_ampR1 = np.array([0, 1, 0, 1, 0])*R_val\n",
    "# R_ampR2 = np.array([0, 1, 0, 1, 0])*R_val\n",
    "\n",
    "\n",
    "# Snake forward 2\n",
    "R_ampR1 = np.array([0, 30, 0, 30, 0])\n",
    "R_ampR2 = np.array([0, 60, 0, -0, 0])\n",
    "\n",
    "\n",
    "\n",
    "# # Snake turn\n",
    "# R_ampR1 = np.array([1, -1, 1, -1, 1])*R_val\n",
    "# R_ampR2 = np.array([1, -1, 1, -1, 1])*R_val\n",
    "\n",
    "\n",
    "\n",
    "# # Mechanical offsets\n",
    "# los = np.array([3, 3, 3, 3, 3])\n",
    "# ros = np.array([-12, -12, -12, -12, -12])\n",
    "\n",
    "\n",
    "# Joint offsets: For integration\n",
    "# # snake forward (for hardware)\n",
    "# OffsetsR1 = np.array([90, 0, -5, -0, -90]) \n",
    "# OffsetsR2 = np.array([90, 0, -5, -0, -90])\n",
    "\n",
    "\n",
    "# # snake forward (for simulation)\n",
    "# OffsetsR1 = np.array([90, 0, -0, -0, -90])\n",
    "# OffsetsR2 = np.array([90, 0, -0, -0, -90])\n",
    "\n",
    "\n",
    "# snake forward 2\n",
    "OffsetsR1 = np.array([0, -10, -0, 90, -0]) \n",
    "OffsetsR2 = np.array([0, 60, 45, -45, -0])\n",
    "\n",
    "\n",
    "# # snake turn\n",
    "# OffsetsR1 = np.array([0, 0, -0, -0, -0]) \n",
    "# OffsetsR2 = np.array([0, 0, -0, -0, -0])\n",
    "\n",
    "# Desired phase differences\n",
    "\n",
    "# high-level phase: R1, R2\n",
    "# To change the initial condition of integration, as a high level CPG parameter\n",
    "phi_tilde_high = [0, 0]   # for two legs synchronized\n",
    "# phi_tilde_high = [0, np.pi]   # phase delays of between two legs: haR1 of the period\n",
    "\n",
    "\n",
    "# Low level CPG\n",
    "\n",
    "# phi_tilde_R1 = [0, 0.5*np.pi, 1*np.pi, 0.5*np.pi, 0*np.pi]\n",
    "# phi_tilde_R2 = [0, 0.5*np.pi, 1*np.pi, 0.5*np.pi, 0*np.pi]\n",
    "\n",
    "phi_tilde_R1 = [0, 0.5*np.pi, 0, 0.5*np.pi, 0]\n",
    "phi_tilde_R2 = [0, 0.5*np.pi, 0, 0, 0]\n",
    "\n",
    "\n",
    "# # Desired phase differences\n",
    "# theta_tilde = np.array([np.pi/2, 2*np.pi/2, np.pi/2, 0*np.pi/2])\n",
    "\n",
    "theta_tilde_R1=[phi_tilde_R1[i+1]-phi_tilde_R1[i] for i in range(4)]\n",
    "theta_tilde_R2=[phi_tilde_R2[i+1]-phi_tilde_R2[i] for i in range(4)]\n",
    "\n",
    "\n",
    "\n",
    "# phi_tilde = [0, 0, np.pi/2, 0, 0, 0, 0, 0, 0, 0]  # turning\n",
    "\n",
    "# theta_tilde=[phi_tilde[i+1]-phi_tilde[i] for i in range(9)]\n",
    "\n",
    "#%% ODE setup\n",
    "phi0_R1 = np.zeros(n)   # initial phases\n",
    "r0_R1   = np.zeros(n)   # initial amplitudes\n",
    "dr0_R1  = np.zeros(n)   # initial amplitude derivatives\n",
    "\n",
    "x0_R1 = np.concatenate((phi0_R1, r0_R1, dr0_R1))\n",
    "\n",
    "\n",
    "phi0_R2 = np.zeros(n) + phi_tilde_high[1]   # initial phases\n",
    "r0_R2   = np.zeros(n)   # initial amplitudes\n",
    "dr0_R2  = np.zeros(n)   # initial amplitude derivatives\n",
    "\n",
    "x0_R2 = np.concatenate((phi0_R2, r0_R2, dr0_R2))\n"
   ]
  },
  {
   "cell_type": "code",
   "execution_count": 41,
   "id": "861e427b-d9f3-4f91-9266-9609a5b4b99e",
   "metadata": {},
   "outputs": [],
   "source": [
    "#%% Matrices A and B\n",
    "A = np.zeros((n, n))\n",
    "A[0, 0] = -mu[0]\n",
    "if n >= 2:\n",
    "    A[0, 1] = mu[1]\n",
    "for i in range(1, n - 1):\n",
    "    A[i, i - 1] = mu[i]\n",
    "    A[i, i]     = -2 * mu[i]\n",
    "    A[i, i + 1] = mu[i]\n",
    "A[n - 1, n - 2] = mu[n - 1]\n",
    "A[n - 1, n - 1] = -mu[n - 1]\n",
    "\n",
    "B = np.zeros((n, n - 1))\n",
    "B[0, 0] = 1\n",
    "for i in range(1, n - 1):\n",
    "    B[i, i - 1] = -1\n",
    "    B[i, i]     = 1\n",
    "B[n - 1, n - 2] = -1\n",
    "\n",
    "\n",
    "dt = 0.05 # time step\n",
    "t_span = (0, 20)  # simulate for 20 seconds\n",
    "t_eval = np.linspace(t_span[0], t_span[1], int(t_span[1]/dt)) # time points: based on dt and t_span\n",
    "\n",
    "#%% ODE function definition\n",
    "def cpgODE(t, x, omega, A, B, theta_tilde, a_param, R_amp, n):\n",
    "    \"\"\"\n",
    "    Compute the derivatives for the CPG system.\n",
    "    x is [phi, r, dr] with each block of length n.\n",
    "    Returns: [dphi; dr; ddr]\n",
    "    \"\"\"\n",
    "    phi = x[0:n]\n",
    "    r   = x[n:2*n]\n",
    "    dr  = x[2*n:3*n]\n",
    "\n",
    "    # Phase derivatives\n",
    "    dphi = omega + A.dot(phi) + B.dot(theta_tilde)\n",
    "\n",
    "    # Second derivatives for amplitude\n",
    "    ddr = a_param * ((a_param / 4) * (R_amp - r) - dr)\n",
    "\n",
    "    # Note: The derivative of r is dr (not r)\n",
    "    return np.concatenate((dphi, dr, ddr))\n",
    "\n",
    "#%% Solve the ODE\n",
    "sol_R1 = solve_ivp(\n",
    "    lambda t, y: cpgODE(t, y, omegaR1, A, B, theta_tilde_R1, a_paramR1, R_ampR1, n),\n",
    "    t_span,\n",
    "    x0_R1,\n",
    "    t_eval=t_eval\n",
    ")\n",
    "\n",
    "sol_R2 = solve_ivp(\n",
    "    lambda t, y: cpgODE(t, y, omegaR2, A, B, theta_tilde_R2, a_paramR2, R_ampR2, n),\n",
    "    t_span,\n",
    "    x0_R2,\n",
    "    t_eval=t_eval\n",
    ")\n",
    "\n",
    "\n",
    "t_R1 = sol_R1.t\n",
    "x_R1 = sol_R1.y.T  # shape (time_points, 3*n)\n",
    "\n",
    "t_R2 = sol_R2.t\n",
    "x_R2 = sol_R2.y.T  # shape (time_points, 3*n)\n",
    "\n",
    "\n",
    "\n",
    "#%% Extract the results\n",
    "phi_R1 = x_R1[:, :n]          # phases\n",
    "r_R1   = x_R1[:, n:2*n]       # amplitudes\n",
    "dr_R1  = x_R1[:, 2*n:3*n]     # amplitude derivatives\n",
    "\n",
    "\n",
    "#%% Extract the results\n",
    "phi_R2 = x_R2[:, :n]          # phases\n",
    "r_R2   = x_R2[:, n:2*n]       # amplitudes\n",
    "dr_R2  = x_R2[:, 2*n:3*n]     # amplitude derivatives\n",
    "\n",
    "\n",
    "# Compute the rhythmic output signals: x_i = r_i * sin(phi_i)\n",
    "desired_angle_R1 = r_R1 * np.sin(phi_R1) + np.ones(phi_R1.shape)*OffsetsR1\n",
    "desired_angle_R2 = r_R2 * np.sin(phi_R2) + np.ones(phi_R2.shape)*OffsetsR2\n",
    "\n",
    "normalize_min = -135\n",
    "normalize_max = 135"
   ]
  },
  {
   "cell_type": "code",
   "execution_count": 42,
   "id": "3fcbab00-9bb8-4a32-baa5-a5b34eaa306f",
   "metadata": {},
   "outputs": [
    {
     "data": {
      "text/plain": [
       "array([  0, -10,   0,  90,   0])"
      ]
     },
     "execution_count": 42,
     "metadata": {},
     "output_type": "execute_result"
    }
   ],
   "source": [
    "OffsetsR1"
   ]
  },
  {
   "cell_type": "code",
   "execution_count": 43,
   "id": "4a133a26-4fb7-41eb-baf9-efdb7e1a9235",
   "metadata": {},
   "outputs": [],
   "source": [
    "# Normalize the output from -1 to 1\n",
    "desired_angle_R1_normalized = (desired_angle_R1 - normalize_min) / (normalize_max - normalize_min) * 2 - 1\n",
    "desired_angle_R2_normalized = (desired_angle_R2 - normalize_min) / (normalize_max - normalize_min) * 2 - 1\n",
    "\n",
    "# Change the decimal length\n",
    "desired_angle_R1_normalized = np.round(desired_angle_R1_normalized,4)\n",
    "desired_angle_R2_normalized = np.round(desired_angle_R2_normalized,4)"
   ]
  },
  {
   "cell_type": "code",
   "execution_count": 44,
   "id": "273a73b0-e6a1-44b4-b7ee-ba7649176e58",
   "metadata": {},
   "outputs": [
    {
     "data": {
      "image/png": "[encoded data removed]",
      "text/plain": [
       "<Figure size 1200x1000 with 10 Axes>"
      ]
     },
     "metadata": {},
     "output_type": "display_data"
    }
   ],
   "source": [
    "# Create a figure with n rows and 2 columns\n",
    "fig, axs = plt.subplots(n, 2, figsize=(12, 2 * n), sharex='col', sharey=True)\n",
    "\n",
    "# Loop over each oscillator to plot its corresponding row\n",
    "for i in range(n):\n",
    "    # Left column: plots for the first dataset\n",
    "    axs[i, 0].plot(t_R1, desired_angle_R1[:, i], linewidth=1.5)\n",
    "    axs[i, 0].set_ylabel(f'x_{i+1}')\n",
    "    axs[i, 0].grid(True)\n",
    "    axs[i, 0].set_ylim(-135, 135)\n",
    "    \n",
    "    # Right column: plots for the second dataset\n",
    "    axs[i, 1].plot(t_R2, desired_angle_R2[:, i], linewidth=1.5)\n",
    "    axs[i, 1].set_ylabel(f'x_{i+1}')\n",
    "    axs[i, 1].grid(True)\n",
    "    axs[i, 1].set_ylim(-135, 135)\n",
    "\n",
    "# Add a common x-label and a title for the entire figure\n",
    "fig.text(0.5, 0.04, 'Time (s)', ha='center', va='center')\n",
    "fig.suptitle('CPG Output Signals', y=0.98)\n",
    "\n",
    "plt.tight_layout(rect=[0, 0.03, 1, 0.95])\n",
    "plt.show()\n"
   ]
  },
  {
   "cell_type": "code",
   "execution_count": 17,
   "id": "6657fe77-1e36-4046-9fcd-faf0f1986705",
   "metadata": {},
   "outputs": [],
   "source": [
    "# dir_map = np.array([-1, 1, -1, 1, -1])\n",
    "\n",
    "# desired_angle_R1[40,:] - desired_angle_R2[40,:]*dir_map"
   ]
  },
  {
   "cell_type": "code",
   "execution_count": null,
   "id": "6a29e842-c6cf-470b-b56c-e9fe5622363e",
   "metadata": {},
   "outputs": [],
   "source": []
  },
  {
   "cell_type": "code",
   "execution_count": 18,
   "id": "1621c0ea-5bad-4980-aef7-8665f9cd2ead",
   "metadata": {},
   "outputs": [],
   "source": [
    "# pps = int(2*np.pi/(phi_R2[11,1]-phi_R2[10,1]))"
   ]
  },
  {
   "cell_type": "code",
   "execution_count": 19,
   "id": "83d0d79b-6213-4fb2-a18d-079a261b4879",
   "metadata": {},
   "outputs": [],
   "source": [
    "# pps"
   ]
  },
  {
   "cell_type": "code",
   "execution_count": 45,
   "id": "55950c74-2255-40bd-9a97-2e7008947d09",
   "metadata": {},
   "outputs": [],
   "source": [
    "# # Create a figure with n rows and 2 columns\n",
    "# fig, axs = plt.subplots(n, 2, figsize=(12, 2 * n), sharex='col', sharey=True)\n",
    "\n",
    "# # Loop over each oscillator to plot its corresponding row\n",
    "# for i in range(n):\n",
    "#     # Left column: plots for the first dataset\n",
    "#     axs[i, 0].plot(t_R1[2*pps:3*pps:1], desired_angle_R1[2*pps:3*pps, i], linewidth=1.5)\n",
    "#     axs[i, 0].set_ylabel(f'x_{i+1}')\n",
    "#     axs[i, 0].grid(True)\n",
    "#     axs[i, 0].set_ylim(-135, 135)\n",
    "    \n",
    "#     # Right column: plots for the second dataset\n",
    "#     axs[i, 1].plot(t_R2[2*pps:3*pps:1], desired_angle_R2[2*pps:3*pps, i], linewidth=1.5)\n",
    "#     axs[i, 1].set_ylabel(f'x_{i+1}')\n",
    "#     axs[i, 1].grid(True)\n",
    "#     axs[i, 1].set_ylim(-135, 135)\n",
    "\n",
    "# # Add a common x-label and a title for the entire figure\n",
    "# fig.text(0.5, 0.04, 'Time (s)', ha='center', va='center')\n",
    "# fig.suptitle('CPG Output Signals', y=0.98)\n",
    "\n",
    "# plt.tight_layout(rect=[0, 0.03, 1, 0.95])\n",
    "# plt.show()\n"
   ]
  },
  {
   "cell_type": "code",
   "execution_count": 51,
   "id": "271f9e0f-4358-4bc0-ab7f-2d03388f94f2",
   "metadata": {},
   "outputs": [],
   "source": [
    "InitR1 = desired_angle_R1_normalized[0,:]\n",
    "InitR2 = desired_angle_R2_normalized[0,:]\n",
    "R1.send_exe(f\"esp.pca_moves({InitR1.tolist()})\")\n",
    "R2.send_exe(f\"esp.pca_moves({InitR2.tolist()})\")"
   ]
  },
  {
   "cell_type": "code",
   "execution_count": 22,
   "id": "3bff09c5-9b5f-4021-a866-00a7df362b81",
   "metadata": {},
   "outputs": [],
   "source": [
    "await asyncio.sleep(1)"
   ]
  },
  {
   "cell_type": "code",
   "execution_count": 50,
   "id": "ad4b2bdf-f577-4671-9c48-1dbdc0a470e2",
   "metadata": {},
   "outputs": [],
   "source": [
    "R1.send_exe(f\"esp.flag=False\")\n",
    "R2.send_exe(f\"esp.flag=False\")"
   ]
  },
  {
   "cell_type": "code",
   "execution_count": 52,
   "id": "b64b3ea7-a48b-46cf-9675-dffc38bcbcf0",
   "metadata": {},
   "outputs": [],
   "source": [
    "pps = int(2*np.pi/(phi_R2[11,1]-phi_R2[10,1]))\n",
    "\n",
    "lR1 = desired_angle_R1_normalized[2*pps:3*pps:1,:].tolist()\n",
    "lR2 = desired_angle_R2_normalized[2*pps:3*pps:1,:].tolist()\n",
    "\n",
    "R1.send_exe(f\"esp.ta=loop.create_task(from_li({lR1},0.05,5))\")\n",
    "R2.send_exe(f\"esp.ta=loop.create_task(from_li({lR2},0.05,5))\")\n"
   ]
  },
  {
   "cell_type": "code",
   "execution_count": 25,
   "id": "54c10125-17e9-4381-a3ab-a0bb0c4dffaa",
   "metadata": {},
   "outputs": [],
   "source": [
    "# li = [-0.278, 0.6667, 0.8552, -0.7037, -0.6667]\n",
    "\n",
    "# R1.send_exe(f\"esp.pca_moves({li})\")\n"
   ]
  },
  {
   "cell_type": "code",
   "execution_count": 26,
   "id": "c935b807-37e5-4532-aedb-49e13c376c76",
   "metadata": {},
   "outputs": [],
   "source": [
    "# li = [0.5353, 0.6667, -0.533, -0.6296, 0.6667]\n",
    "# R2.send_exe(f\"esp.pca_moves({li})\")"
   ]
  },
  {
   "cell_type": "code",
   "execution_count": null,
   "id": "c48dd135-c843-4287-acf9-1bc3b1a3424f",
   "metadata": {},
   "outputs": [],
   "source": []
  },
  {
   "cell_type": "code",
   "execution_count": 27,
   "id": "032f3b5c-73d7-42d8-926a-4a67291c875c",
   "metadata": {},
   "outputs": [],
   "source": [
    "# InitL = np.array([3, 3, 3, 3, 3])*(1/135)\n",
    "# # InitR = np.array([-12, -12, -12, -12, -12])*(1/135)\n",
    "# R1.send_exe(f\"esp.pca_moves({InitL.tolist()})\")\n",
    "# R2.send_exe(f\"esp.pca_moves({InitR.tolist()})\")"
   ]
  },
  {
   "cell_type": "code",
   "execution_count": 28,
   "id": "cea562b0-bfb3-4e6d-8222-f4dcd2d6276f",
   "metadata": {},
   "outputs": [],
   "source": [
    "InitL = np.array([0, 30, 0, 90, 0])*(1/135)\n",
    "InitR = np.array([0, 60, 45, -45, 0])*(1/135)\n",
    "R1.send_exe(f\"esp.pca_moves({InitL.tolist()})\")\n",
    "R2.send_exe(f\"esp.pca_moves({InitR.tolist()})\")"
   ]
  },
  {
   "cell_type": "code",
   "execution_count": 29,
   "id": "329b4b46-58ee-419f-b34f-479d0062212f",
   "metadata": {},
   "outputs": [],
   "source": [
    "desL = np.array([0, 0, 0, 0, 0])*(1/135)\n",
    "desR = np.array([0, 0, 0, 0, 0])*(1/135)\n",
    "R1.send_exe(f\"esp.pca_moves({desL.tolist()})\")\n",
    "R2.send_exe(f\"esp.pca_moves({desR.tolist()})\")"
   ]
  },
  {
   "cell_type": "code",
   "execution_count": 30,
   "id": "8a3af48f-3174-46ae-9ac1-4e7ca5ce37bc",
   "metadata": {},
   "outputs": [
    {
     "ename": "SyntaxError",
     "evalue": "'break' outside loop (668683560.py, line 1)",
     "output_type": "error",
     "traceback": [
      "\u001b[0;36m  Cell \u001b[0;32mIn[30], line 1\u001b[0;36m\u001b[0m\n\u001b[0;31m    break\u001b[0m\n\u001b[0m    ^\u001b[0m\n\u001b[0;31mSyntaxError\u001b[0m\u001b[0;31m:\u001b[0m 'break' outside loop\n"
     ]
    }
   ],
   "source": [
    "break"
   ]
  },
  {
   "cell_type": "code",
   "execution_count": 49,
   "id": "10f0b645-505c-4a7f-bd96-8bd0426187b5",
   "metadata": {},
   "outputs": [],
   "source": [
    "R1.send_exe(f\"esp.ta.cancel()\")\n",
    "R2.send_exe(f\"esp.ta.cancel()\")"
   ]
  },
  {
   "cell_type": "code",
   "execution_count": null,
   "id": "59bbdab0-99c2-4229-a780-0ac178c15435",
   "metadata": {},
   "outputs": [],
   "source": [
    "R1.ret_list"
   ]
  },
  {
   "cell_type": "code",
   "execution_count": null,
   "id": "80cd30b5-8d69-4475-9d42-943c3d7bc26f",
   "metadata": {},
   "outputs": [],
   "source": []
  },
  {
   "cell_type": "code",
   "execution_count": null,
   "id": "81b6f12c-1170-47d3-803f-3799df3f6005",
   "metadata": {},
   "outputs": [],
   "source": []
  }
 ],
 "metadata": {
  "kernelspec": {
   "display_name": "Python 3 (ipykernel)",
   "language": "python",
   "name": "python3"
  },
  "language_info": {
   "codemirror_mode": {
    "name": "ipython",
    "version": 3
   },
   "file_extension": ".py",
   "mimetype": "text/x-python",
   "name": "python",
   "nbconvert_exporter": "python",
   "pygments_lexer": "ipython3",
   "version": "3.12.4"
  }
 },
 "nbformat": 4,
 "nbformat_minor": 5
}
