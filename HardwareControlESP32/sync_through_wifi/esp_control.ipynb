{
 "cells": [
  {
   "cell_type": "markdown",
   "id": "3c871cb4-1fa4-470c-9b9a-63648f27f2f1",
   "metadata": {
    "tags": []
   },
   "source": [
    "# init funcs"
   ]
  },
  {
   "cell_type": "code",
   "execution_count": 1,
   "id": "ahead-bicycle",
   "metadata": {},
   "outputs": [],
   "source": [
    "%run ../udp_thingy.ipynb"
   ]
  },
  {
   "cell_type": "code",
   "execution_count": 2,
   "id": "engaged-sullivan",
   "metadata": {},
   "outputs": [
    {
     "name": "stdout",
     "output_type": "stream",
     "text": [
      "/home/jovyan/work/research_ongoing/20230110_micropython_stuff/util_interfaces\n",
      "info\n",
      "        \n",
      "        Always be aware that this version of dashboard is instanced when defination.\n",
      "        Which means that there cannot be two dashboard in the same ipynb kernel.\n",
      "        \n",
      "        \n"
     ]
    },
    {
     "data": {
      "application/vnd.jupyter.widget-view+json": {
       "model_id": "3464281a44ad498c85b50ba4808517c1",
       "version_major": 2,
       "version_minor": 0
      },
      "text/plain": [
       "Box(children=(Button(description='buttoner', disabled=True, layout=Layout(height='30px', width='auto'), style=…"
      ]
     },
     "metadata": {},
     "output_type": "display_data"
    },
    {
     "data": {
      "application/vnd.jupyter.widget-view+json": {
       "model_id": "e1062e4ee1f54c5494ba626da3984e5e",
       "version_major": 2,
       "version_minor": 0
      },
      "text/plain": [
       "Box(children=(StateButton(description='loop_timer', layout=Layout(height='30px'), style=ButtonStyle(button_col…"
      ]
     },
     "metadata": {},
     "output_type": "display_data"
    }
   ],
   "source": [
    "%cd ../../util_interfaces/\n",
    "%run advance_dashboard.ipynb"
   ]
  },
  {
   "cell_type": "code",
   "execution_count": null,
   "id": "alternative-boards",
   "metadata": {},
   "outputs": [],
   "source": []
  },
  {
   "cell_type": "code",
   "execution_count": 3,
   "id": "later-rogers",
   "metadata": {},
   "outputs": [],
   "source": [
    "R=Responder((\"0.0.0.0\",8081))"
   ]
  },
  {
   "cell_type": "code",
   "execution_count": 9,
   "id": "4c83115a-98b0-4cef-9644-e61c7baf4d73",
   "metadata": {},
   "outputs": [],
   "source": [
    "ESP=\"192.168.2.235\""
   ]
  },
  {
   "cell_type": "code",
   "execution_count": 10,
   "id": "8fae2235-147a-4a51-bc43-c9622e6347ce",
   "metadata": {},
   "outputs": [],
   "source": [
    "ESP=\"192.168.2.107\""
   ]
  },
  {
   "cell_type": "code",
   "execution_count": 11,
   "id": "according-sentence",
   "metadata": {},
   "outputs": [],
   "source": [
    "R.to=[(ESP,8080),]"
   ]
  },
  {
   "cell_type": "code",
   "execution_count": 12,
   "id": "cloudy-marijuana",
   "metadata": {},
   "outputs": [],
   "source": [
    "R.send_exe(\"R\")"
   ]
  },
  {
   "cell_type": "code",
   "execution_count": null,
   "id": "642546d7-8e8a-4989-9d86-ff2e61efdc94",
   "metadata": {},
   "outputs": [],
   "source": []
  },
  {
   "cell_type": "code",
   "execution_count": null,
   "id": "be403900-6fd1-4539-bd15-6d8ef0d6c25c",
   "metadata": {},
   "outputs": [],
   "source": []
  },
  {
   "cell_type": "code",
   "execution_count": 13,
   "id": "binary-vitamin",
   "metadata": {},
   "outputs": [],
   "source": [
    "def rett(task):\n",
    "    k=ipywidgets.Textarea(layout=ipywidgets.Layout(width='500px', height='100px'))\n",
    "    task.start()\n",
    "    return (k,)\n",
    "\n",
    "@TaskHandlerButtonAdvanced.add_to_state_button(s, rett)\n",
    "async def control_loop(task, sleep_interval=0.05, keep_len=10):\n",
    "    global actions\n",
    "    obs = task.widgets[0]\n",
    "    \n",
    "    @loop(sleep_interval)\n",
    "    def go():\n",
    "        obs.value=\"\\n\".join([str(i) for i in R.ret_list][::-1])\n",
    "    \n",
    "    await asyncio.gather(R.loop_recv(),go())\n",
    "t=control_loop(\"control_loop\")"
   ]
  },
  {
   "cell_type": "code",
   "execution_count": 14,
   "id": "standing-nightlife",
   "metadata": {},
   "outputs": [
    {
     "data": {
      "text/plain": [
       "[]"
      ]
     },
     "execution_count": 14,
     "metadata": {},
     "output_type": "execute_result"
    }
   ],
   "source": [
    "R.ret_list"
   ]
  },
  {
   "cell_type": "code",
   "execution_count": null,
   "id": "fd820753-59f0-44dc-9454-d138eea3d755",
   "metadata": {},
   "outputs": [],
   "source": []
  },
  {
   "cell_type": "code",
   "execution_count": 15,
   "id": "recent-trance",
   "metadata": {},
   "outputs": [
    {
     "data": {
      "application/vnd.jupyter.widget-view+json": {
       "model_id": "3464281a44ad498c85b50ba4808517c1",
       "version_major": 2,
       "version_minor": 0
      },
      "text/plain": [
       "Box(children=(Button(description='buttoner', disabled=True, layout=Layout(height='30px', width='auto'), style=…"
      ]
     },
     "metadata": {},
     "output_type": "display_data"
    },
    {
     "data": {
      "application/vnd.jupyter.widget-view+json": {
       "model_id": "e1062e4ee1f54c5494ba626da3984e5e",
       "version_major": 2,
       "version_minor": 0
      },
      "text/plain": [
       "Box(children=(StateButton(description='loop_timer', layout=Layout(height='30px'), style=ButtonStyle(button_col…"
      ]
     },
     "metadata": {},
     "output_type": "display_data"
    },
    {
     "data": {
      "application/vnd.jupyter.widget-view+json": {
       "model_id": "381acdc535ea4430bbe84efe9d2b1ee2",
       "version_major": 2,
       "version_minor": 0
      },
      "text/plain": [
       "Box(children=(StateButton(description='control_loop', layout=Layout(height='30px'), style=ButtonStyle(button_c…"
      ]
     },
     "metadata": {},
     "output_type": "display_data"
    }
   ],
   "source": [
    "s.display()"
   ]
  },
  {
   "cell_type": "code",
   "execution_count": 16,
   "id": "gorgeous-entrepreneur",
   "metadata": {},
   "outputs": [
    {
     "ename": "SyntaxError",
     "evalue": "'break' outside loop (668683560.py, line 1)",
     "output_type": "error",
     "traceback": [
      "\u001b[0;36m  Cell \u001b[0;32mIn[16], line 1\u001b[0;36m\u001b[0m\n\u001b[0;31m    break\u001b[0m\n\u001b[0m    ^\u001b[0m\n\u001b[0;31mSyntaxError\u001b[0m\u001b[0;31m:\u001b[0m 'break' outside loop\n"
     ]
    }
   ],
   "source": [
    "break"
   ]
  },
  {
   "cell_type": "markdown",
   "id": "60e078df-2d90-4615-877a-79242fccc9a1",
   "metadata": {
    "tags": []
   },
   "source": [
    "# some funcs"
   ]
  },
  {
   "cell_type": "code",
   "execution_count": null,
   "id": "cc639044-d977-4a17-b06f-2fff6f1d303f",
   "metadata": {},
   "outputs": [],
   "source": [
    "R.decode_list"
   ]
  },
  {
   "cell_type": "code",
   "execution_count": null,
   "id": "92e4c386-3009-4767-a142-06efebc23952",
   "metadata": {},
   "outputs": [],
   "source": [
    "R.encode_list"
   ]
  },
  {
   "cell_type": "code",
   "execution_count": null,
   "id": "57563ff0-7a45-454d-886a-677ecd87a25f",
   "metadata": {},
   "outputs": [],
   "source": [
    "R.rec_s_time"
   ]
  },
  {
   "cell_type": "code",
   "execution_count": null,
   "id": "84b064d9-55c6-4753-82b2-8ed62d8e2712",
   "metadata": {},
   "outputs": [],
   "source": [
    "R.send_exe(f\"(esp.drums.cancel(),esp.light.duty(0))\")"
   ]
  },
  {
   "cell_type": "code",
   "execution_count": null,
   "id": "b620080e-e829-447c-beb5-20b86f611209",
   "metadata": {},
   "outputs": [],
   "source": []
  },
  {
   "cell_type": "code",
   "execution_count": 381,
   "id": "cfaaee3f-d6f3-4d8a-a452-7e3837645e94",
   "metadata": {},
   "outputs": [],
   "source": [
    "R.send_exe(f\"esp.to=[]\")"
   ]
  },
  {
   "cell_type": "code",
   "execution_count": 382,
   "id": "e3c4eeb1-9ed9-4bad-af47-8c9f829f6e81",
   "metadata": {},
   "outputs": [],
   "source": [
    "R.send_exe(f\"esp.done\")"
   ]
  },
  {
   "cell_type": "code",
   "execution_count": null,
   "id": "c79944ba-d41e-41fc-ba62-01981a7e2549",
   "metadata": {},
   "outputs": [],
   "source": []
  },
  {
   "cell_type": "code",
   "execution_count": null,
   "id": "76d9ccfd-1269-45c1-9b67-66f0bd6b2ae6",
   "metadata": {},
   "outputs": [],
   "source": []
  },
  {
   "cell_type": "code",
   "execution_count": 27,
   "id": "bb6be281-d9e1-4a32-a1a9-d5116a2cb644",
   "metadata": {},
   "outputs": [
    {
     "data": {
      "application/vnd.jupyter.widget-view+json": {
       "model_id": "3464281a44ad498c85b50ba4808517c1",
       "version_major": 2,
       "version_minor": 0
      },
      "text/plain": [
       "Box(children=(Button(description='buttoner', disabled=True, layout=Layout(height='30px', width='auto'), style=…"
      ]
     },
     "metadata": {},
     "output_type": "display_data"
    },
    {
     "data": {
      "application/vnd.jupyter.widget-view+json": {
       "model_id": "e1062e4ee1f54c5494ba626da3984e5e",
       "version_major": 2,
       "version_minor": 0
      },
      "text/plain": [
       "Box(children=(StateButton(description='loop_timer', layout=Layout(height='30px'), style=ButtonStyle(button_col…"
      ]
     },
     "metadata": {},
     "output_type": "display_data"
    },
    {
     "data": {
      "application/vnd.jupyter.widget-view+json": {
       "model_id": "381acdc535ea4430bbe84efe9d2b1ee2",
       "version_major": 2,
       "version_minor": 0
      },
      "text/plain": [
       "Box(children=(StateButton(description='control_loop', layout=Layout(height='30px'), style=ButtonStyle(button_c…"
      ]
     },
     "metadata": {},
     "output_type": "display_data"
    }
   ],
   "source": [
    "s.display()"
   ]
  },
  {
   "cell_type": "code",
   "execution_count": 341,
   "id": "860cfb7f-45eb-45d4-8721-1ba8b14e9c40",
   "metadata": {
    "tags": []
   },
   "outputs": [],
   "source": [
    "R.send_exe(f\"esp.board\")"
   ]
  },
  {
   "cell_type": "code",
   "execution_count": null,
   "id": "5da241c3-2e92-427e-bd51-ae6aa0efc8ec",
   "metadata": {},
   "outputs": [],
   "source": []
  },
  {
   "cell_type": "code",
   "execution_count": 27,
   "id": "458158ac-375f-41c6-8ff8-e92e91277666",
   "metadata": {},
   "outputs": [
    {
     "data": {
      "application/vnd.jupyter.widget-view+json": {
       "model_id": "3464281a44ad498c85b50ba4808517c1",
       "version_major": 2,
       "version_minor": 0
      },
      "text/plain": [
       "Box(children=(Button(description='buttoner', disabled=True, layout=Layout(height='30px', width='auto'), style=…"
      ]
     },
     "metadata": {},
     "output_type": "display_data"
    },
    {
     "data": {
      "application/vnd.jupyter.widget-view+json": {
       "model_id": "e1062e4ee1f54c5494ba626da3984e5e",
       "version_major": 2,
       "version_minor": 0
      },
      "text/plain": [
       "Box(children=(StateButton(description='loop_timer', layout=Layout(height='30px'), style=ButtonStyle(button_col…"
      ]
     },
     "metadata": {},
     "output_type": "display_data"
    },
    {
     "data": {
      "application/vnd.jupyter.widget-view+json": {
       "model_id": "381acdc535ea4430bbe84efe9d2b1ee2",
       "version_major": 2,
       "version_minor": 0
      },
      "text/plain": [
       "Box(children=(StateButton(description='control_loop', layout=Layout(height='30px'), style=ButtonStyle(button_c…"
      ]
     },
     "metadata": {},
     "output_type": "display_data"
    }
   ],
   "source": [
    "s.display()"
   ]
  },
  {
   "cell_type": "code",
   "execution_count": null,
   "id": "919af6a4-fbf9-4cf4-ac1c-eb4861b85119",
   "metadata": {},
   "outputs": [],
   "source": []
  },
  {
   "cell_type": "code",
   "execution_count": 415,
   "id": "d39c7b2f-2a80-4769-b41d-215b331addfb",
   "metadata": {
    "tags": []
   },
   "outputs": [],
   "source": [
    "li=[0,0,0,0]"
   ]
  },
  {
   "cell_type": "code",
   "execution_count": 423,
   "id": "bf70ea8e-7870-49c1-bfc8-732b250199dd",
   "metadata": {
    "tags": []
   },
   "outputs": [],
   "source": [
    "relay_on(tes)\n",
    "await asyncio.sleep(1)"
   ]
  },
  {
   "cell_type": "code",
   "execution_count": 424,
   "id": "a0319202-d0a9-46b4-b6f3-69e34ee3da34",
   "metadata": {},
   "outputs": [],
   "source": [
    "VR,ZF,M,EL=(0,0,0,0)\n",
    "li=VR,ZF,EL,0\n",
    "li=li+li+li+li\n",
    "R.send_exe(f\"esp.pca_moves({li})\")"
   ]
  },
  {
   "cell_type": "code",
   "execution_count": 425,
   "id": "ca586b2e-0943-417d-9e96-d027051ed71c",
   "metadata": {},
   "outputs": [],
   "source": [
    "#unlock\n",
    "VR,ZF,M,EL=(0,0,0,4095)\n",
    "li=VR,ZF,M,EL\n",
    "li=VR,ZF,EL,0\n",
    "li=li+li+li+li\n",
    "R.send_exe(f\"_=0;esp.pca_moves({li});time.sleep(0.01);esp.pca_moves([0,0,0,0]);\")"
   ]
  },
  {
   "cell_type": "code",
   "execution_count": 431,
   "id": "4ea65676-65ac-4370-aca9-7f20a5a2a457",
   "metadata": {
    "tags": []
   },
   "outputs": [],
   "source": [
    "# speed\n",
    "VR,ZF,M,EL=(800,0,0,0)\n",
    "li=VR,ZF,M,EL\n",
    "li=VR,ZF,EL,0\n",
    "li=li+li+li+li\n",
    "R.send_exe(f\"esp.pca_moves({li})\")"
   ]
  },
  {
   "cell_type": "code",
   "execution_count": 432,
   "id": "228be766-9af8-4e73-821c-178ae3020301",
   "metadata": {
    "tags": []
   },
   "outputs": [],
   "source": [
    "# speed\n",
    "VR,ZF,M,EL=(800,4095,0,0)\n",
    "li=VR,ZF,M,EL\n",
    "li=VR,ZF,EL,0\n",
    "li=li+li+li+li\n",
    "R.send_exe(f\"esp.pca_moves({li})\")"
   ]
  },
  {
   "cell_type": "code",
   "execution_count": 433,
   "id": "fb3e5446-6fdf-4114-9fc7-1ad96cc70c23",
   "metadata": {},
   "outputs": [],
   "source": [
    "VR,ZF,M,EL=(0,0,0,0)\n",
    "li=VR,ZF,M,EL\n",
    "li=VR,ZF,EL,0\n",
    "li=li+li+li+li\n",
    "R.send_exe(f\"esp.pca_moves({li})\")"
   ]
  },
  {
   "cell_type": "code",
   "execution_count": 434,
   "id": "3d2e20a2-cced-457b-92c5-23cee67b3c45",
   "metadata": {
    "tags": []
   },
   "outputs": [],
   "source": [
    "relay_off(tes)"
   ]
  },
  {
   "cell_type": "code",
   "execution_count": 414,
   "id": "4decdf70-490f-492f-813a-92e674e0963c",
   "metadata": {
    "tags": []
   },
   "outputs": [
    {
     "ename": "SyntaxError",
     "evalue": "'break' outside loop (668683560.py, line 1)",
     "output_type": "error",
     "traceback": [
      "\u001b[0;36m  Cell \u001b[0;32mIn[414], line 1\u001b[0;36m\u001b[0m\n\u001b[0;31m    break\u001b[0m\n\u001b[0m    ^\u001b[0m\n\u001b[0;31mSyntaxError\u001b[0m\u001b[0;31m:\u001b[0m 'break' outside loop\n"
     ]
    }
   ],
   "source": [
    "break"
   ]
  },
  {
   "attachments": {
    "cfc75acd-47f5-4cf9-a01e-514d0a5818e0.png": {
     "image/png": "[encoded data removed]"
    }
   },
   "cell_type": "markdown",
   "id": "26d9391f-3bbf-4897-aa03-1608ad8cac1c",
   "metadata": {},
   "source": [
    "![image.png](attachment:cfc75acd-47f5-4cf9-a01e-514d0a5818e0.png)"
   ]
  },
  {
   "cell_type": "markdown",
   "id": "cb4e2a8a-379c-4f34-baa3-fb0f87b4f1c8",
   "metadata": {},
   "source": [
    "# def"
   ]
  },
  {
   "cell_type": "code",
   "execution_count": 104,
   "id": "2d58128e-6a56-4157-87bd-2d5d69a50d4b",
   "metadata": {
    "tags": []
   },
   "outputs": [],
   "source": [
    "def rephrase(to):\n",
    "    if type(to)==str:\n",
    "        return (to,8080)\n",
    "def send(data,to,header=b\"C\"):\n",
    "    to=rephrase(to)\n",
    "    if type(data)==str:data=data.encode()\n",
    "    R.s.sendto(header+data,to)"
   ]
  },
  {
   "cell_type": "code",
   "execution_count": 105,
   "id": "e9a76e33-fa59-49f4-808a-1eb0266f3bc4",
   "metadata": {
    "tags": []
   },
   "outputs": [],
   "source": [
    "light=\"192.168.2.223\"\n",
    "fan=\"192.168.1.20\"\n",
    "heat=\"192.168.2.109\"\n",
    "tes=\"192.168.2.227\"\n",
    "\n",
    "def relay_on(location):send(\"esp.relay.on();_=0\",location)\n",
    "def relay_off(location):send(\"esp.relay.off();_=0\",location)"
   ]
  },
  {
   "cell_type": "code",
   "execution_count": 107,
   "id": "f447ad6b-88a7-4527-a1b4-73a51a5aa80c",
   "metadata": {
    "tags": []
   },
   "outputs": [],
   "source": [
    "relay_off(tes)"
   ]
  },
  {
   "cell_type": "markdown",
   "id": "26007645-35db-4c8b-afcd-d568e61f5dd3",
   "metadata": {},
   "source": [
    "# main"
   ]
  },
  {
   "cell_type": "code",
   "execution_count": null,
   "id": "05f3835f-6c6e-46b1-90f2-2465ec937b14",
   "metadata": {},
   "outputs": [],
   "source": []
  },
  {
   "cell_type": "code",
   "execution_count": null,
   "id": "6d24eff0-7701-456b-aa4d-845f26803ed5",
   "metadata": {},
   "outputs": [],
   "source": [
    "R.send_exe(f\"(esp.drums.cancel(),esp.light.duty(0))\")"
   ]
  },
  {
   "cell_type": "code",
   "execution_count": null,
   "id": "98632c0d-a44c-47d9-9550-665a6ffc6868",
   "metadata": {},
   "outputs": [],
   "source": [
    "R.send_exe(\"from reluer import MyRelu;actor=MyRelu()\")"
   ]
  },
  {
   "cell_type": "code",
   "execution_count": null,
   "id": "e132c66a-d33a-4a33-ac35-2d14cad3b4cc",
   "metadata": {},
   "outputs": [],
   "source": [
    "R.send_exe(\"esp.params=actor.unpack_from\")"
   ]
  },
  {
   "cell_type": "code",
   "execution_count": null,
   "id": "00df1698-c62f-47b7-a5e8-87f1a1fb6001",
   "metadata": {},
   "outputs": [],
   "source": [
    "R.send_exe(\"R.decode_list=[['4B', 'rec_s_time'],['185f','params']]\")\n",
    "R.encode_list=[['4B', 'get_s_time'], ['185f', 'params']]"
   ]
  },
  {
   "cell_type": "code",
   "execution_count": null,
   "id": "bee5d79e-4adf-4379-a098-0cc69e240a73",
   "metadata": {},
   "outputs": [],
   "source": []
  },
  {
   "cell_type": "code",
   "execution_count": null,
   "id": "d8c2e7a1-4ebf-448b-9aac-42f21b1b9249",
   "metadata": {},
   "outputs": [],
   "source": [
    "R.send_exe(\"esp.pi([0,0,1])\")"
   ]
  },
  {
   "cell_type": "code",
   "execution_count": null,
   "id": "26fe6c61-aa89-47ca-b67e-e9b907d65196",
   "metadata": {},
   "outputs": [],
   "source": [
    "R.send_exe(\"esp.done\")"
   ]
  },
  {
   "cell_type": "code",
   "execution_count": null,
   "id": "2bec4dee-572e-48cd-8ad8-f0a0ebe75a33",
   "metadata": {},
   "outputs": [],
   "source": [
    "R.send_exe(\"esp.act.done()\")"
   ]
  },
  {
   "cell_type": "code",
   "execution_count": null,
   "id": "e168ade7-6bef-4464-b90e-5ef699b4061a",
   "metadata": {},
   "outputs": [],
   "source": [
    "R.send_exe(\"esp.I=I2C(0,scl=Pin(35),sda=Pin(33),freq=1000000)\")"
   ]
  },
  {
   "cell_type": "code",
   "execution_count": null,
   "id": "b044150c-0423-40af-ae5c-3725e0fdc9d2",
   "metadata": {},
   "outputs": [],
   "source": [
    "R.send_exe(\"esp.I.scan()\")"
   ]
  },
  {
   "cell_type": "code",
   "execution_count": null,
   "id": "f1bc76f2-d999-41d8-9bd2-be803efc2b56",
   "metadata": {},
   "outputs": [],
   "source": [
    "R.send_exe(\"esp.I\")"
   ]
  },
  {
   "cell_type": "code",
   "execution_count": 169,
   "id": "5a2d8e45-ed9c-4417-89a5-3c386188bdd3",
   "metadata": {},
   "outputs": [
    {
     "data": {
      "application/vnd.jupyter.widget-view+json": {
       "model_id": "3464281a44ad498c85b50ba4808517c1",
       "version_major": 2,
       "version_minor": 0
      },
      "text/plain": [
       "Box(children=(Button(description='buttoner', disabled=True, layout=Layout(height='30px', width='auto'), style=…"
      ]
     },
     "metadata": {},
     "output_type": "display_data"
    },
    {
     "data": {
      "application/vnd.jupyter.widget-view+json": {
       "model_id": "e1062e4ee1f54c5494ba626da3984e5e",
       "version_major": 2,
       "version_minor": 0
      },
      "text/plain": [
       "Box(children=(StateButton(description='loop_timer', layout=Layout(height='30px'), style=ButtonStyle(button_col…"
      ]
     },
     "metadata": {},
     "output_type": "display_data"
    },
    {
     "data": {
      "application/vnd.jupyter.widget-view+json": {
       "model_id": "381acdc535ea4430bbe84efe9d2b1ee2",
       "version_major": 2,
       "version_minor": 0
      },
      "text/plain": [
       "Box(children=(StateButton(description='control_loop', layout=Layout(height='30px'), style=ButtonStyle(button_c…"
      ]
     },
     "metadata": {},
     "output_type": "display_data"
    }
   ],
   "source": [
    "s.display()"
   ]
  },
  {
   "cell_type": "code",
   "execution_count": null,
   "id": "22536e34-6c5b-4f6f-8dc6-487d597b8576",
   "metadata": {},
   "outputs": [],
   "source": []
  },
  {
   "cell_type": "code",
   "execution_count": 177,
   "id": "8aa1cb6b-3cc7-4cd1-9c42-a48d27b85af0",
   "metadata": {},
   "outputs": [],
   "source": [
    "R.send_exe(f\"esp.pca.__dict__\")"
   ]
  },
  {
   "cell_type": "code",
   "execution_count": null,
   "id": "ee92eccb-2c32-4139-a639-21a543c3d563",
   "metadata": {},
   "outputs": [],
   "source": []
  },
  {
   "cell_type": "code",
   "execution_count": null,
   "id": "b976497d-3e75-4517-9d96-34d1b6775ef3",
   "metadata": {},
   "outputs": [],
   "source": [
    "R.send_exe(\"inp=np.array([1,1,1])\")"
   ]
  },
  {
   "cell_type": "code",
   "execution_count": null,
   "id": "6d8d4259-1935-41e0-834e-072d476ade36",
   "metadata": {},
   "outputs": [],
   "source": [
    "R.send_exe('inp=np.dot(inp,actor.params[\"linear\"][\"w\"])+actor.params[\"linear\"][\"b\"]')"
   ]
  },
  {
   "cell_type": "code",
   "execution_count": null,
   "id": "a8e72501-d2b5-485d-92c1-5b3a082c123e",
   "metadata": {},
   "outputs": [],
   "source": [
    "R.send_exe(\"inp=np.maximum(inp,0)\")"
   ]
  },
  {
   "cell_type": "code",
   "execution_count": null,
   "id": "aa2389e0-2859-476a-8786-cd346331e2d1",
   "metadata": {},
   "outputs": [],
   "source": [
    "R.send_exe(\"inp\")"
   ]
  },
  {
   "cell_type": "code",
   "execution_count": null,
   "id": "7ea8d0f9-0d2c-4e78-ba71-467e72fd0699",
   "metadata": {},
   "outputs": [],
   "source": [
    "R.send_exe('inp=np.dot(inp,actor.params[\"linear_1\"][\"w\"])+actor.params[\"linear_1\"][\"b\"]')"
   ]
  },
  {
   "cell_type": "code",
   "execution_count": null,
   "id": "ed343eb0-d2d5-42e6-b835-0b62b14554cb",
   "metadata": {},
   "outputs": [],
   "source": [
    "R.send_exe('actor.params.keys()')"
   ]
  },
  {
   "cell_type": "code",
   "execution_count": null,
   "id": "cd071813-350c-4cfb-bc62-36996f709dcf",
   "metadata": {},
   "outputs": [],
   "source": [
    "R.send_exe(\"inp\")"
   ]
  },
  {
   "cell_type": "code",
   "execution_count": null,
   "id": "bcbeee35-9d17-4168-b62c-4d693dec003c",
   "metadata": {},
   "outputs": [],
   "source": [
    "R.send_exe(\"\")"
   ]
  },
  {
   "cell_type": "code",
   "execution_count": null,
   "id": "de3c64bd-d99b-4e40-91a2-3db65e99e123",
   "metadata": {},
   "outputs": [],
   "source": [
    "R.send_exe(\"actor\")"
   ]
  },
  {
   "cell_type": "code",
   "execution_count": null,
   "id": "da73c95f-e11b-42f8-9bc2-f34817ad0160",
   "metadata": {},
   "outputs": [],
   "source": []
  },
  {
   "cell_type": "code",
   "execution_count": 173,
   "id": "e3ae50ed-e112-420d-8493-2af68e77b363",
   "metadata": {},
   "outputs": [
    {
     "data": {
      "application/vnd.jupyter.widget-view+json": {
       "model_id": "3464281a44ad498c85b50ba4808517c1",
       "version_major": 2,
       "version_minor": 0
      },
      "text/plain": [
       "Box(children=(Button(description='buttoner', disabled=True, layout=Layout(height='30px', width='auto'), style=…"
      ]
     },
     "metadata": {},
     "output_type": "display_data"
    },
    {
     "data": {
      "application/vnd.jupyter.widget-view+json": {
       "model_id": "e1062e4ee1f54c5494ba626da3984e5e",
       "version_major": 2,
       "version_minor": 0
      },
      "text/plain": [
       "Box(children=(StateButton(description='loop_timer', layout=Layout(height='30px'), style=ButtonStyle(button_col…"
      ]
     },
     "metadata": {},
     "output_type": "display_data"
    },
    {
     "data": {
      "application/vnd.jupyter.widget-view+json": {
       "model_id": "381acdc535ea4430bbe84efe9d2b1ee2",
       "version_major": 2,
       "version_minor": 0
      },
      "text/plain": [
       "Box(children=(StateButton(description='control_loop', layout=Layout(height='30px'), style=ButtonStyle(button_c…"
      ]
     },
     "metadata": {},
     "output_type": "display_data"
    }
   ],
   "source": [
    "s.display()"
   ]
  },
  {
   "cell_type": "code",
   "execution_count": null,
   "id": "7f1719b5-03c5-40aa-8e6e-f8eed03e67f4",
   "metadata": {},
   "outputs": [],
   "source": [
    "R.send_exe(f\"esp.to=[]\")"
   ]
  },
  {
   "cell_type": "code",
   "execution_count": null,
   "id": "6d5e457f-557a-4df5-af10-561eb02fdaf4",
   "metadata": {},
   "outputs": [],
   "source": [
    "R.send_exe(\"from machine import Pin,I2C,ADC;an=Pin(5,Pin.IN)\")"
   ]
  },
  {
   "cell_type": "code",
   "execution_count": null,
   "id": "032c7004-77ab-460c-b99b-1cae602bdf4f",
   "metadata": {},
   "outputs": [],
   "source": [
    "R.send_exe(\"an\")"
   ]
  },
  {
   "cell_type": "code",
   "execution_count": null,
   "id": "a341980d-5465-47b1-8260-117737c1c045",
   "metadata": {},
   "outputs": [],
   "source": [
    "R.send_exe(\"ADC(Pin(5)).read()\")"
   ]
  },
  {
   "cell_type": "code",
   "execution_count": null,
   "id": "3639ade8-3b74-4096-ae0a-9255e1a8a2ff",
   "metadata": {},
   "outputs": [],
   "source": [
    "R.send_exe(\"esp.as1.OUTS\")"
   ]
  },
  {
   "cell_type": "code",
   "execution_count": null,
   "id": "f94963d9-7e63-4a02-8015-c672f962f794",
   "metadata": {},
   "outputs": [],
   "source": [
    "R.send_exe(\"esp.as1.OUTS=1\")"
   ]
  },
  {
   "cell_type": "code",
   "execution_count": null,
   "id": "ebeb6bf6-c5f6-42df-88e8-653655119a6e",
   "metadata": {},
   "outputs": [],
   "source": [
    "R.send_exe(\"get_times(100)\")"
   ]
  },
  {
   "cell_type": "code",
   "execution_count": null,
   "id": "68980b2e-de19-4676-ac5d-bb1df9d356dd",
   "metadata": {},
   "outputs": [],
   "source": [
    "R.send_exe(\"\")"
   ]
  },
  {
   "cell_type": "code",
   "execution_count": null,
   "id": "fb7f41cc-1f57-4dd5-b53b-b10c86703ebb",
   "metadata": {},
   "outputs": [],
   "source": [
    "R.send_exe(\"\")"
   ]
  },
  {
   "cell_type": "code",
   "execution_count": null,
   "id": "fca29f6e-743a-498f-90fb-f5ab6255fa40",
   "metadata": {},
   "outputs": [],
   "source": [
    "R.send_exe(\"esp.env.now_step=200\")"
   ]
  },
  {
   "cell_type": "code",
   "execution_count": null,
   "id": "7f57b92e-847b-4d44-bd05-960133823687",
   "metadata": {},
   "outputs": [],
   "source": [
    "R.send_exe(\"esp.real([2])\")"
   ]
  },
  {
   "cell_type": "code",
   "execution_count": null,
   "id": "b8c7a7ba-3f44-485b-9abd-2fdc3d231ca5",
   "metadata": {},
   "outputs": [],
   "source": [
    "R.send_exe(\"esp.real([1])\")"
   ]
  },
  {
   "cell_type": "code",
   "execution_count": null,
   "id": "cd9f442a-b94d-4374-9c60-fcfe4bc6a9af",
   "metadata": {},
   "outputs": [],
   "source": [
    "R.send_exe(\"esp.real([-2])\")"
   ]
  },
  {
   "cell_type": "code",
   "execution_count": null,
   "id": "1fe395a1-3733-48f3-9d62-3981230a91b9",
   "metadata": {},
   "outputs": [],
   "source": [
    "R.send_exe(\"esp.real([-1])\")"
   ]
  },
  {
   "cell_type": "code",
   "execution_count": null,
   "id": "bd62ae9c-6fc7-497e-bbcb-f950706171ef",
   "metadata": {},
   "outputs": [],
   "source": [
    "R.send_exe(\"esp.real([0])\")"
   ]
  },
  {
   "cell_type": "code",
   "execution_count": null,
   "id": "0d591457-97ab-4083-a5d3-11c5ff78cd95",
   "metadata": {},
   "outputs": [],
   "source": [
    "R.send_exe(\"esp.ta=loop.create_task(esp.real.go_to(100,0))\")"
   ]
  },
  {
   "cell_type": "code",
   "execution_count": null,
   "id": "6fa4dcb7-3625-4f8d-a1f6-2ddf3e4d4024",
   "metadata": {},
   "outputs": [],
   "source": [
    "R.send_exe(\"esp.real.get_angle()\")"
   ]
  },
  {
   "cell_type": "code",
   "execution_count": null,
   "id": "41e6cf94-276b-42c3-8212-233073a18126",
   "metadata": {},
   "outputs": [],
   "source": [
    "R.send_exe(\"esp.act=loop.create_task(learn_loop())\")"
   ]
  },
  {
   "cell_type": "code",
   "execution_count": null,
   "id": "7adcb486-2ef3-4ea8-8489-13a9c62fdd47",
   "metadata": {},
   "outputs": [],
   "source": [
    "R.send_exe(\"esp.act.cancel()\")"
   ]
  },
  {
   "cell_type": "code",
   "execution_count": null,
   "id": "7cb75118-81d2-4685-83cc-e69078c34190",
   "metadata": {},
   "outputs": [],
   "source": [
    "R.send_exe(\"esp.real([0])\")"
   ]
  },
  {
   "cell_type": "code",
   "execution_count": null,
   "id": "990766c0-8092-41d3-9b8d-801c8e48ab68",
   "metadata": {},
   "outputs": [],
   "source": [
    "R.send_exe(\"import sys;sys.exit();_=0\")"
   ]
  },
  {
   "cell_type": "code",
   "execution_count": null,
   "id": "9a5edfca-ec2d-4c01-a407-df24e514e17e",
   "metadata": {},
   "outputs": [],
   "source": []
  },
  {
   "cell_type": "code",
   "execution_count": null,
   "id": "3d0c8bda-15d2-44f5-8a49-1e742b51a02f",
   "metadata": {},
   "outputs": [],
   "source": [
    "R.send_exe(\"esp.as1\")"
   ]
  },
  {
   "cell_type": "code",
   "execution_count": null,
   "id": "62aa063b-483a-4086-ab8f-9360deda366f",
   "metadata": {},
   "outputs": [],
   "source": [
    "R.send_exe(\"k=esp.as1\")"
   ]
  },
  {
   "cell_type": "code",
   "execution_count": null,
   "id": "fceaa3bd-6752-46df-8c40-34a2e63e64b9",
   "metadata": {},
   "outputs": [],
   "source": [
    "R.send_exe(\"k.MD\")"
   ]
  },
  {
   "cell_type": "code",
   "execution_count": null,
   "id": "c4c23c23-9b92-4d00-96e3-15806c628f1f",
   "metadata": {},
   "outputs": [],
   "source": [
    "R.send_exe(\"k.ML\")"
   ]
  },
  {
   "cell_type": "code",
   "execution_count": null,
   "id": "9faad808-9300-4dcd-95b7-89d6e159f4e9",
   "metadata": {},
   "outputs": [],
   "source": [
    "R.send_exe(\"k.MH\")"
   ]
  },
  {
   "cell_type": "code",
   "execution_count": null,
   "id": "341f27f4-1344-42b2-81aa-1ba7eeef8e87",
   "metadata": {},
   "outputs": [],
   "source": [
    "R.send_exe(\"k.ANGLE\")"
   ]
  },
  {
   "cell_type": "code",
   "execution_count": null,
   "id": "be5e8fea-b16b-4018-92d7-94c59408d902",
   "metadata": {},
   "outputs": [],
   "source": [
    "R.send_exe(\"\")"
   ]
  },
  {
   "cell_type": "code",
   "execution_count": null,
   "id": "eb5891a6-ed99-4a28-bd07-eb75b3b41f3a",
   "metadata": {},
   "outputs": [],
   "source": [
    "R.send_exe(\"\")"
   ]
  },
  {
   "cell_type": "code",
   "execution_count": null,
   "id": "6678db56-095a-4bf8-a14a-46ae2f4c8d70",
   "metadata": {},
   "outputs": [],
   "source": [
    "R.send_exe(\"\")"
   ]
  },
  {
   "cell_type": "code",
   "execution_count": null,
   "id": "780f7412-d9a2-4e47-8c59-f89a31de78a2",
   "metadata": {},
   "outputs": [],
   "source": [
    "R.send_exe(\"time.ticks_ms()\")"
   ]
  },
  {
   "cell_type": "code",
   "execution_count": null,
   "id": "6dcc3256-feca-45be-8c33-884bede415f1",
   "metadata": {},
   "outputs": [],
   "source": []
  },
  {
   "cell_type": "code",
   "execution_count": null,
   "id": "4c03f8b2-c005-4233-a18c-01ff4c7bf891",
   "metadata": {},
   "outputs": [],
   "source": [
    "s.display()"
   ]
  },
  {
   "cell_type": "code",
   "execution_count": null,
   "id": "9fc41a91-1614-46a9-921c-1572e1a0d755",
   "metadata": {},
   "outputs": [],
   "source": []
  },
  {
   "cell_type": "code",
   "execution_count": null,
   "id": "85fd382f-555e-49af-8da7-ab0cc404fdb2",
   "metadata": {},
   "outputs": [],
   "source": [
    "R.send_exe(\"esp\")"
   ]
  },
  {
   "cell_type": "code",
   "execution_count": null,
   "id": "c9c12d4b-94cc-4a57-bb5d-ed9c5a1731bb",
   "metadata": {},
   "outputs": [],
   "source": [
    "R.send_exe(\"esp.to=[]\")"
   ]
  },
  {
   "cell_type": "code",
   "execution_count": null,
   "id": "9e0ae6e4-cf13-4c1d-8439-61abb9ed6cfd",
   "metadata": {},
   "outputs": [],
   "source": [
    "R.send_exe(\"esp.to\")"
   ]
  },
  {
   "cell_type": "code",
   "execution_count": null,
   "id": "bb6fcd42-4ec4-4fb0-963e-2317757fae9a",
   "metadata": {},
   "outputs": [],
   "source": [
    "x=63"
   ]
  },
  {
   "cell_type": "code",
   "execution_count": null,
   "id": "a74a43cb-7bd6-4305-8d87-be3a50179be3",
   "metadata": {},
   "outputs": [],
   "source": [
    "x=16383"
   ]
  },
  {
   "cell_type": "code",
   "execution_count": null,
   "id": "54a12258-32c1-4514-bd63-3153593d00a7",
   "metadata": {},
   "outputs": [],
   "source": [
    "R.send_exe(f\"esp.m0.frequency({x})\")"
   ]
  },
  {
   "cell_type": "code",
   "execution_count": null,
   "id": "8420a343-b4c1-4416-9e02-277b397e7149",
   "metadata": {},
   "outputs": [],
   "source": [
    "R.send_exe(\"esp.m0.frequency()\")"
   ]
  },
  {
   "cell_type": "code",
   "execution_count": null,
   "id": "8f15c75c-96d4-420f-bd53-d02f144281d9",
   "metadata": {},
   "outputs": [],
   "source": [
    "R.send_exe(\"esp.m0.speed(0)\")"
   ]
  },
  {
   "cell_type": "code",
   "execution_count": null,
   "id": "df31a3aa-164d-4ebe-8796-0e32897c871d",
   "metadata": {},
   "outputs": [],
   "source": [
    "R.send_exe(\"esp.m0.speed(50)\")"
   ]
  },
  {
   "cell_type": "code",
   "execution_count": null,
   "id": "a8244f38-f967-429b-a178-02adc53b31cc",
   "metadata": {},
   "outputs": [],
   "source": [
    "R.send_exe(\"esp.m0.speed(-50)\")"
   ]
  },
  {
   "cell_type": "code",
   "execution_count": null,
   "id": "828ed1b8-392c-4f64-9b82-55be6ed70d33",
   "metadata": {},
   "outputs": [],
   "source": [
    "R.send_exe(\"esp.m0.speed(0)\")"
   ]
  },
  {
   "cell_type": "code",
   "execution_count": null,
   "id": "7ca96af1-0c40-4377-b74a-335d42672524",
   "metadata": {},
   "outputs": [],
   "source": [
    "R.send_exe(\"\")"
   ]
  },
  {
   "cell_type": "code",
   "execution_count": null,
   "id": "be391b57-c793-43f5-8e9f-ac8071bc19b7",
   "metadata": {},
   "outputs": [],
   "source": [
    "R.send_exe(\"esp.real.state\")"
   ]
  },
  {
   "cell_type": "code",
   "execution_count": null,
   "id": "15b97767-09cd-4f6a-bf4c-5fb45d14c09b",
   "metadata": {},
   "outputs": [],
   "source": []
  },
  {
   "cell_type": "code",
   "execution_count": null,
   "id": "b77320ba-e182-428a-bd3e-7c1c50747355",
   "metadata": {},
   "outputs": [],
   "source": [
    "s.display()"
   ]
  },
  {
   "cell_type": "code",
   "execution_count": null,
   "id": "b3d56384-3e0d-431f-98c9-59a17d012410",
   "metadata": {},
   "outputs": [],
   "source": []
  },
  {
   "cell_type": "code",
   "execution_count": null,
   "id": "6cc150cf-bdff-408f-9f2a-bdccaded35ed",
   "metadata": {},
   "outputs": [],
   "source": [
    "R.send_exe(\"\")"
   ]
  },
  {
   "cell_type": "code",
   "execution_count": null,
   "id": "bd75e38e-c808-423f-8447-8c10aca4e45f",
   "metadata": {},
   "outputs": [],
   "source": [
    "R.send_exe(\"\")"
   ]
  },
  {
   "cell_type": "code",
   "execution_count": null,
   "id": "9ee4e533-351e-4c9f-94b5-9689a3a50bfb",
   "metadata": {},
   "outputs": [],
   "source": [
    "R.send_exe(\"\")"
   ]
  },
  {
   "cell_type": "code",
   "execution_count": null,
   "id": "653ad611-d7e4-4e4a-85f6-43e2f41ba830",
   "metadata": {},
   "outputs": [],
   "source": [
    "R.send_exe(\"\")"
   ]
  },
  {
   "cell_type": "code",
   "execution_count": null,
   "id": "1e41d04d-2601-47b1-9eca-bdbe04e03ee3",
   "metadata": {},
   "outputs": [],
   "source": []
  },
  {
   "cell_type": "code",
   "execution_count": null,
   "id": "a71c7f51-2d17-4b2a-a2c9-e73db69ff5b3",
   "metadata": {},
   "outputs": [],
   "source": [
    "R.dict[\"rec_s_time\"]"
   ]
  },
  {
   "cell_type": "code",
   "execution_count": null,
   "id": "2378809c-2aeb-441d-bf25-2863b68ae565",
   "metadata": {},
   "outputs": [],
   "source": []
  },
  {
   "cell_type": "code",
   "execution_count": null,
   "id": "12302aef-4762-4d28-ab53-d011544d2558",
   "metadata": {},
   "outputs": [],
   "source": [
    "def rett(task):\n",
    "    task.start()\n",
    "    return []\n",
    "\n",
    "@TaskHandlerButtonAdvanced.add_to_state_button(s, rett)\n",
    "async def show_loop(task, sleep_interval=0.05, keep_len=10):\n",
    "    # global actions\n",
    "    # obs = task.widgets[0]\n",
    "    \n",
    "    @loop(sleep_interval)\n",
    "    def go():\n",
    "        import cv2\n",
    "        cv2.waitKey(1)\n",
    "        import numpy as np\n",
    "        get=np.frombuffer(R.dict[\"eye\"],dtype=np.uint8).reshape((25,25))\n",
    "        get=cv2.rotate(get, cv2.ROTATE_90_CLOCKWISE)\n",
    "        cv2.imshow(\"a\",cv2.resize(get,(400,400)))\n",
    "    \n",
    "    await asyncio.gather(R.loop_recv(),go())\n",
    "t_s=show_loop(\"show_loop\")"
   ]
  },
  {
   "cell_type": "code",
   "execution_count": null,
   "id": "b8d0c54a-543d-4928-ad3a-e505adef8d9d",
   "metadata": {},
   "outputs": [],
   "source": [
    "s.display()"
   ]
  },
  {
   "cell_type": "code",
   "execution_count": null,
   "id": "74de3cf2-7190-4549-8d2a-62748ed03e9a",
   "metadata": {},
   "outputs": [],
   "source": []
  },
  {
   "cell_type": "code",
   "execution_count": null,
   "id": "d75f5a41-d4bf-422b-ba24-1801f90c8edd",
   "metadata": {},
   "outputs": [],
   "source": [
    "R.send_exe(f\"esp.to=[]\")"
   ]
  },
  {
   "cell_type": "code",
   "execution_count": null,
   "id": "9411bcc2-b901-4265-bd5a-49bf3e65d5b5",
   "metadata": {},
   "outputs": [],
   "source": [
    "R.send_exe(\"get=loop.create_task(t())\")"
   ]
  },
  {
   "cell_type": "code",
   "execution_count": null,
   "id": "d9f80a57-3827-409e-92f9-8f5cb31d7e58",
   "metadata": {},
   "outputs": [],
   "source": [
    "R.send_exe(\"get.cancel()\")"
   ]
  },
  {
   "cell_type": "code",
   "execution_count": null,
   "id": "07a72a4d-3e9a-4de6-a257-94dd0c8b6391",
   "metadata": {},
   "outputs": [],
   "source": []
  },
  {
   "cell_type": "code",
   "execution_count": null,
   "id": "56af32ab-2830-4289-baa4-ad197c1c053d",
   "metadata": {},
   "outputs": [],
   "source": []
  },
  {
   "cell_type": "code",
   "execution_count": null,
   "id": "3237879a-c711-43c5-bbab-7ef9099ee990",
   "metadata": {},
   "outputs": [],
   "source": []
  },
  {
   "cell_type": "code",
   "execution_count": null,
   "id": "d2e20a4c-5443-4c62-8843-f7655f1d6477",
   "metadata": {},
   "outputs": [],
   "source": [
    "rawData=b\"1234\"\n",
    "rawData=rawData[0:0]"
   ]
  },
  {
   "cell_type": "code",
   "execution_count": null,
   "id": "a871ee24-c2c0-4f42-960e-a73f60969702",
   "metadata": {},
   "outputs": [],
   "source": [
    "rawData"
   ]
  },
  {
   "cell_type": "code",
   "execution_count": null,
   "id": "4baad1f0-da5f-492b-ba83-b16a994b5340",
   "metadata": {},
   "outputs": [],
   "source": []
  },
  {
   "cell_type": "code",
   "execution_count": null,
   "id": "2b4117a3-6b53-49eb-b2cf-495fe5e3e919",
   "metadata": {},
   "outputs": [],
   "source": []
  },
  {
   "cell_type": "code",
   "execution_count": null,
   "id": "0cb6df7d-a334-4e58-aad5-c074e86eaef3",
   "metadata": {},
   "outputs": [],
   "source": []
  },
  {
   "cell_type": "code",
   "execution_count": null,
   "id": "developed-polymer",
   "metadata": {},
   "outputs": [],
   "source": [
    "from multiprocessing.managers import BaseManager\n",
    "class QueueManager(BaseManager): pass\n",
    "\n",
    "\n",
    "QueueManager.register('qi')\n",
    "\n",
    "m = QueueManager(address=('', 8881), authkey=b'howdy')\n",
    "m.connect()\n",
    "\n",
    "q = m.qi()"
   ]
  },
  {
   "cell_type": "code",
   "execution_count": null,
   "id": "loose-parking",
   "metadata": {},
   "outputs": [],
   "source": []
  },
  {
   "cell_type": "raw",
   "id": "9a676e0e-aaa5-4b84-96d7-2320a723ba9f",
   "metadata": {},
   "source": [
    "import gymnasium as gym\n",
    "env = gym.make(\"CarRacing-v2\", domain_randomize=True, render_mode=\"human\")\n",
    "env = gym.make(\"CarRacing-v2\", domain_randomize=False, render_mode=\"human\")"
   ]
  },
  {
   "cell_type": "raw",
   "id": "c99e8bc7-e34c-4f64-8b42-e0759a14f864",
   "metadata": {},
   "source": [
    "actions=[0,0,0]"
   ]
  },
  {
   "cell_type": "raw",
   "id": "df722255-3df9-4057-ad55-3aec285cc9cd",
   "metadata": {},
   "source": [
    "def rett(task):\n",
    "    k=ipywidgets.Textarea(layout=ipywidgets.Layout(width='500px', height='100px'))\n",
    "    task.start()\n",
    "    return (k,)\n",
    "\n",
    "@TaskHandlerButtonAdvanced.add_to_state_button(s, rett)\n",
    "async def control_loop(task, sleep_interval=0.05, keep_len=10):\n",
    "    global actions\n",
    "    obs = task.widgets[0]\n",
    "    observation, info = env.reset(seed=42,options={\"randomize\": False})        \n",
    "    while 1:\n",
    "        await asyncio.sleep(sleep_interval)\n",
    "\n",
    "        observation, reward, terminated, truncated, info = env.step(actions)\n",
    "        env.render()\n",
    "\n",
    "        if terminated or truncated:\n",
    "            observation, info = env.reset()\n",
    "\n",
    "#         obs.value=str(observation)\n",
    "        \n",
    "t=control_loop(\"control_loop\")"
   ]
  },
  {
   "cell_type": "code",
   "execution_count": null,
   "id": "indirect-bachelor",
   "metadata": {},
   "outputs": [],
   "source": []
  },
  {
   "cell_type": "code",
   "execution_count": null,
   "id": "compressed-wisconsin",
   "metadata": {},
   "outputs": [],
   "source": [
    "s.display()"
   ]
  },
  {
   "cell_type": "code",
   "execution_count": null,
   "id": "christian-spending",
   "metadata": {},
   "outputs": [],
   "source": []
  },
  {
   "cell_type": "code",
   "execution_count": null,
   "id": "modular-slovenia",
   "metadata": {},
   "outputs": [],
   "source": [
    "def rett(task):\n",
    "    k=ipywidgets.Textarea(layout=ipywidgets.Layout(width='500px', height='100px'))\n",
    "    task.start()\n",
    "    return (k,)\n",
    "\n",
    "@TaskHandlerButtonAdvanced.add_to_state_button(s, rett)\n",
    "async def recv_loop(task, sleep_interval=0.2, keep_len=10):\n",
    "    global actions\n",
    "    obs = task.widgets[0]\n",
    "    \n",
    "    from queue import Empty\n",
    "    @try_loop(0.01,skip_errors=(Empty,))\n",
    "    async def do():\n",
    "        arr=q.get_nowait()\n",
    "        obs.value=str(arr)\n",
    "        actions[0]=arr[3]\n",
    "        n=-arr[4]\n",
    "        if n>0:\n",
    "            actions[1]=n\n",
    "            actions[2]=0\n",
    "        else:\n",
    "            actions[1]=0\n",
    "            actions[2]=-n\n",
    "        \n",
    "    await asyncio.gather(do())\n",
    "        \n",
    "t=recv_loop(\"recv_loop\")"
   ]
  },
  {
   "cell_type": "code",
   "execution_count": null,
   "id": "right-private",
   "metadata": {},
   "outputs": [],
   "source": []
  },
  {
   "cell_type": "code",
   "execution_count": null,
   "id": "progressive-blogger",
   "metadata": {},
   "outputs": [],
   "source": [
    "s.display()"
   ]
  },
  {
   "cell_type": "code",
   "execution_count": null,
   "id": "encouraging-portrait",
   "metadata": {},
   "outputs": [],
   "source": [
    "q"
   ]
  },
  {
   "cell_type": "code",
   "execution_count": null,
   "id": "close-schedule",
   "metadata": {},
   "outputs": [],
   "source": []
  }
 ],
 "metadata": {
  "kernelspec": {
   "display_name": "Python 3 (ipykernel)",
   "language": "python",
   "name": "python3"
  },
  "language_info": {
   "codemirror_mode": {
    "name": "ipython",
    "version": 3
   },
   "file_extension": ".py",
   "mimetype": "text/x-python",
   "name": "python",
   "nbconvert_exporter": "python",
   "pygments_lexer": "ipython3",
   "version": "3.12.5"
  }
 },
 "nbformat": 4,
 "nbformat_minor": 5
}
