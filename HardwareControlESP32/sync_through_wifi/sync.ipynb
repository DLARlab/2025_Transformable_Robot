{
 "cells": [
  {
   "cell_type": "code",
   "execution_count": 1,
   "id": "ad983196-ef21-42b5-a4e5-7e201e444e41",
   "metadata": {},
   "outputs": [
    {
     "name": "stderr",
     "output_type": "stream",
     "text": [
      "C:\\Users\\tomxi\\Documents\\pythons\\esp32_control\\webrepls\\remote_connection\\sync_handler.py:21: SyntaxWarning: invalid escape sequence '\\.'\n",
      "  if not re.search(\"\\.\",place):place+=\".mshome.net\"\n"
     ]
    }
   ],
   "source": [
    "%run ../webrepls/remote_connection/sync_handler.py"
   ]
  },
  {
   "cell_type": "code",
   "execution_count": 2,
   "id": "da3f3250-c69b-414e-8a42-eabf09bc0412",
   "metadata": {},
   "outputs": [],
   "source": [
    "ff=File(\"turn_file\")"
   ]
  },
  {
   "cell_type": "code",
   "execution_count": 3,
   "id": "9464e145-cc13-4f24-ac71-efa98d787f55",
   "metadata": {},
   "outputs": [],
   "source": [
    "ff=File(\"shared_file\")"
   ]
  },
  {
   "cell_type": "code",
   "execution_count": 4,
   "id": "c28e5eb2-081f-4983-b3db-de4a51264d2a",
   "metadata": {},
   "outputs": [],
   "source": [
    "ESP=\"10.144.113.17\""
   ]
  },
  {
   "cell_type": "code",
   "execution_count": 5,
   "id": "d5a72ef6-1790-40fc-ba4a-1086697794fe",
   "metadata": {},
   "outputs": [],
   "source": [
    "ESP=\"10.144.113.252\""
   ]
  },
  {
   "cell_type": "raw",
   "id": "b279adad-8614-43c8-a2b4-cff25224279b",
   "metadata": {
    "tags": []
   },
   "source": [
    "sync_files(pyonly=False,)\n",
    "sync_files(ESP,ff)"
   ]
  },
  {
   "cell_type": "raw",
   "id": "3920d3b8-6fbc-45f0-989d-10c38fdf5fc7",
   "metadata": {},
   "source": [
    "turnoff(ESP)"
   ]
  },
  {
   "cell_type": "code",
   "execution_count": 6,
   "id": "c4ec4828-19a5-4557-9b2b-e97548b4c129",
   "metadata": {},
   "outputs": [
    {
     "ename": "SyntaxError",
     "evalue": "'break' outside loop (668683560.py, line 1)",
     "output_type": "error",
     "traceback": [
      "\u001b[1;36m  Cell \u001b[1;32mIn[6], line 1\u001b[1;36m\u001b[0m\n\u001b[1;33m    break\u001b[0m\n\u001b[1;37m    ^\u001b[0m\n\u001b[1;31mSyntaxError\u001b[0m\u001b[1;31m:\u001b[0m 'break' outside loop\n"
     ]
    }
   ],
   "source": [
    "break"
   ]
  },
  {
   "cell_type": "code",
   "execution_count": 10,
   "id": "d5a41ae6-1558-4006-a0ce-f3d12c1753ee",
   "metadata": {
    "scrolled": true
   },
   "outputs": [
    {
     "name": "stdout",
     "output_type": "stream",
     "text": [
      "[(<AddressFamily.AF_INET: 2>, 0, 0, '', ('10.144.113.252', 8266))]\n",
      "('10.144.113.252', 8266)\n",
      "Remote WebREPL version: (1, 23, 0)\n",
      "shared_file\n",
      "shared_file\\sim_control.py\n",
      "Sent 1746 of 1746 bytes\n"
     ]
    },
    {
     "name": "stderr",
     "output_type": "stream",
     "text": [
      "INFO:root:ws://10.144.113.252:8266/\n",
      "--- request header ---\n",
      "DEBUG:websocket:--- request header ---\n",
      "GET / HTTP/1.1\n",
      "Upgrade: websocket\n",
      "Host: 10.144.113.252:8266\n",
      "Origin: http://10.144.113.252:8266\n",
      "Sec-WebSocket-Key: iZPiGbhGkNYtn+SgakKuQQ==\n",
      "Sec-WebSocket-Version: 13\n",
      "Connection: Upgrade\n",
      "\n",
      "\n",
      "DEBUG:websocket:GET / HTTP/1.1\n",
      "Upgrade: websocket\n",
      "Host: 10.144.113.252:8266\n",
      "Origin: http://10.144.113.252:8266\n",
      "Sec-WebSocket-Key: iZPiGbhGkNYtn+SgakKuQQ==\n",
      "Sec-WebSocket-Version: 13\n",
      "Connection: Upgrade\n",
      "\n",
      "\n",
      "-----------------------\n",
      "DEBUG:websocket:-----------------------\n",
      "--- response header ---\n",
      "DEBUG:websocket:--- response header ---\n",
      "HTTP/1.1 101 Switching Protocols\n"
     ]
    },
    {
     "name": "stdout",
     "output_type": "stream",
     "text": [
      "done\n"
     ]
    },
    {
     "name": "stderr",
     "output_type": "stream",
     "text": [
      "DEBUG:websocket:HTTP/1.1 101 Switching Protocols\n",
      "Upgrade: websocket\n",
      "DEBUG:websocket:Upgrade: websocket\n",
      "Connection: Upgrade\n",
      "DEBUG:websocket:Connection: Upgrade\n",
      "Sec-WebSocket-Accept: nSlWlSjufj/bmOt015zi7rlJeRg=\n",
      "DEBUG:websocket:Sec-WebSocket-Accept: nSlWlSjufj/bmOt015zi7rlJeRg=\n",
      "-----------------------\n",
      "DEBUG:websocket:-----------------------\n",
      "Websocket connected\n",
      "INFO:websocket:Websocket connected\n",
      "++Rcv raw: b'\\x81\\nPassword: '\n",
      "DEBUG:websocket:++Rcv raw: b'\\x81\\nPassword: '\n",
      "++Rcv decoded: fin=1 opcode=1 data=b'Password: '\n",
      "DEBUG:websocket:++Rcv decoded: fin=1 opcode=1 data=b'Password: '\n",
      "INFO:root:Password: \n",
      "++Sent raw: b'\\x81\\x88\\xdd.\\xb2\\xdc\\xec\\x1d\\x87\\xec\\xec\\x1b\\xbf\\xd6'\n",
      "DEBUG:websocket:++Sent raw: b'\\x81\\x88\\xdd.\\xb2\\xdc\\xec\\x1d\\x87\\xec\\xec\\x1b\\xbf\\xd6'\n",
      "++Sent decoded: fin=1 opcode=1 data=b'135015\\r\\n'\n",
      "DEBUG:websocket:++Sent decoded: fin=1 opcode=1 data=b'135015\\r\\n'\n",
      "++Sent raw: b'\\x81\\x81n\\xa1\\x02\\xcfm'\n",
      "DEBUG:websocket:++Sent raw: b'\\x81\\x81n\\xa1\\x02\\xcfm'\n",
      "++Sent decoded: fin=1 opcode=1 data=b'\\x03'\n",
      "DEBUG:websocket:++Sent decoded: fin=1 opcode=1 data=b'\\x03'\n",
      "++Sent raw: b'\\x81\\x81;\\x05j\\xb98'\n",
      "DEBUG:websocket:++Sent raw: b'\\x81\\x81;\\x05j\\xb98'\n",
      "++Sent decoded: fin=1 opcode=1 data=b'\\x03'\n",
      "DEBUG:websocket:++Sent decoded: fin=1 opcode=1 data=b'\\x03'\n",
      "++Sent raw: b'\\x81\\x81\\xc1\\xeb\\x99\\xb5\\xc0'\n",
      "DEBUG:websocket:++Sent raw: b'\\x81\\x81\\xc1\\xeb\\x99\\xb5\\xc0'\n",
      "++Sent decoded: fin=1 opcode=1 data=b'\\x01'\n",
      "DEBUG:websocket:++Sent decoded: fin=1 opcode=1 data=b'\\x01'\n",
      "++Sent raw: b'\\x81\\x81X/\\xeb\\xb3Z'\n",
      "DEBUG:websocket:++Sent raw: b'\\x81\\x81X/\\xeb\\xb3Z'\n",
      "++Sent decoded: fin=1 opcode=1 data=b'\\x02'\n",
      "DEBUG:websocket:++Sent decoded: fin=1 opcode=1 data=b'\\x02'\n",
      "++Sent raw: b'\\x81\\x81\\x03\\x84\\xb81\\x07'\n",
      "DEBUG:websocket:++Sent raw: b'\\x81\\x81\\x03\\x84\\xb81\\x07'\n",
      "++Sent decoded: fin=1 opcode=1 data=b'\\x04'\n",
      "DEBUG:websocket:++Sent decoded: fin=1 opcode=1 data=b'\\x04'\n",
      "++Sent raw: b'\\x88\\x82\\xdcR\\r\\x90\\xdf\\xba'\n",
      "DEBUG:websocket:++Sent raw: b'\\x88\\x82\\xdcR\\r\\x90\\xdf\\xba'\n",
      "++Sent decoded: fin=1 opcode=8 data=b'\\x03\\xe8'\n",
      "DEBUG:websocket:++Sent decoded: fin=1 opcode=8 data=b'\\x03\\xe8'\n"
     ]
    },
    {
     "name": "stdout",
     "output_type": "stream",
     "text": [
      "saylines135015\n"
     ]
    },
    {
     "name": "stderr",
     "output_type": "stream",
     "text": [
      "INFO:root:\n",
      "INFO:root:\n",
      "INFO:root:\n"
     ]
    },
    {
     "name": "stdout",
     "output_type": "stream",
     "text": [
      "messg:: deque(['Password: '], maxlen=100) "
     ]
    }
   ],
   "source": [
    "syncturnoff(ESP,ff)"
   ]
  },
  {
   "cell_type": "code",
   "execution_count": null,
   "id": "773c794f-2dbf-4406-8f43-9ee3d93362a6",
   "metadata": {},
   "outputs": [],
   "source": []
  }
 ],
 "metadata": {
  "kernelspec": {
   "display_name": "Python 3 (ipykernel)",
   "language": "python",
   "name": "python3"
  },
  "language_info": {
   "codemirror_mode": {
    "name": "ipython",
    "version": 3
   },
   "file_extension": ".py",
   "mimetype": "text/x-python",
   "name": "python",
   "nbconvert_exporter": "python",
   "pygments_lexer": "ipython3",
   "version": "3.12.5"
  }
 },
 "nbformat": 4,
 "nbformat_minor": 5
}
