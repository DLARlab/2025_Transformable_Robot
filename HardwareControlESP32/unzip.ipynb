{
 "cells": [
  {
   "cell_type": "code",
   "execution_count": 1,
   "id": "b6c60328-a34e-4945-a590-7bd3c53edec2",
   "metadata": {},
   "outputs": [
    {
     "name": "stdout",
     "output_type": "stream",
     "text": [
      "Archive:  ./snake.zip\n",
      "   creating: snake/\n",
      "   creating: snake/stl/\n",
      "  inflating: snake/stl/box_cap.stl   \n",
      "  inflating: snake/stl/box.stl       \n",
      "  inflating: snake/stl/clip_disc.stl  \n",
      "  inflating: snake/stl/clip_disc_mate.stl  \n",
      "  inflating: snake/stl/crown_holder_v1.stl  \n",
      "  inflating: snake/stl/35_Large_C.stl  \n",
      "  inflating: snake/stl/Small_C.obj   \n",
      "  inflating: snake/stl/RDS3235.stl   \n",
      "  inflating: snake/snake.xml         \n",
      "  inflating: snake/test.py           \n"
     ]
    }
   ],
   "source": [
    "!unzip ./snake.zip"
   ]
  },
  {
   "cell_type": "code",
   "execution_count": 2,
   "id": "c5ec8289-be01-4cf1-a439-cf4c6cb2e0cd",
   "metadata": {},
   "outputs": [],
   "source": [
    "!mv snake/* ."
   ]
  },
  {
   "cell_type": "code",
   "execution_count": null,
   "id": "0823343f-3f38-4b19-8802-899fa75cf508",
   "metadata": {},
   "outputs": [],
   "source": []
  }
 ],
 "metadata": {
  "kernelspec": {
   "display_name": "Python 3 (ipykernel)",
   "language": "python",
   "name": "python3"
  },
  "language_info": {
   "codemirror_mode": {
    "name": "ipython",
    "version": 3
   },
   "file_extension": ".py",
   "mimetype": "text/x-python",
   "name": "python",
   "nbconvert_exporter": "python",
   "pygments_lexer": "ipython3",
   "version": "3.12.4"
  }
 },
 "nbformat": 4,
 "nbformat_minor": 5
}
