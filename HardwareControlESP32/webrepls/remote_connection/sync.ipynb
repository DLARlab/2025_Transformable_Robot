{
 "cells": [
  {
   "cell_type": "code",
   "execution_count": 1,
   "id": "ad983196-ef21-42b5-a4e5-7e201e444e41",
   "metadata": {},
   "outputs": [],
   "source": [
    "from sync_handler import MakeHandler,File"
   ]
  },
  {
   "cell_type": "code",
   "execution_count": 2,
   "id": "f7a249ed-8650-4b38-bb42-0c0167ac5b70",
   "metadata": {},
   "outputs": [],
   "source": [
    "%run ../util/get_time_offset.ipynb"
   ]
  },
  {
   "cell_type": "code",
   "execution_count": 3,
   "id": "46b1d87a-3a7f-4a97-8ff8-073f82b51db6",
   "metadata": {},
   "outputs": [
    {
     "data": {
      "text/plain": [
       "(-6.7083040873209636e-06, 'hours')"
      ]
     },
     "execution_count": 3,
     "metadata": {},
     "output_type": "execute_result"
    }
   ],
   "source": [
    "time_offset/60/60,\"hours\""
   ]
  },
  {
   "cell_type": "code",
   "execution_count": 14,
   "id": "2bb6f8c7-0879-4173-8cae-68d28ebf3416",
   "metadata": {},
   "outputs": [],
   "source": [
    "ESP=\"192.168.2.194\"\n",
    "file=\"../basic_esp32_file/\""
   ]
  },
  {
   "cell_type": "code",
   "execution_count": null,
   "id": "2dc182d7-1de3-4545-8a08-66e92d9330ee",
   "metadata": {},
   "outputs": [],
   "source": []
  },
  {
   "cell_type": "code",
   "execution_count": 5,
   "id": "da3f3250-c69b-414e-8a42-eabf09bc0412",
   "metadata": {},
   "outputs": [],
   "source": [
    "ff=File(file,time_offset=time_offset)"
   ]
  },
  {
   "cell_type": "code",
   "execution_count": null,
   "id": "266eb6c6-82c0-45d5-958f-59691f4a08f2",
   "metadata": {},
   "outputs": [],
   "source": []
  },
  {
   "cell_type": "code",
   "execution_count": 6,
   "id": "db4c5654-1237-4d76-88ff-8543b8feeeb5",
   "metadata": {},
   "outputs": [],
   "source": [
    "def get_udp():\n",
    "    import socket\n",
    "    def get_host_ip():\n",
    "        n = socket.gethostname()\n",
    "        bind=socket.gethostbyname_ex(n)[-1][-1]\n",
    "        return bind\n",
    "    \n",
    "    udp = socket.socket(socket.AF_INET, socket.SOCK_DGRAM)\n",
    "    udp.setblocking(False)\n",
    "    udp.bind((get_host_ip(),61234))\n",
    "    return udp\n",
    "udp=get_udp()\n",
    "udp.connect((ESP,61234))"
   ]
  },
  {
   "cell_type": "raw",
   "id": "32fedbc2-8784-4870-91e2-20fa8521850f",
   "metadata": {},
   "source": [
    "udp.setblocking(True)\n",
    "udp.recvfrom(8192)\n",
    "\n",
    "udp.close()"
   ]
  },
  {
   "cell_type": "code",
   "execution_count": null,
   "id": "fedbbbf4-01b8-4c07-ab33-8cb1322ad5e8",
   "metadata": {},
   "outputs": [],
   "source": []
  },
  {
   "cell_type": "code",
   "execution_count": 7,
   "id": "1447cf92-2567-41a6-ade6-be99ab831337",
   "metadata": {},
   "outputs": [],
   "source": [
    "def udp_stop():\n",
    "    udp.send(\"stop\".encode())"
   ]
  },
  {
   "cell_type": "code",
   "execution_count": 8,
   "id": "738685cf-dd62-4a8d-a39c-aede1ea353ca",
   "metadata": {},
   "outputs": [],
   "source": [
    "def sync_files(**kwargs):\n",
    "    with MakeHandler(ESP, file=ff) as A:\n",
    "        print(A.file)\n",
    "        A.sync(**kwargs)"
   ]
  },
  {
   "cell_type": "code",
   "execution_count": 9,
   "id": "1113d810-8468-437a-bb99-1fd3f911a1c0",
   "metadata": {},
   "outputs": [],
   "source": [
    "def hard_turnoff():\n",
    "    from repl import espweber\n",
    "    E=espweber(ESP)\n",
    "    E.turnoff(1)"
   ]
  },
  {
   "cell_type": "code",
   "execution_count": 10,
   "id": "1492312c-5b04-4221-9702-416c76dad5ea",
   "metadata": {},
   "outputs": [],
   "source": [
    "def turnoff():\n",
    "    from repl import espweber\n",
    "    E=espweber(ESP)\n",
    "    E.turnoff(4)"
   ]
  },
  {
   "cell_type": "code",
   "execution_count": 11,
   "id": "e6c5286a-010d-4961-86ae-7711a9e48554",
   "metadata": {},
   "outputs": [],
   "source": [
    "def syncturnoff():\n",
    "    sync_files()\n",
    "    turnoff()"
   ]
  },
  {
   "cell_type": "raw",
   "id": "a746f6aa-2e54-4cd6-ab11-dea4567d979d",
   "metadata": {},
   "source": [
    "C.client.disconnect()"
   ]
  },
  {
   "cell_type": "raw",
   "id": "ae0ee9c0-9d94-499e-8112-917c8b4489ec",
   "metadata": {},
   "source": [
    "%run ../mqtt_exec_connection/controllee.ipynb"
   ]
  },
  {
   "cell_type": "raw",
   "id": "61bcc967-40b6-4c8d-9bb2-5979938179cb",
   "metadata": {},
   "source": [
    "s.udp_stop=udp_stop\n",
    "s.sync_files=sync_files\n",
    "s.hard_turnoff=hard_turnoff\n",
    "s.turnoff=turnoff\n",
    "s.syncturnoff=syncturnoff\n"
   ]
  },
  {
   "cell_type": "raw",
   "id": "174514e3-f5c6-47e3-8c20-f72d46cdf541",
   "metadata": {},
   "source": [
    "s.=()"
   ]
  },
  {
   "cell_type": "code",
   "execution_count": 12,
   "id": "9460ed29-0b26-4742-b274-2bf71156edd2",
   "metadata": {},
   "outputs": [
    {
     "ename": "NameError",
     "evalue": "name 's' is not defined",
     "output_type": "error",
     "traceback": [
      "\u001b[0;31m---------------------------------------------------------------------------\u001b[0m",
      "\u001b[0;31mNameError\u001b[0m                                 Traceback (most recent call last)",
      "Input \u001b[0;32mIn [12]\u001b[0m, in \u001b[0;36m<cell line: 1>\u001b[0;34m()\u001b[0m\n\u001b[0;32m----> 1\u001b[0m \u001b[43ms\u001b[49m\u001b[38;5;241m.\u001b[39mdisplay()\n",
      "\u001b[0;31mNameError\u001b[0m: name 's' is not defined"
     ]
    }
   ],
   "source": [
    "s.display()"
   ]
  },
  {
   "cell_type": "code",
   "execution_count": null,
   "id": "3e049d92-cec1-47bb-b309-eb347e1838dc",
   "metadata": {},
   "outputs": [],
   "source": [
    "C.client.is_connected()"
   ]
  },
  {
   "cell_type": "code",
   "execution_count": null,
   "id": "c451ccbc-04ca-461f-8c9a-25784d25718f",
   "metadata": {},
   "outputs": [],
   "source": [
    "break"
   ]
  },
  {
   "cell_type": "code",
   "execution_count": null,
   "id": "e51e8c49-2d05-4cd9-bd3b-e834ea72f2e2",
   "metadata": {},
   "outputs": [],
   "source": [
    "udp_stop()"
   ]
  },
  {
   "cell_type": "code",
   "execution_count": null,
   "id": "6d2ac113-0247-4089-bbdc-ca5f0aefded0",
   "metadata": {},
   "outputs": [],
   "source": [
    "# TODO: auto_remove\n",
    "# same mpy name"
   ]
  },
  {
   "cell_type": "code",
   "execution_count": null,
   "id": "8e779082-c0ff-4316-9c51-c1bbc85c31cc",
   "metadata": {
    "tags": []
   },
   "outputs": [],
   "source": [
    "sync_files(pyonly=False,)"
   ]
  },
  {
   "cell_type": "code",
   "execution_count": 15,
   "id": "d5a41ae6-1558-4006-a0ce-f3d12c1753ee",
   "metadata": {},
   "outputs": [
    {
     "name": "stdout",
     "output_type": "stream",
     "text": [
      "[(<AddressFamily.AF_INET: 2>, <SocketKind.SOCK_STREAM: 1>, 6, '', ('192.168.2.194', 8266)), (<AddressFamily.AF_INET: 2>, <SocketKind.SOCK_DGRAM: 2>, 17, '', ('192.168.2.194', 8266)), (<AddressFamily.AF_INET: 2>, <SocketKind.SOCK_RAW: 3>, 0, '', ('192.168.2.194', 8266))]\n",
      "('192.168.2.194', 8266)\n",
      "Remote WebREPL version: (1, 19, 1)\n",
      "../basic_esp32_file\n",
      "../basic_esp32_file/basic_info.py\n",
      "Sent 68 of 68 bytes\n",
      "../basic_esp32_file/boot.py\n",
      "Sent 228 of 228 bytes\n",
      "../basic_esp32_file/main.py\n",
      "Sent 464 of 464 bytes\n",
      "../basic_esp32_file/network_config.py\n",
      "Sent 2120 of 2120 bytes\n",
      "../basic_esp32_file/network_online.py\n",
      "Sent 1074 of 1074 bytes\n",
      "../basic_esp32_file/old_main.py\n",
      "Sent 2220 of 2220 bytes\n",
      "../basic_esp32_file/self_aware.py\n",
      "Sent 998 of 998 bytes\n",
      "../basic_esp32_file/util.py\n",
      "Sent 1174 of 1174 bytes\n",
      "../basic_esp32_file/webrepl_cfg.py\n",
      "Sent 16 of 16 bytes\n"
     ]
    },
    {
     "name": "stderr",
     "output_type": "stream",
     "text": [
      "INFO:root:ws://192.168.2.194:8266/\n",
      "--- request header ---\n",
      "DEBUG:websocket:--- request header ---\n",
      "GET / HTTP/1.1\n",
      "Upgrade: websocket\n",
      "Host: 192.168.2.194:8266\n",
      "Origin: http://192.168.2.194:8266\n",
      "Sec-WebSocket-Key: QOpS2/Mb9e5hpXfou/Hwmw==\n",
      "Sec-WebSocket-Version: 13\n",
      "Connection: Upgrade\n",
      "\n",
      "\n",
      "DEBUG:websocket:GET / HTTP/1.1\n",
      "Upgrade: websocket\n",
      "Host: 192.168.2.194:8266\n",
      "Origin: http://192.168.2.194:8266\n",
      "Sec-WebSocket-Key: QOpS2/Mb9e5hpXfou/Hwmw==\n",
      "Sec-WebSocket-Version: 13\n",
      "Connection: Upgrade\n",
      "\n",
      "\n",
      "-----------------------\n",
      "DEBUG:websocket:-----------------------\n",
      "--- response header ---\n",
      "DEBUG:websocket:--- response header ---\n",
      "HTTP/1.1 101 Switching Protocols\n",
      "DEBUG:websocket:HTTP/1.1 101 Switching Protocols\n",
      "Upgrade: websocket\n",
      "DEBUG:websocket:Upgrade: websocket\n",
      "Connection: Upgrade\n",
      "DEBUG:websocket:Connection: Upgrade\n"
     ]
    },
    {
     "name": "stdout",
     "output_type": "stream",
     "text": [
      "done\n"
     ]
    },
    {
     "name": "stderr",
     "output_type": "stream",
     "text": [
      "Sec-WebSocket-Accept: Em0VgMCvaUlV3UtZ8dBU2p1lR2A=\n",
      "DEBUG:websocket:Sec-WebSocket-Accept: Em0VgMCvaUlV3UtZ8dBU2p1lR2A=\n",
      "-----------------------\n",
      "DEBUG:websocket:-----------------------\n",
      "++Rcv raw: b'\\x81\\nPassword: '\n",
      "DEBUG:websocket:++Rcv raw: b'\\x81\\nPassword: '\n",
      "++Rcv decoded: fin=1 opcode=1 data=b'Password: '\n",
      "DEBUG:websocket:++Rcv decoded: fin=1 opcode=1 data=b'Password: '\n",
      "INFO:root:Password: \n",
      "++Sent raw: b'\\x81\\x88\\xc5\\x9b\\x01\\xe5\\xf4\\xa84\\xd5\\xf4\\xae\\x0c\\xef'\n",
      "DEBUG:websocket:++Sent raw: b'\\x81\\x88\\xc5\\x9b\\x01\\xe5\\xf4\\xa84\\xd5\\xf4\\xae\\x0c\\xef'\n",
      "++Sent decoded: fin=1 opcode=1 data=b'135015\\r\\n'\n",
      "DEBUG:websocket:++Sent decoded: fin=1 opcode=1 data=b'135015\\r\\n'\n",
      "++Sent raw: b'\\x81\\x81\\xcc\\x89 t\\xcf'\n",
      "DEBUG:websocket:++Sent raw: b'\\x81\\x81\\xcc\\x89 t\\xcf'\n",
      "++Sent decoded: fin=1 opcode=1 data=b'\\x03'\n",
      "DEBUG:websocket:++Sent decoded: fin=1 opcode=1 data=b'\\x03'\n",
      "++Sent raw: b'\\x81\\x81T\\xf0\\xbf\\x11W'\n",
      "DEBUG:websocket:++Sent raw: b'\\x81\\x81T\\xf0\\xbf\\x11W'\n",
      "++Sent decoded: fin=1 opcode=1 data=b'\\x03'\n",
      "DEBUG:websocket:++Sent decoded: fin=1 opcode=1 data=b'\\x03'\n",
      "++Sent raw: b'\\x81\\x81k\\xc5\\x1e\\xbcj'\n",
      "DEBUG:websocket:++Sent raw: b'\\x81\\x81k\\xc5\\x1e\\xbcj'\n",
      "++Sent decoded: fin=1 opcode=1 data=b'\\x01'\n",
      "DEBUG:websocket:++Sent decoded: fin=1 opcode=1 data=b'\\x01'\n",
      "++Sent raw: b'\\x81\\x81\\xa4\\xdb\\x14\\xd7\\xa6'\n",
      "DEBUG:websocket:++Sent raw: b'\\x81\\x81\\xa4\\xdb\\x14\\xd7\\xa6'\n",
      "++Sent decoded: fin=1 opcode=1 data=b'\\x02'\n",
      "DEBUG:websocket:++Sent decoded: fin=1 opcode=1 data=b'\\x02'\n",
      "++Sent raw: b'\\x81\\x81\\xee\\xbe\\x12@\\xea'\n",
      "DEBUG:websocket:++Sent raw: b'\\x81\\x81\\xee\\xbe\\x12@\\xea'\n",
      "++Sent decoded: fin=1 opcode=1 data=b'\\x04'\n",
      "DEBUG:websocket:++Sent decoded: fin=1 opcode=1 data=b'\\x04'\n",
      "++Sent raw: b'\\x88\\x82G\\x86\\xa9\\xc6Dn'\n",
      "DEBUG:websocket:++Sent raw: b'\\x88\\x82G\\x86\\xa9\\xc6Dn'\n",
      "++Sent decoded: fin=1 opcode=8 data=b'\\x03\\xe8'\n",
      "DEBUG:websocket:++Sent decoded: fin=1 opcode=8 data=b'\\x03\\xe8'\n"
     ]
    },
    {
     "name": "stdout",
     "output_type": "stream",
     "text": [
      "saylines135015\n"
     ]
    },
    {
     "name": "stderr",
     "output_type": "stream",
     "text": [
      "INFO:root:\n",
      "INFO:root:\n",
      "INFO:root:\n"
     ]
    },
    {
     "name": "stdout",
     "output_type": "stream",
     "text": [
      "messg:: deque(['Password: '], maxlen=100) "
     ]
    }
   ],
   "source": [
    "sync_files()\n",
    "turnoff()"
   ]
  },
  {
   "cell_type": "code",
   "execution_count": null,
   "id": "23a478ef-1baf-4e66-8e4b-55747d9f7a12",
   "metadata": {},
   "outputs": [],
   "source": []
  },
  {
   "cell_type": "code",
   "execution_count": null,
   "id": "c7b9cf15-78d3-4044-8b3f-5d5f1537429c",
   "metadata": {},
   "outputs": [],
   "source": []
  },
  {
   "cell_type": "code",
   "execution_count": null,
   "id": "773c794f-2dbf-4406-8f43-9ee3d93362a6",
   "metadata": {},
   "outputs": [],
   "source": []
  },
  {
   "cell_type": "code",
   "execution_count": null,
   "id": "5d0cff0e-947a-4b02-9b63-125c5bdb11e2",
   "metadata": {},
   "outputs": [],
   "source": []
  },
  {
   "cell_type": "code",
   "execution_count": null,
   "id": "15e691a3-8d79-4c46-885f-7c5e0c9c90a5",
   "metadata": {},
   "outputs": [],
   "source": []
  },
  {
   "cell_type": "code",
   "execution_count": null,
   "id": "a7fa3613-ac22-4ade-8b34-488e7263f980",
   "metadata": {},
   "outputs": [],
   "source": [
    "%run sync_handler.py"
   ]
  },
  {
   "cell_type": "code",
   "execution_count": null,
   "id": "9bc6f86c-d926-40a2-bd16-b2f7b804ed25",
   "metadata": {},
   "outputs": [],
   "source": [
    "file='../files_to_esp_m5_basic/mycobot'"
   ]
  },
  {
   "cell_type": "code",
   "execution_count": null,
   "id": "01ae6ea7-e20c-4fcc-aab0-0c7d823adc8e",
   "metadata": {},
   "outputs": [],
   "source": [
    "fff=File(file,\"mycobot\",time_offset=time_offset)"
   ]
  },
  {
   "cell_type": "code",
   "execution_count": null,
   "id": "6d9dd029-7e33-491d-8b15-458768b2efd9",
   "metadata": {},
   "outputs": [],
   "source": [
    "# os.mkdir(\"mycobot\")"
   ]
  },
  {
   "cell_type": "code",
   "execution_count": null,
   "id": "23e3b8d3-7bf5-4d65-92eb-3661f9e5bcf8",
   "metadata": {},
   "outputs": [],
   "source": [
    "with MakeHandler(ESP, file=fff) as A:\n",
    "    # A.dry_run=True\n",
    "    print(A.file)\n",
    "    A.sync()"
   ]
  },
  {
   "cell_type": "code",
   "execution_count": null,
   "id": "361039c7-eaff-4e75-864e-69e8b744646f",
   "metadata": {},
   "outputs": [],
   "source": []
  },
  {
   "cell_type": "code",
   "execution_count": null,
   "id": "e0989530-25e5-4c37-bffa-87fc03a4572f",
   "metadata": {},
   "outputs": [],
   "source": []
  },
  {
   "cell_type": "code",
   "execution_count": null,
   "id": "a610fb4e-a9a7-4d66-b000-9981bd059de8",
   "metadata": {},
   "outputs": [],
   "source": []
  },
  {
   "cell_type": "code",
   "execution_count": null,
   "id": "90bec8e3-cfc2-4deb-830e-d9a7bdfef72f",
   "metadata": {},
   "outputs": [],
   "source": [
    "import socket"
   ]
  },
  {
   "cell_type": "code",
   "execution_count": null,
   "id": "2bff4421-7a9f-42cb-8d9b-af05b85cea39",
   "metadata": {},
   "outputs": [],
   "source": []
  }
 ],
 "metadata": {
  "kernelspec": {
   "display_name": "Python 3 (ipykernel)",
   "language": "python",
   "name": "python3"
  },
  "language_info": {
   "codemirror_mode": {
    "name": "ipython",
    "version": 3
   },
   "file_extension": ".py",
   "mimetype": "text/x-python",
   "name": "python",
   "nbconvert_exporter": "python",
   "pygments_lexer": "ipython3",
   "version": "3.10.5"
  }
 },
 "nbformat": 4,
 "nbformat_minor": 5
}
