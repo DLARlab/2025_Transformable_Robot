{
 "cells": [
  {
   "cell_type": "code",
   "execution_count": 1,
   "id": "9a2404af-800b-46b9-b309-d4e733eac237",
   "metadata": {},
   "outputs": [],
   "source": [
    "ESP=\"192.168.2.218\""
   ]
  },
  {
   "cell_type": "code",
   "execution_count": 2,
   "id": "84775a0f-c24d-4f48-a8d4-5d25cd86fa6e",
   "metadata": {},
   "outputs": [
    {
     "name": "stderr",
     "output_type": "stream",
     "text": [
      "INFO:root:ws://192.168.2.218:8266/\n",
      "--- request header ---\n",
      "DEBUG:websocket:--- request header ---\n",
      "GET / HTTP/1.1\n",
      "Upgrade: websocket\n",
      "Host: 192.168.2.218:8266\n",
      "Origin: http://192.168.2.218:8266\n",
      "Sec-WebSocket-Key: qClyEltzd9BniK8RKxerUA==\n",
      "Sec-WebSocket-Version: 13\n",
      "Connection: Upgrade\n",
      "\n",
      "\n",
      "DEBUG:websocket:GET / HTTP/1.1\n",
      "Upgrade: websocket\n",
      "Host: 192.168.2.218:8266\n",
      "Origin: http://192.168.2.218:8266\n",
      "Sec-WebSocket-Key: qClyEltzd9BniK8RKxerUA==\n",
      "Sec-WebSocket-Version: 13\n",
      "Connection: Upgrade\n",
      "\n",
      "\n",
      "-----------------------\n",
      "DEBUG:websocket:-----------------------\n",
      "--- response header ---\n",
      "DEBUG:websocket:--- response header ---\n",
      "HTTP/1.1 101 Switching Protocols\n",
      "DEBUG:websocket:HTTP/1.1 101 Switching Protocols\n",
      "Upgrade: websocket\n",
      "DEBUG:websocket:Upgrade: websocket\n",
      "Connection: Upgrade\n",
      "DEBUG:websocket:Connection: Upgrade\n",
      "Sec-WebSocket-Accept: EXIQHgRNhazery8jQLqw68yKc6c=\n",
      "DEBUG:websocket:Sec-WebSocket-Accept: EXIQHgRNhazery8jQLqw68yKc6c=\n",
      "-----------------------\n",
      "DEBUG:websocket:-----------------------\n",
      "++Rcv raw: b'\\x81\\nPassword: '\n",
      "DEBUG:websocket:++Rcv raw: b'\\x81\\nPassword: '\n",
      "++Rcv decoded: fin=1 opcode=1 data=b'Password: '\n",
      "DEBUG:websocket:++Rcv decoded: fin=1 opcode=1 data=b'Password: '\n",
      "INFO:root:Password: \n",
      "++Sent raw: b'\\x81\\x88\\xc1/\\xd38\\xf0\\x1c\\xe6\\x08\\xf0\\x1a\\xde2'\n",
      "DEBUG:websocket:++Sent raw: b'\\x81\\x88\\xc1/\\xd38\\xf0\\x1c\\xe6\\x08\\xf0\\x1a\\xde2'\n",
      "++Sent decoded: fin=1 opcode=1 data=b'135015\\r\\n'\n",
      "DEBUG:websocket:++Sent decoded: fin=1 opcode=1 data=b'135015\\r\\n'\n",
      "++Sent raw: b'\\x81\\x81\\xf4\\xbdbC\\xf7'\n",
      "DEBUG:websocket:++Sent raw: b'\\x81\\x81\\xf4\\xbdbC\\xf7'\n",
      "++Sent decoded: fin=1 opcode=1 data=b'\\x03'\n",
      "DEBUG:websocket:++Sent decoded: fin=1 opcode=1 data=b'\\x03'\n",
      "++Sent raw: b'\\x81\\x81\\x0b.m\\xad\\x08'\n",
      "DEBUG:websocket:++Sent raw: b'\\x81\\x81\\x0b.m\\xad\\x08'\n",
      "++Sent decoded: fin=1 opcode=1 data=b'\\x03'\n",
      "DEBUG:websocket:++Sent decoded: fin=1 opcode=1 data=b'\\x03'\n",
      "++Sent raw: b'\\x81\\x81\\xc1q\\xc58\\xc0'\n",
      "DEBUG:websocket:++Sent raw: b'\\x81\\x81\\xc1q\\xc58\\xc0'\n",
      "++Sent decoded: fin=1 opcode=1 data=b'\\x01'\n",
      "DEBUG:websocket:++Sent decoded: fin=1 opcode=1 data=b'\\x01'\n"
     ]
    },
    {
     "name": "stdout",
     "output_type": "stream",
     "text": [
      "saylines135015\n"
     ]
    }
   ],
   "source": [
    "from repl import espweber\n",
    "E=espweber(ESP)"
   ]
  },
  {
   "cell_type": "code",
   "execution_count": 3,
   "id": "ee1c15c4-a42e-4947-a85e-f9f91c0570e2",
   "metadata": {},
   "outputs": [
    {
     "name": "stderr",
     "output_type": "stream",
     "text": [
      "++Rcv raw: b'\\x81\\x19\\r\\nWebREPL connected\\r\\n>>> '\n"
     ]
    },
    {
     "name": "stdout",
     "output_type": "stream",
     "text": [
      "Connected with result code 0\n",
      "info\n",
      "        \n",
      "        Always be aware that this version of dashboard is instanced when defination.\n",
      "        Which means that there cannot be two dashboard in the same ipynb kernel.\n",
      "        \n",
      "        \n"
     ]
    },
    {
     "name": "stderr",
     "output_type": "stream",
     "text": [
      "DEBUG:websocket:++Rcv raw: b'\\x81\\x19\\r\\nWebREPL connected\\r\\n>>> '\n",
      "++Rcv decoded: fin=1 opcode=1 data=b'\\r\\nWebREPL connected\\r\\n>>> '\n",
      "DEBUG:websocket:++Rcv decoded: fin=1 opcode=1 data=b'\\r\\nWebREPL connected\\r\\n>>> '\n",
      "INFO:root:\n",
      "WebREPL connected\n",
      ">>> \n"
     ]
    }
   ],
   "source": [
    "%run ../mqtt_exec_connection/controllee.ipynb"
   ]
  },
  {
   "cell_type": "code",
   "execution_count": 4,
   "id": "4a13efb1-3c5e-435d-aebb-a81ee02ecf35",
   "metadata": {},
   "outputs": [
    {
     "name": "stderr",
     "output_type": "stream",
     "text": [
      "++Rcv raw: b'\\x81\\x1araw REPL; CTRL-B to exit\\r\\n'\n",
      "DEBUG:websocket:++Rcv raw: b'\\x81\\x1araw REPL; CTRL-B to exit\\r\\n'\n",
      "++Rcv decoded: fin=1 opcode=1 data=b'raw REPL; CTRL-B to exit\\r\\n'\n",
      "DEBUG:websocket:++Rcv decoded: fin=1 opcode=1 data=b'raw REPL; CTRL-B to exit\\r\\n'\n",
      "INFO:root:raw REPL; CTRL-B to exit\n",
      "\n"
     ]
    }
   ],
   "source": [
    "def off0():E.saylines(\"of(0)\")\n",
    "def off1():E.saylines(\"of(1)\")\n",
    "def off2():E.saylines(\"of(2)\")\n",
    "def off3():E.saylines(\"of(3)\")"
   ]
  },
  {
   "cell_type": "code",
   "execution_count": 5,
   "id": "e61f32b0-710f-4af2-a6d9-313902caf60b",
   "metadata": {},
   "outputs": [
    {
     "name": "stderr",
     "output_type": "stream",
     "text": [
      "++Rcv raw: b'\\x81\\x01>'\n",
      "DEBUG:websocket:++Rcv raw: b'\\x81\\x01>'\n",
      "++Rcv decoded: fin=1 opcode=1 data=b'>'\n",
      "DEBUG:websocket:++Rcv decoded: fin=1 opcode=1 data=b'>'\n",
      "INFO:root:>\n"
     ]
    }
   ],
   "source": [
    "s.off0=off0\n",
    "s.off1=off1\n",
    "s.off2=off2\n",
    "s.off3=off3\n"
   ]
  },
  {
   "cell_type": "code",
   "execution_count": 6,
   "id": "833878e3-4147-44eb-bb1d-79d59ab1392d",
   "metadata": {},
   "outputs": [
    {
     "data": {
      "application/vnd.jupyter.widget-view+json": {
       "model_id": "40a6cb7911a441208699844920e52d7a",
       "version_major": 2,
       "version_minor": 0
      },
      "text/plain": [
       "Box(children=(Button(description='loop_timer', disabled=True, layout=Layout(height='30px', width='auto'), styl…"
      ]
     },
     "metadata": {},
     "output_type": "display_data"
    },
    {
     "data": {
      "application/vnd.jupyter.widget-view+json": {
       "model_id": "ffaa800772114a35ac0b92d2ba68e65f",
       "version_major": 2,
       "version_minor": 0
      },
      "text/plain": [
       "Box(children=(Button(description='await_tasks', disabled=True, layout=Layout(height='30px', width='auto'), sty…"
      ]
     },
     "metadata": {},
     "output_type": "display_data"
    },
    {
     "data": {
      "application/vnd.jupyter.widget-view+json": {
       "model_id": "5c2450d3af1541c581aaee67296811f1",
       "version_major": 2,
       "version_minor": 0
      },
      "text/plain": [
       "Box(children=(Button(description='last_run', disabled=True, layout=Layout(height='30px', width='auto'), style=…"
      ]
     },
     "metadata": {},
     "output_type": "display_data"
    }
   ],
   "source": [
    "s.display()"
   ]
  },
  {
   "cell_type": "code",
   "execution_count": 7,
   "id": "1ae77c45-8e9b-4e4b-bdf0-047a5d67d140",
   "metadata": {},
   "outputs": [
    {
     "ename": "SyntaxError",
     "evalue": "'break' outside loop (668683560.py, line 1)",
     "output_type": "error",
     "traceback": [
      "\u001b[0;36m  Input \u001b[0;32mIn [7]\u001b[0;36m\u001b[0m\n\u001b[0;31m    break\u001b[0m\n\u001b[0m    ^\u001b[0m\n\u001b[0;31mSyntaxError\u001b[0m\u001b[0;31m:\u001b[0m 'break' outside loop\n"
     ]
    }
   ],
   "source": [
    "break"
   ]
  },
  {
   "cell_type": "code",
   "execution_count": null,
   "id": "fe4474ca-bc82-43f7-8457-1c74f3b0997d",
   "metadata": {},
   "outputs": [],
   "source": [
    "E.saylines(\"d.on()\")\n",
    "E.saylines(\"c.on()\")\n",
    "\n",
    "E.saylines(\"b.on()\")\n",
    "E.saylines(\"a.on()\")"
   ]
  },
  {
   "cell_type": "code",
   "execution_count": null,
   "id": "8d22f3a4-a2a0-4a66-867c-bef7db79d1a6",
   "metadata": {},
   "outputs": [],
   "source": [
    "E.saylines(\"d.on()\")\n",
    "E.saylines(\"c.on()\")\n",
    "E.saylines(\"b.on()\")\n",
    "E.saylines(\"a.on()\")"
   ]
  },
  {
   "cell_type": "code",
   "execution_count": null,
   "id": "60bc152e-5442-4b59-ab78-53db4e268c3b",
   "metadata": {},
   "outputs": [],
   "source": [
    "break"
   ]
  },
  {
   "cell_type": "code",
   "execution_count": 8,
   "id": "3af3c6a3-834c-47e1-8689-1ef96b689d1a",
   "metadata": {},
   "outputs": [
    {
     "name": "stderr",
     "output_type": "stream",
     "text": [
      "++Sent raw: b'\\x81\\x81)U=%+'\n",
      "DEBUG:websocket:++Sent raw: b'\\x81\\x81)U=%+'\n",
      "++Sent decoded: fin=1 opcode=1 data=b'\\x02'\n",
      "DEBUG:websocket:++Sent decoded: fin=1 opcode=1 data=b'\\x02'\n",
      "++Sent raw: b'\\x88\\x82\\xe97<)\\xea\\xdf'\n",
      "DEBUG:websocket:++Sent raw: b'\\x88\\x82\\xe97<)\\xea\\xdf'\n",
      "++Sent decoded: fin=1 opcode=8 data=b'\\x03\\xe8'\n",
      "DEBUG:websocket:++Sent decoded: fin=1 opcode=8 data=b'\\x03\\xe8'\n",
      "INFO:root:\n",
      "INFO:root:\n",
      "INFO:root:\n"
     ]
    },
    {
     "name": "stdout",
     "output_type": "stream",
     "text": [
      "messg:: deque(['OK', '\\x04', '\\x04', '>', 'OK', '\\x04', '\\x04', '>', 'OK', '\\x04', '\\x04', '>', 'OK', '\\x04', '\\x04', '>', 'OK', '\\x04', '\\x04', '>', 'OK', '\\x04', '\\x04', '>', 'OK', '\\x04', '\\x04', '>', 'OK', '\\x04', '\\x04', '>', 'OK', '\\x04', '\\x04', '>', 'OK', '\\x04', '\\x04', '>', 'OK', '\\x04', '\\x04', '>', 'OK', '\\x04', '\\x04', '>', 'OK', '\\x04', '\\x04', '>', 'OK', '\\x04', '\\x04', '>', 'OK', '\\x04', '\\x04', '>', 'OK', '\\x04', '\\x04', '>', 'OK', '\\x04', '\\x04', '>', 'OK', '\\x04', '\\x04', '>', 'OK', '\\x04', '\\x04', '>', 'OK', '\\x04', '\\x04', '>', 'OK', '\\x04', '\\x04', '>', 'OK', '\\x04', '\\x04', '>', 'OK', '\\x04', '\\x04', '>', 'OK', '\\x04', '\\x04', '>', 'OK', '\\x04', '\\x04', '>'], maxlen=100) saylinesof(2)\n",
      "saylinesof(2)\n",
      "saylinesof(2)\n",
      "saylinesof(2)\n",
      "saylinesof(2)\n",
      "saylinesof(2)\n",
      "saylinesof(2)\n",
      "saylinesof(3)\n",
      "saylinesof(3)\n",
      "saylinesof(3)\n",
      "saylinesof(2)\n",
      "saylinesof(2)\n",
      "saylinesof(2)\n",
      "saylinesof(2)\n",
      "saylinesof(2)\n",
      "saylinesof(2)\n",
      "saylinesof(2)\n",
      "saylinesof(2)\n",
      "saylinesof(2)\n",
      "saylinesof(2)\n",
      "saylinesof(2)\n",
      "saylinesof(2)\n",
      "saylinesof(2)\n",
      "saylinesof(2)\n",
      "saylinesof(2)\n",
      "saylinesof(2)\n",
      "saylinesof(2)\n",
      "saylinesof(2)\n",
      "saylinesof(2)\n",
      "saylinesof(2)\n",
      "saylinesof(2)\n",
      "saylinesof(2)\n",
      "saylinesof(2)\n",
      "saylinesof(2)\n",
      "saylinesof(2)\n",
      "saylinesof(2)\n",
      "saylinesof(2)\n",
      "saylinesof(2)\n",
      "saylinesof(2)\n",
      "saylinesof(2)\n",
      "saylinesof(2)\n",
      "saylinesof(2)\n",
      "saylinesof(2)\n",
      "saylinesof(2)\n",
      "saylinesof(2)\n",
      "saylinesof(2)\n",
      "saylinesof(2)\n",
      "saylinesof(2)\n",
      "saylinesof(2)\n",
      "saylinesof(3)\n",
      "saylinesof(3)\n",
      "saylinesof(3)\n",
      "saylinesof(3)\n",
      "saylinesof(3)\n",
      "saylinesof(3)\n",
      "saylinesof(3)\n",
      "saylinesof(3)\n",
      "saylinesof(3)\n",
      "saylinesof(2)\n",
      "saylinesof(2)\n",
      "saylinesof(2)\n",
      "saylinesof(2)\n",
      "saylinesof(2)\n",
      "saylinesof(2)\n",
      "saylinesof(2)\n",
      "saylinesof(2)\n",
      "saylinesof(2)\n",
      "saylinesof(2)\n",
      "saylinesof(2)\n",
      "grieving\n",
      "saylinesof(2)\n",
      "saylinesof(2)\n",
      "saylinesof(2)\n",
      "saylinesof(2)\n",
      "saylinesof(2)\n",
      "saylinesof(2)\n",
      "saylinesof(2)\n",
      "saylinesof(2)\n",
      "saylinesof(2)\n",
      "saylinesof(2)\n",
      "saylinesof(2)\n",
      "saylinesof(2)\n",
      "saylinesof(3)\n",
      "saylinesof(2)\n",
      "saylinesof(2)\n",
      "saylinesof(2)\n",
      "saylinesof(2)\n",
      "saylinesof(2)\n",
      "saylinesof(2)\n",
      "saylinesof(2)\n",
      "saylinesof(2)\n",
      "saylinesof(2)\n",
      "saylinesof(2)\n",
      "saylinesof(2)\n",
      "saylinesof(2)\n",
      "saylinesof(2)\n",
      "saylinesof(2)\n",
      "saylinesof(2)\n",
      "saylinesof(2)\n",
      "saylinesof(2)\n",
      "saylinesof(2)\n",
      "saylinesof(2)\n",
      "saylinesof(2)\n",
      "saylinesof(2)\n",
      "saylinesof(2)\n",
      "saylinesof(2)\n",
      "saylinesof(2)\n",
      "saylinesof(2)\n",
      "saylinesof(2)\n",
      "saylinesof(2)\n",
      "saylinesof(2)\n",
      "saylinesof(2)\n",
      "saylinesof(2)\n",
      "saylinesof(2)\n",
      "saylinesof(2)\n",
      "saylinesof(2)\n",
      "saylinesof(2)\n",
      "saylinesof(2)\n",
      "saylinesof(2)\n",
      "saylinesof(2)\n",
      "saylinesof(2)\n",
      "saylinesof(2)\n",
      "saylinesof(2)\n",
      "saylinesof(2)\n",
      "saylinesof(2)\n",
      "saylinesof(2)\n",
      "saylinesof(2)\n",
      "saylinesof(2)\n",
      "saylinesof(2)\n",
      "saylinesof(2)\n",
      "saylinesof(2)\n",
      "saylinesof(2)\n",
      "saylinesof(2)\n",
      "saylinesof(2)\n",
      "saylinesof(2)\n",
      "saylinesof(2)\n",
      "saylinesof(2)\n",
      "saylinesof(2)\n",
      "saylinesof(2)\n",
      "saylinesof(2)\n",
      "saylinesof(2)\n",
      "saylinesof(2)\n",
      "saylinesof(2)\n",
      "saylinesof(2)\n",
      "saylinesof(2)\n",
      "saylinesof(2)\n",
      "saylinesof(2)\n",
      "saylinesof(2)\n",
      "saylinesof(2)\n",
      "saylinesof(2)\n",
      "saylinesof(2)\n",
      "saylinesof(2)\n",
      "saylinesof(2)\n",
      "saylinesof(2)\n",
      "saylinesof(2)\n",
      "saylinesof(2)\n",
      "saylinesof(2)\n",
      "saylinesof(2)\n",
      "saylinesof(2)\n",
      "saylinesof(2)\n",
      "saylinesof(2)\n",
      "saylinesof(2)\n",
      "saylinesof(2)\n",
      "saylinesof(2)\n",
      "saylinesof(2)\n",
      "saylinesof(2)\n",
      "saylinesof(2)\n",
      "saylinesof(2)\n",
      "saylinesof(2)\n",
      "saylinesof(2)\n",
      "saylinesof(2)\n",
      "saylinesof(2)\n",
      "saylinesof(2)\n",
      "saylinesof(2)\n",
      "saylinesof(2)\n",
      "saylinesof(2)\n",
      "saylinesof(2)\n",
      "saylinesof(2)\n",
      "saylinesof(2)\n",
      "saylinesof(2)\n",
      "saylinesof(2)\n",
      "saylinesof(2)\n",
      "saylinesof(2)\n",
      "saylinesof(2)\n",
      "saylinesof(2)\n",
      "saylinesof(2)\n",
      "saylinesof(2)\n",
      "saylinesof(2)\n",
      "saylinesof(2)\n",
      "saylinesof(2)\n",
      "saylinesof(2)\n",
      "saylinesof(2)\n",
      "saylinesof(2)\n",
      "saylinesof(2)\n",
      "saylinesof(2)\n",
      "saylinesof(2)\n",
      "saylinesof(2)\n",
      "saylinesof(2)\n",
      "saylinesof(2)\n",
      "saylinesof(2)\n",
      "saylinesof(2)\n",
      "saylinesof(2)\n",
      "saylinesof(2)\n",
      "saylinesof(2)\n",
      "saylinesof(2)\n",
      "saylinesof(2)\n",
      "saylinesof(2)\n",
      "saylinesof(2)\n",
      "saylinesof(2)\n",
      "saylinesof(2)\n",
      "saylinesof(2)\n",
      "saylinesof(2)\n",
      "saylinesof(2)\n",
      "saylinesof(2)\n",
      "saylinesof(2)\n",
      "saylinesof(2)\n",
      "saylinesof(2)\n",
      "saylinesof(2)\n",
      "saylinesof(2)\n",
      "saylinesof(2)\n",
      "saylinesof(2)\n",
      "saylinesof(2)\n",
      "saylinesof(2)\n",
      "saylinesof(2)\n",
      "saylinesof(2)\n",
      "saylinesof(2)\n",
      "saylinesof(2)\n",
      "saylinesof(2)\n",
      "saylinesof(2)\n",
      "saylinesof(2)\n",
      "saylinesof(2)\n",
      "saylinesof(2)\n",
      "saylinesof(2)\n",
      "saylinesof(2)\n",
      "saylinesof(2)\n",
      "saylinesof(2)\n",
      "saylinesof(2)\n",
      "saylinesof(2)\n",
      "saylinesof(2)\n",
      "saylinesof(2)\n",
      "saylinesof(2)\n",
      "saylinesof(2)\n",
      "saylinesof(2)\n",
      "saylinesof(2)\n",
      "saylinesof(2)\n",
      "saylinesof(2)\n",
      "saylinesof(2)\n",
      "saylinesof(2)\n",
      "saylinesof(2)\n",
      "saylinesof(2)\n",
      "saylinesof(2)\n",
      "saylinesof(2)\n",
      "saylinesof(2)\n",
      "saylinesof(2)\n",
      "saylinesof(2)\n",
      "saylinesof(2)\n",
      "saylinesof(2)\n",
      "saylinesof(2)\n",
      "saylinesof(2)\n",
      "saylinesof(2)\n",
      "saylinesof(2)\n",
      "saylinesof(2)\n",
      "saylinesof(2)\n",
      "saylinesof(2)\n",
      "saylinesof(2)\n",
      "saylinesof(2)\n",
      "saylinesof(2)\n",
      "saylinesof(2)\n",
      "saylinesof(2)\n",
      "saylinesof(2)\n",
      "saylinesof(2)\n",
      "saylinesof(2)\n",
      "saylinesof(2)\n",
      "saylinesof(2)\n",
      "saylinesof(2)\n",
      "saylinesof(2)\n",
      "saylinesof(2)\n",
      "saylinesof(2)\n",
      "saylinesof(2)\n",
      "saylinesof(2)\n",
      "saylinesof(2)\n",
      "saylinesof(2)\n",
      "saylinesof(2)\n",
      "saylinesof(2)\n",
      "saylinesof(2)\n",
      "saylinesof(2)\n",
      "saylinesof(2)\n",
      "saylinesof(2)\n",
      "saylinesof(2)\n"
     ]
    }
   ],
   "source": [
    "E.turnoff()"
   ]
  },
  {
   "cell_type": "code",
   "execution_count": null,
   "id": "42df3414-909f-4a07-a659-1b6da9ce2f0b",
   "metadata": {},
   "outputs": [],
   "source": []
  }
 ],
 "metadata": {
  "kernelspec": {
   "display_name": "Python 3 (ipykernel)",
   "language": "python",
   "name": "python3"
  },
  "language_info": {
   "codemirror_mode": {
    "name": "ipython",
    "version": 3
   },
   "file_extension": ".py",
   "mimetype": "text/x-python",
   "name": "python",
   "nbconvert_exporter": "python",
   "pygments_lexer": "ipython3",
   "version": "3.10.5"
  }
 },
 "nbformat": 4,
 "nbformat_minor": 5
}
