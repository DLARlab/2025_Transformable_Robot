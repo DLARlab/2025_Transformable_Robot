{
 "cells": [
  {
   "cell_type": "code",
   "execution_count": null,
   "id": "a17b369b-70da-48ca-a82c-8c675200e618",
   "metadata": {},
   "outputs": [],
   "source": []
  },
  {
   "cell_type": "code",
   "execution_count": null,
   "id": "7bcf69ad-755a-4a8c-b1b6-e1d496f169c8",
   "metadata": {},
   "outputs": [],
   "source": [
    "R.send_exe(\"tmc = TMC_2209(18, 33, 16)\")"
   ]
  },
  {
   "cell_type": "code",
   "execution_count": null,
   "id": "88c554da-90a4-47e5-b535-38084564cfbd",
   "metadata": {},
   "outputs": [],
   "source": [
    "R.send_exe(\"tmc\")"
   ]
  },
  {
   "cell_type": "code",
   "execution_count": null,
   "id": "49140ed2-b194-4423-bb61-6ca9183a260b",
   "metadata": {},
   "outputs": [],
   "source": [
    "R.send_exe(\"tmc.setMaxSpeed(1000000)\")"
   ]
  },
  {
   "cell_type": "code",
   "execution_count": null,
   "id": "b8200df2-de91-4ecb-98f8-34b75a6173b7",
   "metadata": {},
   "outputs": [],
   "source": [
    "R.send_exe(\"tmc.getMaxSpeed()\")"
   ]
  },
  {
   "cell_type": "code",
   "execution_count": null,
   "id": "8e57d527-d1d3-4191-9351-77ef8fab1279",
   "metadata": {},
   "outputs": [],
   "source": [
    "R.send_exe(\"tmc.setAcceleration(2000)\")"
   ]
  },
  {
   "cell_type": "code",
   "execution_count": null,
   "id": "ef24016f-ec52-4102-9810-a281a86eb54f",
   "metadata": {},
   "outputs": [],
   "source": [
    "R.send_exe(\"tmc.getAcceleration()\")"
   ]
  },
  {
   "cell_type": "code",
   "execution_count": null,
   "id": "561e4f18-3176-4ebf-b45a-d9f31aa8a1a2",
   "metadata": {},
   "outputs": [],
   "source": [
    "R.send_exe(\"tmc.runToPositionSteps(10000)\")"
   ]
  },
  {
   "cell_type": "code",
   "execution_count": null,
   "id": "3b09986a-625f-4b3a-b508-8aa85fc35389",
   "metadata": {},
   "outputs": [],
   "source": [
    "R.send_exe(\"tmc.runToPositionSteps(-10000)\")"
   ]
  },
  {
   "cell_type": "code",
   "execution_count": null,
   "id": "9bd235e2-4df8-4661-a3ad-27e4dc2d6dfb",
   "metadata": {},
   "outputs": [],
   "source": [
    "R.send_exe(\"tmc.setMotorEnabled(True)\")"
   ]
  },
  {
   "cell_type": "code",
   "execution_count": null,
   "id": "d89d4f9c-5172-41b2-894d-f22d2f33cafb",
   "metadata": {},
   "outputs": [],
   "source": [
    "R.send_exe(\"tmc.setMotorEnabled(False)\")"
   ]
  }
 ],
 "metadata": {
  "kernelspec": {
   "display_name": "Python 3 (ipykernel)",
   "language": "python",
   "name": "python3"
  },
  "language_info": {
   "codemirror_mode": {
    "name": "ipython",
    "version": 3
   },
   "file_extension": ".py",
   "mimetype": "text/x-python",
   "name": "python",
   "nbconvert_exporter": "python",
   "pygments_lexer": "ipython3",
   "version": "3.10.10"
  }
 },
 "nbformat": 4,
 "nbformat_minor": 5
}
