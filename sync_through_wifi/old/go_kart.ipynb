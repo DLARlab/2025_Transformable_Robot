{
 "cells": [
  {
   "cell_type": "markdown",
   "id": "3c871cb4-1fa4-470c-9b9a-63648f27f2f1",
   "metadata": {
    "jp-MarkdownHeadingCollapsed": true,
    "tags": []
   },
   "source": [
    "# init funcs"
   ]
  },
  {
   "cell_type": "code",
   "execution_count": 1,
   "id": "ahead-bicycle",
   "metadata": {},
   "outputs": [],
   "source": [
    "%run ../udp_thingy.ipynb"
   ]
  },
  {
   "cell_type": "code",
   "execution_count": 2,
   "id": "engaged-sullivan",
   "metadata": {},
   "outputs": [
    {
     "name": "stdout",
     "output_type": "stream",
     "text": [
      "/home/jovyan/work/research_ongoing/20230110_micropython_stuff/util_interfaces\n",
      "info\n",
      "        \n",
      "        Always be aware that this version of dashboard is instanced when defination.\n",
      "        Which means that there cannot be two dashboard in the same ipynb kernel.\n",
      "        \n",
      "        \n"
     ]
    },
    {
     "data": {
      "application/vnd.jupyter.widget-view+json": {
       "model_id": "c84922e900834bf4854ef341a683663e",
       "version_major": 2,
       "version_minor": 0
      },
      "text/plain": [
       "Box(children=(Button(description='buttoner', disabled=True, layout=Layout(height='30px', width='auto'), style=…"
      ]
     },
     "metadata": {},
     "output_type": "display_data"
    },
    {
     "data": {
      "application/vnd.jupyter.widget-view+json": {
       "model_id": "40a7a42482024a2fbd5db72c12df6673",
       "version_major": 2,
       "version_minor": 0
      },
      "text/plain": [
       "Box(children=(StateButton(description='loop_timer', layout=Layout(height='30px'), style=ButtonStyle(button_col…"
      ]
     },
     "metadata": {},
     "output_type": "display_data"
    }
   ],
   "source": [
    "%cd ../../util_interfaces/\n",
    "%run advance_dashboard.ipynb"
   ]
  },
  {
   "cell_type": "code",
   "execution_count": null,
   "id": "alternative-boards",
   "metadata": {},
   "outputs": [],
   "source": []
  },
  {
   "cell_type": "code",
   "execution_count": 3,
   "id": "later-rogers",
   "metadata": {},
   "outputs": [],
   "source": [
    "R=Responder((\"0.0.0.0\",8081))"
   ]
  },
  {
   "cell_type": "code",
   "execution_count": 4,
   "id": "2c0c2248-c3f5-47aa-bd12-fb21ebfd1222",
   "metadata": {},
   "outputs": [],
   "source": [
    "ESP=\"192.168.2.139\""
   ]
  },
  {
   "cell_type": "code",
   "execution_count": 5,
   "id": "1dc3207d-a20b-4b91-a3a5-4ec675eb5702",
   "metadata": {},
   "outputs": [],
   "source": [
    "ESP=\"192.168.2.101\""
   ]
  },
  {
   "cell_type": "code",
   "execution_count": 6,
   "id": "91b98279-9c34-48bc-8db0-298115d71bd5",
   "metadata": {},
   "outputs": [],
   "source": [
    "ESP=\"192.168.2.206\""
   ]
  },
  {
   "cell_type": "code",
   "execution_count": 7,
   "id": "96b8d3f9-28e3-4490-9fc1-a417208d2f46",
   "metadata": {},
   "outputs": [],
   "source": [
    "ESP=\"192.168.2.122\""
   ]
  },
  {
   "cell_type": "code",
   "execution_count": 8,
   "id": "559a9987-1b67-4a98-a635-bcbd85c9e0f7",
   "metadata": {},
   "outputs": [],
   "source": [
    "ESP=\"192.168.2.132\""
   ]
  },
  {
   "cell_type": "code",
   "execution_count": 9,
   "id": "4c83115a-98b0-4cef-9644-e61c7baf4d73",
   "metadata": {},
   "outputs": [],
   "source": [
    "ESP=\"192.168.2.235\""
   ]
  },
  {
   "cell_type": "code",
   "execution_count": 10,
   "id": "according-sentence",
   "metadata": {},
   "outputs": [],
   "source": [
    "R.to=[(ESP,8080),]"
   ]
  },
  {
   "cell_type": "code",
   "execution_count": 11,
   "id": "cloudy-marijuana",
   "metadata": {},
   "outputs": [],
   "source": [
    "R.send_exe(\"R\")"
   ]
  },
  {
   "cell_type": "code",
   "execution_count": null,
   "id": "642546d7-8e8a-4989-9d86-ff2e61efdc94",
   "metadata": {},
   "outputs": [],
   "source": []
  },
  {
   "cell_type": "code",
   "execution_count": null,
   "id": "be403900-6fd1-4539-bd15-6d8ef0d6c25c",
   "metadata": {},
   "outputs": [],
   "source": []
  },
  {
   "cell_type": "code",
   "execution_count": 12,
   "id": "binary-vitamin",
   "metadata": {},
   "outputs": [],
   "source": [
    "def rett(task):\n",
    "    k=ipywidgets.Textarea(layout=ipywidgets.Layout(width='500px', height='100px'))\n",
    "    task.start()\n",
    "    return (k,)\n",
    "\n",
    "@TaskHandlerButtonAdvanced.add_to_state_button(s, rett)\n",
    "async def control_loop(task, sleep_interval=0.05, keep_len=10):\n",
    "    global actions\n",
    "    obs = task.widgets[0]\n",
    "    \n",
    "    @loop(sleep_interval)\n",
    "    def go():\n",
    "        obs.value=\"\\n\".join([str(i) for i in R.ret_list][::-1])\n",
    "    \n",
    "    await asyncio.gather(R.loop_recv(),go())\n",
    "t=control_loop(\"control_loop\")"
   ]
  },
  {
   "cell_type": "code",
   "execution_count": 13,
   "id": "standing-nightlife",
   "metadata": {},
   "outputs": [
    {
     "data": {
      "text/plain": [
       "[]"
      ]
     },
     "execution_count": 13,
     "metadata": {},
     "output_type": "execute_result"
    }
   ],
   "source": [
    "R.ret_list"
   ]
  },
  {
   "cell_type": "code",
   "execution_count": null,
   "id": "fd820753-59f0-44dc-9454-d138eea3d755",
   "metadata": {},
   "outputs": [],
   "source": []
  },
  {
   "cell_type": "code",
   "execution_count": 14,
   "id": "recent-trance",
   "metadata": {},
   "outputs": [
    {
     "data": {
      "application/vnd.jupyter.widget-view+json": {
       "model_id": "c84922e900834bf4854ef341a683663e",
       "version_major": 2,
       "version_minor": 0
      },
      "text/plain": [
       "Box(children=(Button(description='buttoner', disabled=True, layout=Layout(height='30px', width='auto'), style=…"
      ]
     },
     "metadata": {},
     "output_type": "display_data"
    },
    {
     "data": {
      "application/vnd.jupyter.widget-view+json": {
       "model_id": "40a7a42482024a2fbd5db72c12df6673",
       "version_major": 2,
       "version_minor": 0
      },
      "text/plain": [
       "Box(children=(StateButton(description='loop_timer', layout=Layout(height='30px'), style=ButtonStyle(button_col…"
      ]
     },
     "metadata": {},
     "output_type": "display_data"
    },
    {
     "data": {
      "application/vnd.jupyter.widget-view+json": {
       "model_id": "5f65792e0d474794880a30906e3b8418",
       "version_major": 2,
       "version_minor": 0
      },
      "text/plain": [
       "Box(children=(StateButton(description='control_loop', layout=Layout(height='30px'), style=ButtonStyle(button_c…"
      ]
     },
     "metadata": {},
     "output_type": "display_data"
    }
   ],
   "source": [
    "s.display()"
   ]
  },
  {
   "cell_type": "code",
   "execution_count": 15,
   "id": "gorgeous-entrepreneur",
   "metadata": {},
   "outputs": [
    {
     "ename": "SyntaxError",
     "evalue": "'break' outside loop (668683560.py, line 1)",
     "output_type": "error",
     "traceback": [
      "\u001b[0;36m  Cell \u001b[0;32mIn[15], line 1\u001b[0;36m\u001b[0m\n\u001b[0;31m    break\u001b[0m\n\u001b[0m    ^\u001b[0m\n\u001b[0;31mSyntaxError\u001b[0m\u001b[0;31m:\u001b[0m 'break' outside loop\n"
     ]
    }
   ],
   "source": [
    "break"
   ]
  },
  {
   "cell_type": "markdown",
   "id": "60e078df-2d90-4615-877a-79242fccc9a1",
   "metadata": {
    "tags": []
   },
   "source": [
    "# some funcs"
   ]
  },
  {
   "cell_type": "code",
   "execution_count": null,
   "id": "84b064d9-55c6-4753-82b2-8ed62d8e2712",
   "metadata": {},
   "outputs": [],
   "source": [
    "R.send_exe(f\"(esp.drums.cancel(),esp.light.duty(0))\")"
   ]
  },
  {
   "cell_type": "code",
   "execution_count": null,
   "id": "e9544488-37be-4f3f-b03f-9a11345fa57e",
   "metadata": {},
   "outputs": [],
   "source": []
  },
  {
   "cell_type": "code",
   "execution_count": 49,
   "id": "c80c2af0-f0c3-4fbb-9de6-a4a3473e9bd6",
   "metadata": {},
   "outputs": [],
   "source": [
    "import numpy as np"
   ]
  },
  {
   "cell_type": "code",
   "execution_count": 50,
   "id": "b010dd7b-7183-4122-b824-f68b8fa1d783",
   "metadata": {},
   "outputs": [
    {
     "data": {
      "text/plain": [
       "array([[[0., 0.],\n",
       "        [0., 0.]],\n",
       "\n",
       "       [[0., 0.],\n",
       "        [0., 0.]]])"
      ]
     },
     "execution_count": 50,
     "metadata": {},
     "output_type": "execute_result"
    }
   ],
   "source": [
    "np.zeros((2,2,2))"
   ]
  },
  {
   "cell_type": "code",
   "execution_count": 51,
   "id": "b9e6eda5-d354-4242-95fd-2eb0bf174dcd",
   "metadata": {},
   "outputs": [
    {
     "data": {
      "text/plain": [
       "array([[['front_left_up', 'front_left_side'],\n",
       "        ['front_right_up', 'front_right_side']],\n",
       "\n",
       "       [['behind_left_up', 'behind_left_side'],\n",
       "        ['behind_right_up', 'behind_right_side']]], dtype='<U17')"
      ]
     },
     "execution_count": 51,
     "metadata": {},
     "output_type": "execute_result"
    }
   ],
   "source": [
    "k=[]\n",
    "for x in [\"front\",\"behind\"]:\n",
    "    for y in [\"left\",\"right\"]:\n",
    "        for z in [\"up\",\"side\"]:\n",
    "            k.append(\"_\".join([x,y,z]))\n",
    "names=np.reshape(k,(2,2,2))\n",
    "names"
   ]
  },
  {
   "cell_type": "code",
   "execution_count": null,
   "id": "9e56b632-e320-4956-b7f4-02a28e82b452",
   "metadata": {},
   "outputs": [],
   "source": []
  },
  {
   "cell_type": "code",
   "execution_count": 367,
   "id": "e26d4c72-e34f-45f8-9431-3824cdf0e58e",
   "metadata": {},
   "outputs": [],
   "source": [
    "import numpy as np\n",
    "class Kart:\n",
    "    def __init__(self,):\n",
    "        self.info_dict=self.init_info()\n",
    "        \n",
    "    def init_info(self,):\n",
    "        dic={}\n",
    "        \n",
    "        # positive for\n",
    "        # right\n",
    "        # up(wheel_down)\n",
    "        \n",
    "        g=np.array([[[-0.15, 0.],\n",
    "                    [0., 0.]],\n",
    "\n",
    "                   [[0., 0.],\n",
    "                    [0.1, 0]]])\n",
    "        dic[\"offset\"]=g\n",
    "        \n",
    "        dic[\"mul\"] = np.array([[[1., -1.],\n",
    "                                [-1., -1.]],\n",
    "\n",
    "                               [[-1., -1.],\n",
    "                                [1., -1.]]])*0.4\n",
    "        \n",
    "        dic[\"arrange\"]=[0,1,2,3,4,5,6,7]\n",
    "        dic[\"arrange\"]=[2,3,5,4,6,7,0,1]\n",
    "        dic[\"arrange\"]=[2,3,7,6,4,5,0,1]\n",
    "        \n",
    "        return dic\n",
    "    \n",
    "    def go(self,li):\n",
    "        ret=li*self.info_dict[\"mul\"]\n",
    "        \n",
    "        ret=np.clip(ret,-0.4,0.2)+self.info_dict[\"offset\"]\n",
    "        ret=ret.flatten()\n",
    "        ret=ret[self.info_dict[\"arrange\"]]\n",
    "        \n",
    "        ret=ret.tolist()\n",
    "        return ret\n",
    "    \n",
    "    def run_no_wait(self,li,add=None):\n",
    "        li=self.go(li)\n",
    "        if add is not None:\n",
    "            li+=add\n",
    "        R.send_exe(f\"esp.pca_moves({li})\")\n",
    "    \n",
    "    async def run(self,li):\n",
    "        self.run_no_wait(li)\n",
    "        await asyncio.sleep(0.2)\n",
    "        "
   ]
  },
  {
   "cell_type": "code",
   "execution_count": 368,
   "id": "e4542022-421f-4697-83ac-3a5215de4334",
   "metadata": {},
   "outputs": [
    {
     "data": {
      "text/plain": [
       "[0.0, 0.0, 0.0, 0.1, 0.0, 0.0, -0.15, 0.0]"
      ]
     },
     "execution_count": 368,
     "metadata": {},
     "output_type": "execute_result"
    }
   ],
   "source": [
    "K=Kart()\n",
    "q=np.zeros((2,2,2))\n",
    "\n",
    "await K.run(q)\n",
    "K.go(q)"
   ]
  },
  {
   "cell_type": "code",
   "execution_count": null,
   "id": "4587cb96-412c-4ea4-b2fb-2017b2aef1a3",
   "metadata": {},
   "outputs": [],
   "source": []
  },
  {
   "cell_type": "code",
   "execution_count": 283,
   "id": "6df139fa-9941-433d-819b-a0a5952ba14a",
   "metadata": {},
   "outputs": [
    {
     "name": "stdout",
     "output_type": "stream",
     "text": [
      "front_left_up [0.0, 0.0, 0.0, 0.1, 0.0, 0.0, 0.0, 0.0]\n"
     ]
    },
    {
     "name": "stdin",
     "output_type": "stream",
     "text": [
      " \n"
     ]
    },
    {
     "name": "stdout",
     "output_type": "stream",
     "text": [
      "front_left_side [0.0, 0.0, 0.0, 0.1, 0.0, 0.0, -0.15, -0.15]\n"
     ]
    },
    {
     "name": "stdin",
     "output_type": "stream",
     "text": [
      " \n"
     ]
    },
    {
     "name": "stdout",
     "output_type": "stream",
     "text": [
      "front_right_up [-0.15, 0.0, 0.0, 0.1, 0.0, 0.0, -0.15, 0.0]\n"
     ]
    },
    {
     "name": "stdin",
     "output_type": "stream",
     "text": [
      " \n"
     ]
    },
    {
     "name": "stdout",
     "output_type": "stream",
     "text": [
      "front_right_side [0.0, -0.15, 0.0, 0.1, 0.0, 0.0, -0.15, 0.0]\n"
     ]
    },
    {
     "name": "stdin",
     "output_type": "stream",
     "text": [
      " \n"
     ]
    },
    {
     "name": "stdout",
     "output_type": "stream",
     "text": [
      "behind_left_up [0.0, 0.0, 0.0, 0.1, -0.15, 0.0, -0.15, 0.0]\n"
     ]
    },
    {
     "name": "stdin",
     "output_type": "stream",
     "text": [
      " \n"
     ]
    },
    {
     "name": "stdout",
     "output_type": "stream",
     "text": [
      "behind_left_side [0.0, 0.0, 0.0, 0.1, 0.0, -0.15, -0.15, 0.0]\n"
     ]
    },
    {
     "name": "stdin",
     "output_type": "stream",
     "text": [
      " \n"
     ]
    },
    {
     "name": "stdout",
     "output_type": "stream",
     "text": [
      "behind_right_up [0.0, 0.0, 0.0, 0.25, 0.0, 0.0, -0.15, 0.0]\n"
     ]
    },
    {
     "name": "stdin",
     "output_type": "stream",
     "text": [
      " \n"
     ]
    },
    {
     "name": "stdout",
     "output_type": "stream",
     "text": [
      "behind_right_side [0.0, 0.0, -0.15, 0.1, 0.0, 0.0, -0.15, 0.0]\n"
     ]
    },
    {
     "name": "stdin",
     "output_type": "stream",
     "text": [
      " \n"
     ]
    }
   ],
   "source": [
    "for ind,u in np.ndenumerate(q):\n",
    "    q=np.zeros((2,2,2))\n",
    "    q[ind]=0.5\n",
    "    print(names[ind],K.go(q))\n",
    "    \n",
    "    await K.run(q)\n",
    "    input()\n",
    "    "
   ]
  },
  {
   "cell_type": "code",
   "execution_count": null,
   "id": "40339728-c28c-4621-8992-f97db96f788e",
   "metadata": {},
   "outputs": [],
   "source": []
  },
  {
   "cell_type": "code",
   "execution_count": 114,
   "id": "098ddc61-3178-48e2-8f02-17637f76b889",
   "metadata": {},
   "outputs": [],
   "source": [
    "li=[0 for _ in range(12)]\n",
    "R.send_exe(f\"esp.pca_moves({li})\")"
   ]
  },
  {
   "cell_type": "code",
   "execution_count": null,
   "id": "cb9fd918-bfe9-4a07-bb2e-bf37f8e6ae93",
   "metadata": {},
   "outputs": [],
   "source": []
  },
  {
   "cell_type": "code",
   "execution_count": 134,
   "id": "cfaaee3f-d6f3-4d8a-a452-7e3837645e94",
   "metadata": {},
   "outputs": [],
   "source": [
    "R.send_exe(f\"esp.to=[]\")"
   ]
  },
  {
   "cell_type": "code",
   "execution_count": 135,
   "id": "e3c4eeb1-9ed9-4bad-af47-8c9f829f6e81",
   "metadata": {},
   "outputs": [],
   "source": [
    "R.send_exe(f\"esp.done\")"
   ]
  },
  {
   "cell_type": "code",
   "execution_count": null,
   "id": "63f07518-a5bb-456c-8547-b7f9634f0fad",
   "metadata": {},
   "outputs": [],
   "source": []
  },
  {
   "cell_type": "code",
   "execution_count": 120,
   "id": "9f4ad132-f787-487e-b4c6-150ad57dc868",
   "metadata": {},
   "outputs": [],
   "source": [
    "await asyncio.sleep(1)"
   ]
  },
  {
   "cell_type": "code",
   "execution_count": 127,
   "id": "21ccf121-939c-44bc-a785-a4340edfe205",
   "metadata": {},
   "outputs": [],
   "source": [
    "for q in range(8):\n",
    "    await asyncio.sleep(0.5)\n",
    "    li=[0.2 if i==q else 0 for i in range(12)]\n",
    "    R.send_exe(f\"esp.pca_moves({li})\")\n",
    "    \n",
    "    await asyncio.sleep(0.5)\n",
    "    li=[0 for _ in range(12)]\n",
    "    R.send_exe(f\"esp.pca_moves({li})\")"
   ]
  },
  {
   "cell_type": "code",
   "execution_count": 128,
   "id": "dd4f0320-b519-49af-855f-dbb66d94b35e",
   "metadata": {},
   "outputs": [],
   "source": [
    "await asyncio.sleep(0.1)"
   ]
  },
  {
   "cell_type": "code",
   "execution_count": 129,
   "id": "f7c38363-2618-4248-9aff-840af4e2b101",
   "metadata": {},
   "outputs": [],
   "source": [
    "    R.send_exe(f\"esp.pca.off()\")"
   ]
  },
  {
   "cell_type": "code",
   "execution_count": 130,
   "id": "e6bc216f-2437-4db7-aa18-d8c07e083b35",
   "metadata": {},
   "outputs": [],
   "source": [
    "li=[0,0,0,0,0,0,0,0,0.1,0.1]\n",
    "R.send_exe(f\"esp.pca_moves({li})\")"
   ]
  },
  {
   "cell_type": "code",
   "execution_count": 131,
   "id": "229f996f-ed36-43c3-9169-ca4694736d35",
   "metadata": {},
   "outputs": [],
   "source": [
    "li=[0,0,0,0,0,0,0,0,1,1]\n",
    "R.send_exe(f\"esp.pca_moves({li})\")"
   ]
  },
  {
   "cell_type": "code",
   "execution_count": 132,
   "id": "0b22389b-1452-4542-8ab7-477f0f20ab4a",
   "metadata": {},
   "outputs": [],
   "source": [
    "li=[0,0,0,0,0,0,0,0,0,0]\n",
    "R.send_exe(f\"esp.pca_moves({li})\")"
   ]
  },
  {
   "cell_type": "code",
   "execution_count": null,
   "id": "5da241c3-2e92-427e-bd51-ae6aa0efc8ec",
   "metadata": {},
   "outputs": [],
   "source": []
  },
  {
   "cell_type": "code",
   "execution_count": 123,
   "id": "458158ac-375f-41c6-8ff8-e92e91277666",
   "metadata": {},
   "outputs": [
    {
     "data": {
      "application/vnd.jupyter.widget-view+json": {
       "model_id": "c84922e900834bf4854ef341a683663e",
       "version_major": 2,
       "version_minor": 0
      },
      "text/plain": [
       "Box(children=(Button(description='buttoner', disabled=True, layout=Layout(height='30px', width='auto'), style=…"
      ]
     },
     "metadata": {},
     "output_type": "display_data"
    },
    {
     "data": {
      "application/vnd.jupyter.widget-view+json": {
       "model_id": "40a7a42482024a2fbd5db72c12df6673",
       "version_major": 2,
       "version_minor": 0
      },
      "text/plain": [
       "Box(children=(StateButton(description='loop_timer', layout=Layout(height='30px'), style=ButtonStyle(button_col…"
      ]
     },
     "metadata": {},
     "output_type": "display_data"
    },
    {
     "data": {
      "application/vnd.jupyter.widget-view+json": {
       "model_id": "5f65792e0d474794880a30906e3b8418",
       "version_major": 2,
       "version_minor": 0
      },
      "text/plain": [
       "Box(children=(StateButton(description='control_loop', layout=Layout(height='30px'), style=ButtonStyle(button_c…"
      ]
     },
     "metadata": {},
     "output_type": "display_data"
    }
   ],
   "source": [
    "s.display()"
   ]
  },
  {
   "cell_type": "code",
   "execution_count": null,
   "id": "919af6a4-fbf9-4cf4-ac1c-eb4861b85119",
   "metadata": {},
   "outputs": [],
   "source": []
  },
  {
   "cell_type": "code",
   "execution_count": 126,
   "id": "8724aee3-7c73-4a78-88ee-086e20490218",
   "metadata": {},
   "outputs": [],
   "source": [
    "R.send_exe(\"esp.I.scan()\")"
   ]
  },
  {
   "cell_type": "code",
   "execution_count": null,
   "id": "699fb00d-c2ae-4154-92a8-236e6b8c8d45",
   "metadata": {},
   "outputs": [],
   "source": [
    "R.send_exe(\"\")"
   ]
  },
  {
   "cell_type": "code",
   "execution_count": null,
   "id": "136f3feb-76e7-4e63-80c4-e76abeb71ae6",
   "metadata": {},
   "outputs": [],
   "source": [
    "R.send_exe(\"\")"
   ]
  },
  {
   "cell_type": "code",
   "execution_count": null,
   "id": "2f9846da-f2a9-40e1-92d8-beefb2a561ea",
   "metadata": {},
   "outputs": [],
   "source": []
  },
  {
   "cell_type": "markdown",
   "id": "cb4e2a8a-379c-4f34-baa3-fb0f87b4f1c8",
   "metadata": {},
   "source": [
    "# main"
   ]
  },
  {
   "cell_type": "code",
   "execution_count": null,
   "id": "05f3835f-6c6e-46b1-90f2-2465ec937b14",
   "metadata": {},
   "outputs": [],
   "source": []
  },
  {
   "cell_type": "code",
   "execution_count": null,
   "id": "f4673ed7-82ca-4dda-95bd-88c5131eeb63",
   "metadata": {},
   "outputs": [],
   "source": []
  },
  {
   "cell_type": "code",
   "execution_count": 269,
   "id": "12c60d6c-3c5d-44d5-8144-ccedae88611d",
   "metadata": {},
   "outputs": [
    {
     "data": {
      "text/plain": [
       "[0.0, 0.0, 0.0, 0.1, 0.0, 0.0, -0.15, 0.0]"
      ]
     },
     "execution_count": 269,
     "metadata": {},
     "output_type": "execute_result"
    }
   ],
   "source": [
    "q=np.zeros((2,2,2))\n",
    "K.run_no_wait(q)\n",
    "K.go(q)"
   ]
  },
  {
   "cell_type": "code",
   "execution_count": null,
   "id": "0b6cef57-54a9-4976-9717-a5528f604231",
   "metadata": {},
   "outputs": [],
   "source": []
  },
  {
   "cell_type": "code",
   "execution_count": 370,
   "id": "2e3fabfa-720a-462a-b7c9-9d97abfa236f",
   "metadata": {},
   "outputs": [],
   "source": [
    "import asyncio"
   ]
  },
  {
   "cell_type": "code",
   "execution_count": 369,
   "id": "041a7331-437b-46cc-9905-2d9c47ac3f4d",
   "metadata": {},
   "outputs": [],
   "source": [
    "def up_to(n,speed=0):\n",
    "    q=np.zeros((2,2,2))\n",
    "    q[:,:,0]=n\n",
    "    K.run_no_wait(q,[speed,speed])\n",
    "    return K.go(q)\n",
    "\n",
    "def side_to(to):\n",
    "    up_to([to,-to])\n",
    "    \n",
    "def front_to(to):\n",
    "    up_to([[to,to],[-to,-to]])"
   ]
  },
  {
   "cell_type": "code",
   "execution_count": null,
   "id": "9653e623-0d1c-4e04-9c05-a6ec3c577495",
   "metadata": {},
   "outputs": [],
   "source": []
  },
  {
   "cell_type": "code",
   "execution_count": 307,
   "id": "7c36607f-5110-4089-8a92-7af044f6ca7c",
   "metadata": {},
   "outputs": [],
   "source": [
    "side_to(0)"
   ]
  },
  {
   "cell_type": "code",
   "execution_count": null,
   "id": "bed54f3e-4f10-4829-8082-112e17cbada5",
   "metadata": {},
   "outputs": [],
   "source": [
    "to_have=0.6"
   ]
  },
  {
   "cell_type": "code",
   "execution_count": 325,
   "id": "f6e452b3-ff36-4891-a61d-1f239e93a6e4",
   "metadata": {},
   "outputs": [],
   "source": [
    "for i in np.arange(-to_have,to_have,0.1):\n",
    "    front_to(i)\n",
    "    await asyncio.sleep(0.2)   \n",
    "\n",
    "front_to(0)\n",
    "await asyncio.sleep(0.2)   \n"
   ]
  },
  {
   "cell_type": "code",
   "execution_count": 326,
   "id": "fed8d689-26be-41b6-aa73-b067a0e5d222",
   "metadata": {},
   "outputs": [],
   "source": [
    "for i in np.arange(-to_have,to_have,0.1):\n",
    "    side_to(i)\n",
    "    await asyncio.sleep(0.2)   \n",
    "\n",
    "side_to(0)\n",
    "await asyncio.sleep(0.2)   \n"
   ]
  },
  {
   "cell_type": "code",
   "execution_count": null,
   "id": "56dbcbc0-3e20-4726-887b-f2c24230837a",
   "metadata": {},
   "outputs": [],
   "source": []
  },
  {
   "cell_type": "code",
   "execution_count": 371,
   "id": "d3f86b16-2810-43e7-ae92-a1a4c7a87b84",
   "metadata": {},
   "outputs": [],
   "source": [
    "def round_up(speed=0.1):\n",
    "    q=np.zeros((2,2,2))\n",
    "    q[:,:,1]=[[-1,1],[1,-1]]\n",
    "    q[:,:,0]=1\n",
    "    K.run_no_wait(q,[speed,speed])\n",
    "    return K.go(q)"
   ]
  },
  {
   "cell_type": "code",
   "execution_count": 372,
   "id": "ff4e07c1-784d-4794-9768-736b42dedde0",
   "metadata": {},
   "outputs": [
    {
     "data": {
      "text/plain": [
       "[-0.4, -0.4, 0.2, 0.30000000000000004, -0.4, -0.4, 0.05000000000000002, 0.2]"
      ]
     },
     "execution_count": 372,
     "metadata": {},
     "output_type": "execute_result"
    }
   ],
   "source": [
    "round_up(0)"
   ]
  },
  {
   "cell_type": "code",
   "execution_count": 373,
   "id": "e3f0f750-f610-41de-979b-eef799481cee",
   "metadata": {},
   "outputs": [],
   "source": [
    "idle()"
   ]
  },
  {
   "cell_type": "code",
   "execution_count": null,
   "id": "a1d6eae8-24de-4f87-b00b-d609ee5fb206",
   "metadata": {},
   "outputs": [],
   "source": []
  },
  {
   "cell_type": "code",
   "execution_count": 198,
   "id": "9ba6640c-162e-4065-b14b-60a802b8d818",
   "metadata": {},
   "outputs": [],
   "source": [
    "def idle():\n",
    "    q=np.zeros((2,2,2))\n",
    "    K.run_no_wait(q,[0,0])"
   ]
  },
  {
   "cell_type": "code",
   "execution_count": 203,
   "id": "3ea454b2-3cdd-4e80-84e2-165f608f4778",
   "metadata": {},
   "outputs": [],
   "source": [
    "idle()"
   ]
  },
  {
   "cell_type": "code",
   "execution_count": null,
   "id": "145a8c63-c1d4-4505-9a40-63cfd1718a78",
   "metadata": {},
   "outputs": [],
   "source": []
  },
  {
   "cell_type": "code",
   "execution_count": null,
   "id": "00644e6c-e9ab-4360-9c3c-f15fa405bdb8",
   "metadata": {},
   "outputs": [],
   "source": []
  },
  {
   "cell_type": "code",
   "execution_count": null,
   "id": "d652be86-82db-4970-9e82-305e17662c4a",
   "metadata": {},
   "outputs": [],
   "source": []
  },
  {
   "cell_type": "code",
   "execution_count": 374,
   "id": "13f2e80d-81fb-4a0c-8aa8-c8773532d4be",
   "metadata": {},
   "outputs": [],
   "source": [
    "to_have=1"
   ]
  },
  {
   "cell_type": "code",
   "execution_count": 375,
   "id": "e736c531-8492-431b-88f5-87cbe6b53c12",
   "metadata": {},
   "outputs": [],
   "source": [
    "for i in np.arange(-to_have,to_have,0.1):\n",
    "    front_to(i)\n",
    "    await asyncio.sleep(0.2)   \n",
    "idle()\n",
    "await asyncio.sleep(0.2)   \n"
   ]
  },
  {
   "cell_type": "code",
   "execution_count": 376,
   "id": "2aa780a8-9b51-486b-b825-1106f7edffe7",
   "metadata": {},
   "outputs": [],
   "source": [
    "for i in np.arange(-to_have,to_have,0.1):\n",
    "    side_to(i)\n",
    "    await asyncio.sleep(0.2)   \n",
    "idle()\n",
    "await asyncio.sleep(0.2)   \n"
   ]
  },
  {
   "cell_type": "code",
   "execution_count": 377,
   "id": "722fbc9f-c7fd-49ed-a1c5-cd2ec20f70f8",
   "metadata": {},
   "outputs": [],
   "source": [
    "for i in np.arange(-to_have,to_have,0.1):\n",
    "    up_to(i)\n",
    "    await asyncio.sleep(0.2)   \n",
    "idle()\n",
    "await asyncio.sleep(0.2)   \n"
   ]
  },
  {
   "cell_type": "code",
   "execution_count": null,
   "id": "417adefc-8116-4d53-a0cc-5c882687eb7a",
   "metadata": {},
   "outputs": [],
   "source": []
  },
  {
   "cell_type": "code",
   "execution_count": 378,
   "id": "16c860b9-f4f6-42b1-863f-f11484647388",
   "metadata": {},
   "outputs": [],
   "source": [
    "round_up(0)\n",
    "await asyncio.sleep(0.2)   \n",
    "\n",
    "for i in np.arange(-to_have,to_have,0.1):\n",
    "    round_up(i)\n",
    "    await asyncio.sleep(0.2)   \n",
    "idle()\n",
    "await asyncio.sleep(0.2)   \n"
   ]
  },
  {
   "cell_type": "code",
   "execution_count": null,
   "id": "be15400a-a200-4077-bc8e-156f6f8de27e",
   "metadata": {},
   "outputs": [],
   "source": []
  },
  {
   "cell_type": "code",
   "execution_count": null,
   "id": "3ec6c29b-ab29-48cf-b5e1-1a9e9f2b2fcc",
   "metadata": {},
   "outputs": [],
   "source": []
  },
  {
   "cell_type": "code",
   "execution_count": null,
   "id": "316df4d7-03ce-4ecc-978d-06c318d34806",
   "metadata": {},
   "outputs": [],
   "source": []
  },
  {
   "cell_type": "code",
   "execution_count": null,
   "id": "c1ae887d-c320-4cda-8821-dce1fd7cbcc7",
   "metadata": {},
   "outputs": [],
   "source": []
  },
  {
   "cell_type": "code",
   "execution_count": null,
   "id": "204c6e76-8e88-43db-b4e0-225bcb3f4e29",
   "metadata": {},
   "outputs": [],
   "source": []
  },
  {
   "cell_type": "code",
   "execution_count": null,
   "id": "e9baf9af-43a8-4024-b1e3-f1a4d38ac212",
   "metadata": {},
   "outputs": [],
   "source": []
  },
  {
   "cell_type": "code",
   "execution_count": null,
   "id": "4e5e5806-cd90-4ec0-956f-2aef3c34b4a5",
   "metadata": {},
   "outputs": [],
   "source": []
  },
  {
   "cell_type": "code",
   "execution_count": null,
   "id": "dc48bee9-eb20-44fa-b744-fc2ecef360eb",
   "metadata": {},
   "outputs": [],
   "source": []
  },
  {
   "cell_type": "code",
   "execution_count": null,
   "id": "a32401e4-d33e-4123-a0a1-16e081132a3d",
   "metadata": {},
   "outputs": [],
   "source": []
  },
  {
   "cell_type": "code",
   "execution_count": null,
   "id": "c4d74e3a-5b75-4f14-8ac9-8e2ca0935de6",
   "metadata": {},
   "outputs": [],
   "source": []
  },
  {
   "cell_type": "code",
   "execution_count": null,
   "id": "6d24eff0-7701-456b-aa4d-845f26803ed5",
   "metadata": {},
   "outputs": [],
   "source": [
    "R.send_exe(f\"(esp.drums.cancel(),esp.light.duty(0))\")"
   ]
  },
  {
   "cell_type": "code",
   "execution_count": null,
   "id": "98632c0d-a44c-47d9-9550-665a6ffc6868",
   "metadata": {},
   "outputs": [],
   "source": [
    "R.send_exe(\"from reluer import MyRelu;actor=MyRelu()\")"
   ]
  },
  {
   "cell_type": "code",
   "execution_count": null,
   "id": "e132c66a-d33a-4a33-ac35-2d14cad3b4cc",
   "metadata": {},
   "outputs": [],
   "source": [
    "R.send_exe(\"esp.params=actor.unpack_from\")"
   ]
  },
  {
   "cell_type": "code",
   "execution_count": null,
   "id": "00df1698-c62f-47b7-a5e8-87f1a1fb6001",
   "metadata": {},
   "outputs": [],
   "source": [
    "R.send_exe(\"R.decode_list=[['4B', 'rec_s_time'],['185f','params']]\")\n",
    "R.encode_list=[['4B', 'get_s_time'], ['185f', 'params']]"
   ]
  },
  {
   "cell_type": "code",
   "execution_count": null,
   "id": "bee5d79e-4adf-4379-a098-0cc69e240a73",
   "metadata": {},
   "outputs": [],
   "source": []
  },
  {
   "cell_type": "code",
   "execution_count": null,
   "id": "d8c2e7a1-4ebf-448b-9aac-42f21b1b9249",
   "metadata": {},
   "outputs": [],
   "source": [
    "R.send_exe(\"esp.pi([0,0,1])\")"
   ]
  },
  {
   "cell_type": "code",
   "execution_count": null,
   "id": "26fe6c61-aa89-47ca-b67e-e9b907d65196",
   "metadata": {},
   "outputs": [],
   "source": [
    "R.send_exe(\"esp.done\")"
   ]
  },
  {
   "cell_type": "code",
   "execution_count": null,
   "id": "2bec4dee-572e-48cd-8ad8-f0a0ebe75a33",
   "metadata": {},
   "outputs": [],
   "source": [
    "R.send_exe(\"esp.act.done()\")"
   ]
  },
  {
   "cell_type": "code",
   "execution_count": null,
   "id": "e168ade7-6bef-4464-b90e-5ef699b4061a",
   "metadata": {},
   "outputs": [],
   "source": [
    "R.send_exe(\"esp.I=I2C(0,scl=Pin(35),sda=Pin(33),freq=1000000)\")"
   ]
  },
  {
   "cell_type": "code",
   "execution_count": null,
   "id": "b044150c-0423-40af-ae5c-3725e0fdc9d2",
   "metadata": {},
   "outputs": [],
   "source": [
    "R.send_exe(\"esp.I.scan()\")"
   ]
  },
  {
   "cell_type": "code",
   "execution_count": null,
   "id": "f1bc76f2-d999-41d8-9bd2-be803efc2b56",
   "metadata": {},
   "outputs": [],
   "source": [
    "R.send_exe(\"esp.I\")"
   ]
  },
  {
   "cell_type": "code",
   "execution_count": 27,
   "id": "5a2d8e45-ed9c-4417-89a5-3c386188bdd3",
   "metadata": {},
   "outputs": [
    {
     "data": {
      "application/vnd.jupyter.widget-view+json": {
       "model_id": "c84922e900834bf4854ef341a683663e",
       "version_major": 2,
       "version_minor": 0
      },
      "text/plain": [
       "Box(children=(Button(description='buttoner', disabled=True, layout=Layout(height='30px', width='auto'), style=…"
      ]
     },
     "metadata": {},
     "output_type": "display_data"
    },
    {
     "data": {
      "application/vnd.jupyter.widget-view+json": {
       "model_id": "40a7a42482024a2fbd5db72c12df6673",
       "version_major": 2,
       "version_minor": 0
      },
      "text/plain": [
       "Box(children=(StateButton(description='loop_timer', layout=Layout(height='30px'), style=ButtonStyle(button_col…"
      ]
     },
     "metadata": {},
     "output_type": "display_data"
    },
    {
     "data": {
      "application/vnd.jupyter.widget-view+json": {
       "model_id": "5f65792e0d474794880a30906e3b8418",
       "version_major": 2,
       "version_minor": 0
      },
      "text/plain": [
       "Box(children=(StateButton(description='control_loop', layout=Layout(height='30px'), style=ButtonStyle(button_c…"
      ]
     },
     "metadata": {},
     "output_type": "display_data"
    }
   ],
   "source": [
    "s.display()"
   ]
  },
  {
   "cell_type": "code",
   "execution_count": null,
   "id": "22536e34-6c5b-4f6f-8dc6-487d597b8576",
   "metadata": {},
   "outputs": [],
   "source": []
  },
  {
   "cell_type": "code",
   "execution_count": null,
   "id": "b976497d-3e75-4517-9d96-34d1b6775ef3",
   "metadata": {},
   "outputs": [],
   "source": [
    "R.send_exe(\"inp=np.array([1,1,1])\")"
   ]
  },
  {
   "cell_type": "code",
   "execution_count": null,
   "id": "6d8d4259-1935-41e0-834e-072d476ade36",
   "metadata": {},
   "outputs": [],
   "source": [
    "R.send_exe('inp=np.dot(inp,actor.params[\"linear\"][\"w\"])+actor.params[\"linear\"][\"b\"]')"
   ]
  },
  {
   "cell_type": "code",
   "execution_count": null,
   "id": "a8e72501-d2b5-485d-92c1-5b3a082c123e",
   "metadata": {},
   "outputs": [],
   "source": [
    "R.send_exe(\"inp=np.maximum(inp,0)\")"
   ]
  },
  {
   "cell_type": "code",
   "execution_count": null,
   "id": "aa2389e0-2859-476a-8786-cd346331e2d1",
   "metadata": {},
   "outputs": [],
   "source": [
    "R.send_exe(\"inp\")"
   ]
  },
  {
   "cell_type": "code",
   "execution_count": null,
   "id": "7ea8d0f9-0d2c-4e78-ba71-467e72fd0699",
   "metadata": {},
   "outputs": [],
   "source": [
    "R.send_exe('inp=np.dot(inp,actor.params[\"linear_1\"][\"w\"])+actor.params[\"linear_1\"][\"b\"]')"
   ]
  },
  {
   "cell_type": "code",
   "execution_count": null,
   "id": "ed343eb0-d2d5-42e6-b835-0b62b14554cb",
   "metadata": {},
   "outputs": [],
   "source": [
    "R.send_exe('actor.params.keys()')"
   ]
  },
  {
   "cell_type": "code",
   "execution_count": null,
   "id": "cd071813-350c-4cfb-bc62-36996f709dcf",
   "metadata": {},
   "outputs": [],
   "source": [
    "R.send_exe(\"inp\")"
   ]
  },
  {
   "cell_type": "code",
   "execution_count": null,
   "id": "bcbeee35-9d17-4168-b62c-4d693dec003c",
   "metadata": {},
   "outputs": [],
   "source": [
    "R.send_exe(\"\")"
   ]
  },
  {
   "cell_type": "code",
   "execution_count": null,
   "id": "de3c64bd-d99b-4e40-91a2-3db65e99e123",
   "metadata": {},
   "outputs": [],
   "source": [
    "R.send_exe(\"actor\")"
   ]
  },
  {
   "cell_type": "code",
   "execution_count": null,
   "id": "da73c95f-e11b-42f8-9bc2-f34817ad0160",
   "metadata": {},
   "outputs": [],
   "source": []
  },
  {
   "cell_type": "code",
   "execution_count": null,
   "id": "e3ae50ed-e112-420d-8493-2af68e77b363",
   "metadata": {},
   "outputs": [],
   "source": [
    "s.display()"
   ]
  },
  {
   "cell_type": "code",
   "execution_count": null,
   "id": "7f1719b5-03c5-40aa-8e6e-f8eed03e67f4",
   "metadata": {},
   "outputs": [],
   "source": [
    "R.send_exe(f\"esp.to=[]\")"
   ]
  },
  {
   "cell_type": "code",
   "execution_count": null,
   "id": "6d5e457f-557a-4df5-af10-561eb02fdaf4",
   "metadata": {},
   "outputs": [],
   "source": [
    "R.send_exe(\"from machine import Pin,I2C,ADC;an=Pin(5,Pin.IN)\")"
   ]
  },
  {
   "cell_type": "code",
   "execution_count": null,
   "id": "032c7004-77ab-460c-b99b-1cae602bdf4f",
   "metadata": {},
   "outputs": [],
   "source": [
    "R.send_exe(\"an\")"
   ]
  },
  {
   "cell_type": "code",
   "execution_count": null,
   "id": "a341980d-5465-47b1-8260-117737c1c045",
   "metadata": {},
   "outputs": [],
   "source": [
    "R.send_exe(\"ADC(Pin(5)).read()\")"
   ]
  },
  {
   "cell_type": "code",
   "execution_count": null,
   "id": "3639ade8-3b74-4096-ae0a-9255e1a8a2ff",
   "metadata": {},
   "outputs": [],
   "source": [
    "R.send_exe(\"esp.as1.OUTS\")"
   ]
  },
  {
   "cell_type": "code",
   "execution_count": null,
   "id": "f94963d9-7e63-4a02-8015-c672f962f794",
   "metadata": {},
   "outputs": [],
   "source": [
    "R.send_exe(\"esp.as1.OUTS=1\")"
   ]
  },
  {
   "cell_type": "code",
   "execution_count": null,
   "id": "ebeb6bf6-c5f6-42df-88e8-653655119a6e",
   "metadata": {},
   "outputs": [],
   "source": [
    "R.send_exe(\"get_times(100)\")"
   ]
  },
  {
   "cell_type": "code",
   "execution_count": null,
   "id": "68980b2e-de19-4676-ac5d-bb1df9d356dd",
   "metadata": {},
   "outputs": [],
   "source": [
    "R.send_exe(\"\")"
   ]
  },
  {
   "cell_type": "code",
   "execution_count": null,
   "id": "fb7f41cc-1f57-4dd5-b53b-b10c86703ebb",
   "metadata": {},
   "outputs": [],
   "source": [
    "R.send_exe(\"\")"
   ]
  },
  {
   "cell_type": "code",
   "execution_count": null,
   "id": "fca29f6e-743a-498f-90fb-f5ab6255fa40",
   "metadata": {},
   "outputs": [],
   "source": [
    "R.send_exe(\"esp.env.now_step=200\")"
   ]
  },
  {
   "cell_type": "code",
   "execution_count": null,
   "id": "7f57b92e-847b-4d44-bd05-960133823687",
   "metadata": {},
   "outputs": [],
   "source": [
    "R.send_exe(\"esp.real([2])\")"
   ]
  },
  {
   "cell_type": "code",
   "execution_count": null,
   "id": "b8c7a7ba-3f44-485b-9abd-2fdc3d231ca5",
   "metadata": {},
   "outputs": [],
   "source": [
    "R.send_exe(\"esp.real([1])\")"
   ]
  },
  {
   "cell_type": "code",
   "execution_count": null,
   "id": "cd9f442a-b94d-4374-9c60-fcfe4bc6a9af",
   "metadata": {},
   "outputs": [],
   "source": [
    "R.send_exe(\"esp.real([-2])\")"
   ]
  },
  {
   "cell_type": "code",
   "execution_count": null,
   "id": "1fe395a1-3733-48f3-9d62-3981230a91b9",
   "metadata": {},
   "outputs": [],
   "source": [
    "R.send_exe(\"esp.real([-1])\")"
   ]
  },
  {
   "cell_type": "code",
   "execution_count": null,
   "id": "bd62ae9c-6fc7-497e-bbcb-f950706171ef",
   "metadata": {},
   "outputs": [],
   "source": [
    "R.send_exe(\"esp.real([0])\")"
   ]
  },
  {
   "cell_type": "code",
   "execution_count": null,
   "id": "0d591457-97ab-4083-a5d3-11c5ff78cd95",
   "metadata": {},
   "outputs": [],
   "source": [
    "R.send_exe(\"esp.ta=loop.create_task(esp.real.go_to(100,0))\")"
   ]
  },
  {
   "cell_type": "code",
   "execution_count": null,
   "id": "6fa4dcb7-3625-4f8d-a1f6-2ddf3e4d4024",
   "metadata": {},
   "outputs": [],
   "source": [
    "R.send_exe(\"esp.real.get_angle()\")"
   ]
  },
  {
   "cell_type": "code",
   "execution_count": null,
   "id": "41e6cf94-276b-42c3-8212-233073a18126",
   "metadata": {},
   "outputs": [],
   "source": [
    "R.send_exe(\"esp.act=loop.create_task(learn_loop())\")"
   ]
  },
  {
   "cell_type": "code",
   "execution_count": null,
   "id": "7adcb486-2ef3-4ea8-8489-13a9c62fdd47",
   "metadata": {},
   "outputs": [],
   "source": [
    "R.send_exe(\"esp.act.cancel()\")"
   ]
  },
  {
   "cell_type": "code",
   "execution_count": null,
   "id": "7cb75118-81d2-4685-83cc-e69078c34190",
   "metadata": {},
   "outputs": [],
   "source": [
    "R.send_exe(\"esp.real([0])\")"
   ]
  },
  {
   "cell_type": "code",
   "execution_count": null,
   "id": "990766c0-8092-41d3-9b8d-801c8e48ab68",
   "metadata": {},
   "outputs": [],
   "source": [
    "R.send_exe(\"import sys;sys.exit();_=0\")"
   ]
  },
  {
   "cell_type": "code",
   "execution_count": null,
   "id": "9a5edfca-ec2d-4c01-a407-df24e514e17e",
   "metadata": {},
   "outputs": [],
   "source": []
  },
  {
   "cell_type": "code",
   "execution_count": null,
   "id": "3d0c8bda-15d2-44f5-8a49-1e742b51a02f",
   "metadata": {},
   "outputs": [],
   "source": [
    "R.send_exe(\"esp.as1\")"
   ]
  },
  {
   "cell_type": "code",
   "execution_count": null,
   "id": "62aa063b-483a-4086-ab8f-9360deda366f",
   "metadata": {},
   "outputs": [],
   "source": [
    "R.send_exe(\"k=esp.as1\")"
   ]
  },
  {
   "cell_type": "code",
   "execution_count": null,
   "id": "fceaa3bd-6752-46df-8c40-34a2e63e64b9",
   "metadata": {},
   "outputs": [],
   "source": [
    "R.send_exe(\"k.MD\")"
   ]
  },
  {
   "cell_type": "code",
   "execution_count": null,
   "id": "c4c23c23-9b92-4d00-96e3-15806c628f1f",
   "metadata": {},
   "outputs": [],
   "source": [
    "R.send_exe(\"k.ML\")"
   ]
  },
  {
   "cell_type": "code",
   "execution_count": null,
   "id": "9faad808-9300-4dcd-95b7-89d6e159f4e9",
   "metadata": {},
   "outputs": [],
   "source": [
    "R.send_exe(\"k.MH\")"
   ]
  },
  {
   "cell_type": "code",
   "execution_count": null,
   "id": "341f27f4-1344-42b2-81aa-1ba7eeef8e87",
   "metadata": {},
   "outputs": [],
   "source": [
    "R.send_exe(\"k.ANGLE\")"
   ]
  },
  {
   "cell_type": "code",
   "execution_count": null,
   "id": "be5e8fea-b16b-4018-92d7-94c59408d902",
   "metadata": {},
   "outputs": [],
   "source": [
    "R.send_exe(\"\")"
   ]
  },
  {
   "cell_type": "code",
   "execution_count": null,
   "id": "eb5891a6-ed99-4a28-bd07-eb75b3b41f3a",
   "metadata": {},
   "outputs": [],
   "source": [
    "R.send_exe(\"\")"
   ]
  },
  {
   "cell_type": "code",
   "execution_count": null,
   "id": "6678db56-095a-4bf8-a14a-46ae2f4c8d70",
   "metadata": {},
   "outputs": [],
   "source": [
    "R.send_exe(\"\")"
   ]
  },
  {
   "cell_type": "code",
   "execution_count": null,
   "id": "780f7412-d9a2-4e47-8c59-f89a31de78a2",
   "metadata": {},
   "outputs": [],
   "source": [
    "R.send_exe(\"time.ticks_ms()\")"
   ]
  },
  {
   "cell_type": "code",
   "execution_count": null,
   "id": "6dcc3256-feca-45be-8c33-884bede415f1",
   "metadata": {},
   "outputs": [],
   "source": []
  },
  {
   "cell_type": "code",
   "execution_count": null,
   "id": "4c03f8b2-c005-4233-a18c-01ff4c7bf891",
   "metadata": {},
   "outputs": [],
   "source": [
    "s.display()"
   ]
  },
  {
   "cell_type": "code",
   "execution_count": null,
   "id": "9fc41a91-1614-46a9-921c-1572e1a0d755",
   "metadata": {},
   "outputs": [],
   "source": []
  },
  {
   "cell_type": "code",
   "execution_count": null,
   "id": "85fd382f-555e-49af-8da7-ab0cc404fdb2",
   "metadata": {},
   "outputs": [],
   "source": [
    "R.send_exe(\"esp\")"
   ]
  },
  {
   "cell_type": "code",
   "execution_count": null,
   "id": "c9c12d4b-94cc-4a57-bb5d-ed9c5a1731bb",
   "metadata": {},
   "outputs": [],
   "source": [
    "R.send_exe(\"esp.to=[]\")"
   ]
  },
  {
   "cell_type": "code",
   "execution_count": null,
   "id": "9e0ae6e4-cf13-4c1d-8439-61abb9ed6cfd",
   "metadata": {},
   "outputs": [],
   "source": [
    "R.send_exe(\"esp.to\")"
   ]
  },
  {
   "cell_type": "code",
   "execution_count": null,
   "id": "bb6fcd42-4ec4-4fb0-963e-2317757fae9a",
   "metadata": {},
   "outputs": [],
   "source": [
    "x=63"
   ]
  },
  {
   "cell_type": "code",
   "execution_count": null,
   "id": "a74a43cb-7bd6-4305-8d87-be3a50179be3",
   "metadata": {},
   "outputs": [],
   "source": [
    "x=16383"
   ]
  },
  {
   "cell_type": "code",
   "execution_count": null,
   "id": "54a12258-32c1-4514-bd63-3153593d00a7",
   "metadata": {},
   "outputs": [],
   "source": [
    "R.send_exe(f\"esp.m0.frequency({x})\")"
   ]
  },
  {
   "cell_type": "code",
   "execution_count": null,
   "id": "8420a343-b4c1-4416-9e02-277b397e7149",
   "metadata": {},
   "outputs": [],
   "source": [
    "R.send_exe(\"esp.m0.frequency()\")"
   ]
  },
  {
   "cell_type": "code",
   "execution_count": null,
   "id": "8f15c75c-96d4-420f-bd53-d02f144281d9",
   "metadata": {},
   "outputs": [],
   "source": [
    "R.send_exe(\"esp.m0.speed(0)\")"
   ]
  },
  {
   "cell_type": "code",
   "execution_count": null,
   "id": "df31a3aa-164d-4ebe-8796-0e32897c871d",
   "metadata": {},
   "outputs": [],
   "source": [
    "R.send_exe(\"esp.m0.speed(50)\")"
   ]
  },
  {
   "cell_type": "code",
   "execution_count": null,
   "id": "a8244f38-f967-429b-a178-02adc53b31cc",
   "metadata": {},
   "outputs": [],
   "source": [
    "R.send_exe(\"esp.m0.speed(-50)\")"
   ]
  },
  {
   "cell_type": "code",
   "execution_count": null,
   "id": "828ed1b8-392c-4f64-9b82-55be6ed70d33",
   "metadata": {},
   "outputs": [],
   "source": [
    "R.send_exe(\"esp.m0.speed(0)\")"
   ]
  },
  {
   "cell_type": "code",
   "execution_count": null,
   "id": "7ca96af1-0c40-4377-b74a-335d42672524",
   "metadata": {},
   "outputs": [],
   "source": [
    "R.send_exe(\"\")"
   ]
  },
  {
   "cell_type": "code",
   "execution_count": null,
   "id": "be391b57-c793-43f5-8e9f-ac8071bc19b7",
   "metadata": {},
   "outputs": [],
   "source": [
    "R.send_exe(\"esp.real.state\")"
   ]
  },
  {
   "cell_type": "code",
   "execution_count": null,
   "id": "15b97767-09cd-4f6a-bf4c-5fb45d14c09b",
   "metadata": {},
   "outputs": [],
   "source": []
  },
  {
   "cell_type": "code",
   "execution_count": null,
   "id": "b77320ba-e182-428a-bd3e-7c1c50747355",
   "metadata": {},
   "outputs": [],
   "source": [
    "s.display()"
   ]
  },
  {
   "cell_type": "code",
   "execution_count": null,
   "id": "b3d56384-3e0d-431f-98c9-59a17d012410",
   "metadata": {},
   "outputs": [],
   "source": []
  },
  {
   "cell_type": "code",
   "execution_count": null,
   "id": "6cc150cf-bdff-408f-9f2a-bdccaded35ed",
   "metadata": {},
   "outputs": [],
   "source": [
    "R.send_exe(\"\")"
   ]
  },
  {
   "cell_type": "code",
   "execution_count": null,
   "id": "bd75e38e-c808-423f-8447-8c10aca4e45f",
   "metadata": {},
   "outputs": [],
   "source": [
    "R.send_exe(\"\")"
   ]
  },
  {
   "cell_type": "code",
   "execution_count": null,
   "id": "9ee4e533-351e-4c9f-94b5-9689a3a50bfb",
   "metadata": {},
   "outputs": [],
   "source": [
    "R.send_exe(\"\")"
   ]
  },
  {
   "cell_type": "code",
   "execution_count": null,
   "id": "653ad611-d7e4-4e4a-85f6-43e2f41ba830",
   "metadata": {},
   "outputs": [],
   "source": [
    "R.send_exe(\"\")"
   ]
  },
  {
   "cell_type": "code",
   "execution_count": null,
   "id": "1e41d04d-2601-47b1-9eca-bdbe04e03ee3",
   "metadata": {},
   "outputs": [],
   "source": []
  },
  {
   "cell_type": "code",
   "execution_count": null,
   "id": "a71c7f51-2d17-4b2a-a2c9-e73db69ff5b3",
   "metadata": {},
   "outputs": [],
   "source": [
    "R.dict[\"rec_s_time\"]"
   ]
  },
  {
   "cell_type": "code",
   "execution_count": null,
   "id": "2378809c-2aeb-441d-bf25-2863b68ae565",
   "metadata": {},
   "outputs": [],
   "source": []
  },
  {
   "cell_type": "code",
   "execution_count": null,
   "id": "12302aef-4762-4d28-ab53-d011544d2558",
   "metadata": {},
   "outputs": [],
   "source": [
    "def rett(task):\n",
    "    task.start()\n",
    "    return []\n",
    "\n",
    "@TaskHandlerButtonAdvanced.add_to_state_button(s, rett)\n",
    "async def show_loop(task, sleep_interval=0.05, keep_len=10):\n",
    "    # global actions\n",
    "    # obs = task.widgets[0]\n",
    "    \n",
    "    @loop(sleep_interval)\n",
    "    def go():\n",
    "        import cv2\n",
    "        cv2.waitKey(1)\n",
    "        import numpy as np\n",
    "        get=np.frombuffer(R.dict[\"eye\"],dtype=np.uint8).reshape((25,25))\n",
    "        get=cv2.rotate(get, cv2.ROTATE_90_CLOCKWISE)\n",
    "        cv2.imshow(\"a\",cv2.resize(get,(400,400)))\n",
    "    \n",
    "    await asyncio.gather(R.loop_recv(),go())\n",
    "t_s=show_loop(\"show_loop\")"
   ]
  },
  {
   "cell_type": "code",
   "execution_count": null,
   "id": "b8d0c54a-543d-4928-ad3a-e505adef8d9d",
   "metadata": {},
   "outputs": [],
   "source": [
    "s.display()"
   ]
  },
  {
   "cell_type": "code",
   "execution_count": null,
   "id": "74de3cf2-7190-4549-8d2a-62748ed03e9a",
   "metadata": {},
   "outputs": [],
   "source": []
  },
  {
   "cell_type": "code",
   "execution_count": null,
   "id": "d75f5a41-d4bf-422b-ba24-1801f90c8edd",
   "metadata": {},
   "outputs": [],
   "source": [
    "R.send_exe(f\"esp.to=[]\")"
   ]
  },
  {
   "cell_type": "code",
   "execution_count": null,
   "id": "9411bcc2-b901-4265-bd5a-49bf3e65d5b5",
   "metadata": {},
   "outputs": [],
   "source": [
    "R.send_exe(\"get=loop.create_task(t())\")"
   ]
  },
  {
   "cell_type": "code",
   "execution_count": null,
   "id": "d9f80a57-3827-409e-92f9-8f5cb31d7e58",
   "metadata": {},
   "outputs": [],
   "source": [
    "R.send_exe(\"get.cancel()\")"
   ]
  },
  {
   "cell_type": "code",
   "execution_count": null,
   "id": "07a72a4d-3e9a-4de6-a257-94dd0c8b6391",
   "metadata": {},
   "outputs": [],
   "source": []
  },
  {
   "cell_type": "code",
   "execution_count": null,
   "id": "56af32ab-2830-4289-baa4-ad197c1c053d",
   "metadata": {},
   "outputs": [],
   "source": []
  },
  {
   "cell_type": "code",
   "execution_count": null,
   "id": "3237879a-c711-43c5-bbab-7ef9099ee990",
   "metadata": {},
   "outputs": [],
   "source": []
  },
  {
   "cell_type": "code",
   "execution_count": null,
   "id": "d2e20a4c-5443-4c62-8843-f7655f1d6477",
   "metadata": {},
   "outputs": [],
   "source": [
    "rawData=b\"1234\"\n",
    "rawData=rawData[0:0]"
   ]
  },
  {
   "cell_type": "code",
   "execution_count": null,
   "id": "a871ee24-c2c0-4f42-960e-a73f60969702",
   "metadata": {},
   "outputs": [],
   "source": [
    "rawData"
   ]
  },
  {
   "cell_type": "code",
   "execution_count": null,
   "id": "4baad1f0-da5f-492b-ba83-b16a994b5340",
   "metadata": {},
   "outputs": [],
   "source": []
  },
  {
   "cell_type": "code",
   "execution_count": null,
   "id": "2b4117a3-6b53-49eb-b2cf-495fe5e3e919",
   "metadata": {},
   "outputs": [],
   "source": []
  },
  {
   "cell_type": "code",
   "execution_count": null,
   "id": "0cb6df7d-a334-4e58-aad5-c074e86eaef3",
   "metadata": {},
   "outputs": [],
   "source": []
  },
  {
   "cell_type": "code",
   "execution_count": null,
   "id": "developed-polymer",
   "metadata": {},
   "outputs": [],
   "source": [
    "from multiprocessing.managers import BaseManager\n",
    "class QueueManager(BaseManager): pass\n",
    "\n",
    "\n",
    "QueueManager.register('qi')\n",
    "\n",
    "m = QueueManager(address=('', 8881), authkey=b'howdy')\n",
    "m.connect()\n",
    "\n",
    "q = m.qi()"
   ]
  },
  {
   "cell_type": "code",
   "execution_count": null,
   "id": "loose-parking",
   "metadata": {},
   "outputs": [],
   "source": []
  },
  {
   "cell_type": "raw",
   "id": "9a676e0e-aaa5-4b84-96d7-2320a723ba9f",
   "metadata": {},
   "source": [
    "import gymnasium as gym\n",
    "env = gym.make(\"CarRacing-v2\", domain_randomize=True, render_mode=\"human\")\n",
    "env = gym.make(\"CarRacing-v2\", domain_randomize=False, render_mode=\"human\")"
   ]
  },
  {
   "cell_type": "raw",
   "id": "c99e8bc7-e34c-4f64-8b42-e0759a14f864",
   "metadata": {},
   "source": [
    "actions=[0,0,0]"
   ]
  },
  {
   "cell_type": "raw",
   "id": "df722255-3df9-4057-ad55-3aec285cc9cd",
   "metadata": {},
   "source": [
    "def rett(task):\n",
    "    k=ipywidgets.Textarea(layout=ipywidgets.Layout(width='500px', height='100px'))\n",
    "    task.start()\n",
    "    return (k,)\n",
    "\n",
    "@TaskHandlerButtonAdvanced.add_to_state_button(s, rett)\n",
    "async def control_loop(task, sleep_interval=0.05, keep_len=10):\n",
    "    global actions\n",
    "    obs = task.widgets[0]\n",
    "    observation, info = env.reset(seed=42,options={\"randomize\": False})        \n",
    "    while 1:\n",
    "        await asyncio.sleep(sleep_interval)\n",
    "\n",
    "        observation, reward, terminated, truncated, info = env.step(actions)\n",
    "        env.render()\n",
    "\n",
    "        if terminated or truncated:\n",
    "            observation, info = env.reset()\n",
    "\n",
    "#         obs.value=str(observation)\n",
    "        \n",
    "t=control_loop(\"control_loop\")"
   ]
  },
  {
   "cell_type": "code",
   "execution_count": null,
   "id": "indirect-bachelor",
   "metadata": {},
   "outputs": [],
   "source": []
  },
  {
   "cell_type": "code",
   "execution_count": null,
   "id": "compressed-wisconsin",
   "metadata": {},
   "outputs": [],
   "source": [
    "s.display()"
   ]
  },
  {
   "cell_type": "code",
   "execution_count": null,
   "id": "christian-spending",
   "metadata": {},
   "outputs": [],
   "source": []
  },
  {
   "cell_type": "code",
   "execution_count": null,
   "id": "modular-slovenia",
   "metadata": {},
   "outputs": [],
   "source": [
    "def rett(task):\n",
    "    k=ipywidgets.Textarea(layout=ipywidgets.Layout(width='500px', height='100px'))\n",
    "    task.start()\n",
    "    return (k,)\n",
    "\n",
    "@TaskHandlerButtonAdvanced.add_to_state_button(s, rett)\n",
    "async def recv_loop(task, sleep_interval=0.2, keep_len=10):\n",
    "    global actions\n",
    "    obs = task.widgets[0]\n",
    "    \n",
    "    from queue import Empty\n",
    "    @try_loop(0.01,skip_errors=(Empty,))\n",
    "    async def do():\n",
    "        arr=q.get_nowait()\n",
    "        obs.value=str(arr)\n",
    "        actions[0]=arr[3]\n",
    "        n=-arr[4]\n",
    "        if n>0:\n",
    "            actions[1]=n\n",
    "            actions[2]=0\n",
    "        else:\n",
    "            actions[1]=0\n",
    "            actions[2]=-n\n",
    "        \n",
    "    await asyncio.gather(do())\n",
    "        \n",
    "t=recv_loop(\"recv_loop\")"
   ]
  },
  {
   "cell_type": "code",
   "execution_count": null,
   "id": "right-private",
   "metadata": {},
   "outputs": [],
   "source": []
  },
  {
   "cell_type": "code",
   "execution_count": null,
   "id": "progressive-blogger",
   "metadata": {},
   "outputs": [],
   "source": [
    "s.display()"
   ]
  },
  {
   "cell_type": "code",
   "execution_count": null,
   "id": "encouraging-portrait",
   "metadata": {},
   "outputs": [],
   "source": [
    "q"
   ]
  },
  {
   "cell_type": "code",
   "execution_count": null,
   "id": "close-schedule",
   "metadata": {},
   "outputs": [],
   "source": []
  }
 ],
 "metadata": {
  "kernelspec": {
   "display_name": "Python 3 (ipykernel)",
   "language": "python",
   "name": "python3"
  },
  "language_info": {
   "codemirror_mode": {
    "name": "ipython",
    "version": 3
   },
   "file_extension": ".py",
   "mimetype": "text/x-python",
   "name": "python",
   "nbconvert_exporter": "python",
   "pygments_lexer": "ipython3",
   "version": "3.10.8"
  }
 },
 "nbformat": 4,
 "nbformat_minor": 5
}
