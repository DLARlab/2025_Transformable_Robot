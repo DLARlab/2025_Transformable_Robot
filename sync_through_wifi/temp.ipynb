{
 "cells": [
  {
   "cell_type": "code",
   "execution_count": 8,
   "id": "a11cde89-e961-4758-9248-f48e3ae96052",
   "metadata": {},
   "outputs": [],
   "source": [
    "import numpy as np"
   ]
  },
  {
   "cell_type": "code",
   "execution_count": 9,
   "id": "eaeb84ea-870a-4aa7-af65-aa4b0e3265c4",
   "metadata": {},
   "outputs": [],
   "source": [
    "def to_flat(x,y,z):\n",
    "    p=np.zeros((5,5,3))\n",
    "    p[x][y][z]=1\n",
    "    return np.argmax(p.flatten())"
   ]
  },
  {
   "cell_type": "code",
   "execution_count": 10,
   "id": "e2c719ca-5bc6-4fbb-bb49-ff7158326a37",
   "metadata": {},
   "outputs": [
    {
     "data": {
      "text/plain": [
       "23"
      ]
     },
     "execution_count": 10,
     "metadata": {},
     "output_type": "execute_result"
    }
   ],
   "source": [
    "to_flat(1,2,2)"
   ]
  },
  {
   "cell_type": "code",
   "execution_count": 11,
   "id": "d39b7690-364f-465f-a015-d2335655a593",
   "metadata": {},
   "outputs": [
    {
     "data": {
      "text/plain": [
       "bytearray(b'\\xff')"
      ]
     },
     "execution_count": 11,
     "metadata": {},
     "output_type": "execute_result"
    }
   ],
   "source": [
    "bytearray([255])"
   ]
  },
  {
   "cell_type": "raw",
   "id": "32ed6d14-6fa1-4708-b4d0-430ce9445242",
   "metadata": {},
   "source": [
    "R.send_exe(\"change_light\")"
   ]
  },
  {
   "cell_type": "raw",
   "id": "3f5e984b-a1c7-4994-a24d-f758c52dde50",
   "metadata": {},
   "source": [
    "for x in range(5):\n",
    "    for y in range(4):\n",
    "        y+=1\n",
    "        await asyncio.sleep(0.016)\n",
    "        i=to_flat(y,x,2)\n",
    "        R.send_exe(f\"R.np.buf[:]=b'\\x00'*25*3;R.np.buf[{i}]=25\")"
   ]
  },
  {
   "cell_type": "raw",
   "id": "bdcbd6a3-9791-4a46-986b-59b932f0601a",
   "metadata": {},
   "source": [
    "for i in range(75):\n",
    "    await asyncio.sleep(0.02)\n",
    "    R.send_exe(f\"R.np.buf[:]=b'\\x00'*25*3;R.np.buf[{i}]=255\")"
   ]
  },
  {
   "cell_type": "code",
   "execution_count": null,
   "id": "18146389-6a2b-4f0c-b667-b9f28a55f65c",
   "metadata": {},
   "outputs": [],
   "source": []
  },
  {
   "cell_type": "raw",
   "id": "0dab5ead-8262-4cc2-9126-d187041c466d",
   "metadata": {},
   "source": [
    "def get_n(k):\n",
    "    xx=np.zeros((5,5,3)).flatten()\n",
    "    xx[k]=255\n",
    "    return xx.astype(int).tolist()"
   ]
  },
  {
   "cell_type": "raw",
   "id": "4f101fd5-810a-4ca8-a77f-be549784f101",
   "metadata": {},
   "source": [
    "R.send_exe(\"R.decode_list=[['4B', 'rec_s_time'], ['75B', 'change_light']]\")\n",
    "R.encode_list=[['4B', 'get_s_time'],['75B','to_light']]"
   ]
  },
  {
   "cell_type": "raw",
   "id": "84119de9-3d4a-49b6-9f14-fd45a6f1308f",
   "metadata": {},
   "source": [
    "for i in range(75):\n",
    "    await asyncio.sleep(0.016)\n",
    "    R.to_light=get_n(i)\n",
    "    R.send_m()"
   ]
  },
  {
   "cell_type": "code",
   "execution_count": null,
   "id": "b80c800d-f44c-4398-a718-2770a4677c30",
   "metadata": {},
   "outputs": [],
   "source": []
  },
  {
   "cell_type": "code",
   "execution_count": null,
   "id": "540f4a5d-38e7-4a18-a416-a2aeef078fb5",
   "metadata": {},
   "outputs": [],
   "source": []
  },
  {
   "cell_type": "code",
   "execution_count": null,
   "id": "f0fc1be8-b381-4344-a412-19e1fdc78e18",
   "metadata": {},
   "outputs": [],
   "source": []
  },
  {
   "cell_type": "code",
   "execution_count": 14,
   "id": "8e74124b-bd4a-4337-a957-700bff58d147",
   "metadata": {},
   "outputs": [
    {
     "data": {
      "text/plain": [
       "(0.0, 0.0, 0, 0, 0)"
      ]
     },
     "execution_count": 14,
     "metadata": {},
     "output_type": "execute_result"
    }
   ],
   "source": [
    "q.get()"
   ]
  },
  {
   "cell_type": "code",
   "execution_count": 15,
   "id": "5402617e-a13b-4caf-8e99-26db456331c1",
   "metadata": {},
   "outputs": [],
   "source": [
    "last_cam=[0,0]"
   ]
  },
  {
   "cell_type": "code",
   "execution_count": 16,
   "id": "8692f16a-7398-4bcc-86c2-fdd9daec66e8",
   "metadata": {},
   "outputs": [],
   "source": [
    "def rett(task):\n",
    "    k=ipywidgets.Textarea(layout=ipywidgets.Layout(width='500px', height='100px'))\n",
    "    task.start()\n",
    "    return (k,)\n",
    "\n",
    "@TaskHandlerButtonAdvanced.add_to_state_button(s, rett)\n",
    "async def recv_loop(task, sleep_interval=0.2, keep_len=10):\n",
    "    \n",
    "    obs = task.widgets[0]\n",
    "    \n",
    "    from queue import Empty\n",
    "    @try_loop(0.01,skip_errors=(Empty,))\n",
    "    async def do():\n",
    "        global last_cam\n",
    "        \n",
    "        prt=\"\"\n",
    "        arr=q.get_nowait()\n",
    "        \n",
    "        \n",
    "        command=[\"R.d.last_call=5\"]\n",
    "        l_wheel,r_wheel,ad,camx,camy=arr\n",
    "        \n",
    "        l_wheel,r_wheel=[int(i*1000) for i in [l_wheel,r_wheel]]\n",
    "        ad=ad/2\n",
    "        # camy=camy/2\n",
    "        camy=-camy\n",
    "        \n",
    "        last_cam[1]+=camy/10\n",
    "        last_cam[1]=min(1,max(-1,last_cam[1]))\n",
    "        camy=last_cam[1]\n",
    "        \n",
    "        command.append(f\"R.wh.wheelcontrols({l_wheel},{r_wheel})\")\n",
    "        command.append(f\"R.s_ad({ad})\")\n",
    "        command.append(f\"R.s_cam_h({camx});R.s_cam_v({camy})\")\n",
    "        \n",
    "        command=\";\".join(command)\n",
    "        \n",
    "        prt+=command\n",
    "        \n",
    "        R.send_exe(command)\n",
    "        \n",
    "        prt+=f\"\\nout:{arr}\\n\"\n",
    "        prt+=f\"last_cam:{last_cam}\\n\"        \n",
    "        obs.value=prt\n",
    "        \n",
    "    await asyncio.gather(do())\n",
    "        \n",
    "t=recv_loop(\"recv_loop\")"
   ]
  }
 ],
 "metadata": {
  "kernelspec": {
   "display_name": "Python 3 (ipykernel)",
   "language": "python",
   "name": "python3"
  },
  "language_info": {
   "codemirror_mode": {
    "name": "ipython",
    "version": 3
   },
   "file_extension": ".py",
   "mimetype": "text/x-python",
   "name": "python",
   "nbconvert_exporter": "python",
   "pygments_lexer": "ipython3",
   "version": "3.10.5"
  }
 },
 "nbformat": 4,
 "nbformat_minor": 5
}
