{
 "cells": [
  {
   "cell_type": "code",
   "execution_count": 1,
   "id": "1cf53c33-3ebb-4a2d-bdf8-1ee9e0d692ac",
   "metadata": {},
   "outputs": [],
   "source": [
    "from repl import espweber"
   ]
  },
  {
   "cell_type": "code",
   "execution_count": null,
   "id": "e74e41c4-5291-4673-97dd-21bcb5879cf7",
   "metadata": {},
   "outputs": [],
   "source": []
  },
  {
   "cell_type": "code",
   "execution_count": 2,
   "id": "ff32ebd7-776f-4641-9907-862c579e1dee",
   "metadata": {},
   "outputs": [
    {
     "name": "stderr",
     "output_type": "stream",
     "text": [
      "INFO:root:ws://192.168.2.123:8266/\n",
      "--- request header ---\n",
      "DEBUG:websocket:--- request header ---\n",
      "GET / HTTP/1.1\n",
      "Upgrade: websocket\n",
      "Host: 192.168.2.123:8266\n",
      "Origin: http://192.168.2.123:8266\n",
      "Sec-WebSocket-Key: y2mHsR6jvUfqu/qvCIvQ+A==\n",
      "Sec-WebSocket-Version: 13\n",
      "Connection: upgrade\n",
      "\n",
      "\n",
      "DEBUG:websocket:GET / HTTP/1.1\n",
      "Upgrade: websocket\n",
      "Host: 192.168.2.123:8266\n",
      "Origin: http://192.168.2.123:8266\n",
      "Sec-WebSocket-Key: y2mHsR6jvUfqu/qvCIvQ+A==\n",
      "Sec-WebSocket-Version: 13\n",
      "Connection: upgrade\n",
      "\n",
      "\n",
      "-----------------------\n",
      "DEBUG:websocket:-----------------------\n",
      "--- response header ---\n",
      "DEBUG:websocket:--- response header ---\n",
      "HTTP/1.1 101 Switching Protocols\n",
      "DEBUG:websocket:HTTP/1.1 101 Switching Protocols\n",
      "Upgrade: websocket\n",
      "DEBUG:websocket:Upgrade: websocket\n",
      "Connection: Upgrade\n",
      "DEBUG:websocket:Connection: Upgrade\n",
      "Sec-WebSocket-Accept: Olba5jIEdgQPf7+VCchMpu2KNrc=\n",
      "DEBUG:websocket:Sec-WebSocket-Accept: Olba5jIEdgQPf7+VCchMpu2KNrc=\n",
      "-----------------------\n",
      "DEBUG:websocket:-----------------------\n",
      "INFO:root:Password: \n",
      "send: b'\\x81\\x88\\xe7F\\xc2\\xe2\\xd6u\\xf7\\xd2\\xd6s\\xcf\\xe8'\n",
      "DEBUG:websocket:send: b'\\x81\\x88\\xe7F\\xc2\\xe2\\xd6u\\xf7\\xd2\\xd6s\\xcf\\xe8'\n",
      "send: b'\\x81\\x81\\x14\\xb0\\x92q\\x17'\n",
      "DEBUG:websocket:send: b'\\x81\\x81\\x14\\xb0\\x92q\\x17'\n",
      "send: b'\\x81\\x81\\x8a\\x0f \\xd0\\x89'\n",
      "DEBUG:websocket:send: b'\\x81\\x81\\x8a\\x0f \\xd0\\x89'\n",
      "send: b'\\x81\\x81\\x11\\xf5K\\xf0\\x10'\n",
      "DEBUG:websocket:send: b'\\x81\\x81\\x11\\xf5K\\xf0\\x10'\n"
     ]
    },
    {
     "name": "stdout",
     "output_type": "stream",
     "text": [
      "saylines135015\n"
     ]
    },
    {
     "name": "stderr",
     "output_type": "stream",
     "text": [
      "INFO:root:\n",
      "WebREPL connected\n",
      ">>> \n",
      "INFO:root:\n",
      "\n",
      "INFO:root:>>> \n",
      "INFO:root:\n",
      "\n",
      "INFO:root:>>> \n",
      "INFO:root:\n",
      "\n",
      "INFO:root:raw REPL; CTRL-B to exit\n",
      "\n",
      "INFO:root:>\n",
      "INFO:root:\n",
      "\n",
      "INFO:root:Concurrent WebREPL connection from\n",
      "INFO:root: \n",
      "INFO:root:(\n",
      "INFO:root:'\n",
      "INFO:root:1\n",
      "INFO:root:9\n",
      "INFO:root:2\n",
      "INFO:root:.\n",
      "INFO:root:1\n",
      "INFO:root:6\n",
      "INFO:root:8\n",
      "INFO:root:.\n",
      "INFO:root:2\n",
      "INFO:root:.\n",
      "INFO:root:2\n",
      "INFO:root:3\n",
      "INFO:root:4\n",
      "INFO:root:'\n",
      "INFO:root:, \n",
      "INFO:root:64542\n",
      "INFO:root:)\n",
      "INFO:root: \n",
      "INFO:root:rejected\n",
      "INFO:root:\n",
      "\n"
     ]
    }
   ],
   "source": [
    "E=espweber(\"192.168.2.123\")"
   ]
  },
  {
   "cell_type": "code",
   "execution_count": 3,
   "id": "975a59b7-993a-413d-a3d0-6646036dc552",
   "metadata": {},
   "outputs": [
    {
     "name": "stderr",
     "output_type": "stream",
     "text": [
      "send: b'\\x81\\x81\\xb4&\\xd9\\x83\\xb6'\n",
      "DEBUG:websocket:send: b'\\x81\\x81\\xb4&\\xd9\\x83\\xb6'\n",
      "send: b'\\x88\\x82\\xac\\x94\\xd1l\\xaf|'\n",
      "DEBUG:websocket:send: b'\\x88\\x82\\xac\\x94\\xd1l\\xaf|'\n",
      "INFO:root:\n",
      "INFO:root:\n",
      "INFO:root:\n"
     ]
    },
    {
     "name": "stdout",
     "output_type": "stream",
     "text": [
      "messg:: deque(['Password: ', '\\r\\nWebREPL connected\\r\\n>>> ', '\\r\\n', '>>> ', '\\r\\n', '>>> ', '\\r\\n', 'raw REPL; CTRL-B to exit\\r\\n', '>', '\\r\\n', 'Concurrent WebREPL connection from', ' ', '(', \"'\", '1', '9', '2', '.', '1', '6', '8', '.', '2', '.', '2', '3', '4', \"'\", ', ', '64542', ')', ' ', 'rejected', '\\r\\n'], maxlen=100) "
     ]
    }
   ],
   "source": [
    "E.turnoff()"
   ]
  },
  {
   "cell_type": "code",
   "execution_count": null,
   "id": "0351b015-9030-4949-9649-1bd7bcc5022f",
   "metadata": {},
   "outputs": [],
   "source": []
  },
  {
   "cell_type": "code",
   "execution_count": null,
   "id": "eec66ed2-8f24-4fc8-8c67-dabc3b9d548e",
   "metadata": {},
   "outputs": [],
   "source": []
  },
  {
   "cell_type": "code",
   "execution_count": 10,
   "id": "574dd947-219a-4419-accc-b32ee23a9f34",
   "metadata": {},
   "outputs": [
    {
     "name": "stderr",
     "output_type": "stream",
     "text": [
      "INFO:root:ws://192.168.2.123:8266/\n",
      "--- request header ---\n",
      "DEBUG:websocket:--- request header ---\n",
      "GET / HTTP/1.1\n",
      "Upgrade: websocket\n",
      "Host: 192.168.2.123:8266\n",
      "Origin: http://192.168.2.123:8266\n",
      "Sec-WebSocket-Key: 7phHEhoUe50GeBu59Mzo/Q==\n",
      "Sec-WebSocket-Version: 13\n",
      "Connection: upgrade\n",
      "\n",
      "\n",
      "DEBUG:websocket:GET / HTTP/1.1\n",
      "Upgrade: websocket\n",
      "Host: 192.168.2.123:8266\n",
      "Origin: http://192.168.2.123:8266\n",
      "Sec-WebSocket-Key: 7phHEhoUe50GeBu59Mzo/Q==\n",
      "Sec-WebSocket-Version: 13\n",
      "Connection: upgrade\n",
      "\n",
      "\n",
      "-----------------------\n",
      "DEBUG:websocket:-----------------------\n",
      "--- response header ---\n",
      "DEBUG:websocket:--- response header ---\n",
      "HTTP/1.1 101 Switching Protocols\n",
      "DEBUG:websocket:HTTP/1.1 101 Switching Protocols\n",
      "Upgrade: websocket\n",
      "DEBUG:websocket:Upgrade: websocket\n",
      "Connection: Upgrade\n",
      "DEBUG:websocket:Connection: Upgrade\n",
      "Sec-WebSocket-Accept: 7sdpq0Y7HYNSeHA/8ldJyKiHEo8=\n",
      "DEBUG:websocket:Sec-WebSocket-Accept: 7sdpq0Y7HYNSeHA/8ldJyKiHEo8=\n",
      "-----------------------\n",
      "DEBUG:websocket:-----------------------\n",
      "INFO:root:Password: \n",
      "send: b'\\x81\\x88]\\xb8F\\xd7l\\x8bs\\xe7l\\x8dK\\xdd'\n",
      "DEBUG:websocket:send: b'\\x81\\x88]\\xb8F\\xd7l\\x8bs\\xe7l\\x8dK\\xdd'\n",
      "send: b'\\x81\\x81\\x8a\\xc6\\x1c~\\x89'\n",
      "DEBUG:websocket:send: b'\\x81\\x81\\x8a\\xc6\\x1c~\\x89'\n",
      "send: b'\\x81\\x81t\\xff\\x03\\xbcw'\n",
      "DEBUG:websocket:send: b'\\x81\\x81t\\xff\\x03\\xbcw'\n",
      "send: b'\\x81\\x81\\x0b\\x97\\xa8S\\n'\n",
      "DEBUG:websocket:send: b'\\x81\\x81\\x0b\\x97\\xa8S\\n'\n",
      "send: b'\\x81\\x8e\\x80z\\r\\xb0\\xf0\\x08d\\xde\\xf4R/\\xd8\\xe9\\x12d\\x92\\xa9~'\n",
      "DEBUG:websocket:send: b'\\x81\\x8e\\x80z\\r\\xb0\\xf0\\x08d\\xde\\xf4R/\\xd8\\xe9\\x12d\\x92\\xa9~'\n"
     ]
    },
    {
     "name": "stdout",
     "output_type": "stream",
     "text": [
      "saylines135015\n",
      "saylinesprint(\"hihi\")\n"
     ]
    },
    {
     "name": "stderr",
     "output_type": "stream",
     "text": [
      "INFO:root:\n",
      "WebREPL connected\n",
      ">>> \n",
      "INFO:root:\n",
      "\n",
      "INFO:root:>>> \n",
      "INFO:root:\n",
      "\n",
      "INFO:root:>>> \n",
      "INFO:root:\n",
      "\n",
      "INFO:root:raw REPL; CTRL-B to exit\n",
      "\n",
      "INFO:root:>\n",
      "INFO:root:OK\n",
      "INFO:root:hihi\n",
      "INFO:root:\n",
      "\n",
      "INFO:root:\u0004\n",
      "INFO:root:\u0004\n",
      "INFO:root:>\n"
     ]
    },
    {
     "name": "stdin",
     "output_type": "stream",
     "text": [
      " import neopixel\n"
     ]
    },
    {
     "name": "stderr",
     "output_type": "stream",
     "text": [
      "send: b'\\x81\\x90&U+/O8[@T!\\x0bAC:[F^0G+'\n",
      "DEBUG:websocket:send: b'\\x81\\x90&U+/O8[@T!\\x0bAC:[F^0G+'\n"
     ]
    },
    {
     "name": "stdout",
     "output_type": "stream",
     "text": [
      "saylinesimport neopixel\n"
     ]
    },
    {
     "name": "stderr",
     "output_type": "stream",
     "text": [
      "INFO:root:OK\n",
      "INFO:root:\u0004\n",
      "INFO:root:\u0004\n",
      "INFO:root:>\n"
     ]
    },
    {
     "name": "stdin",
     "output_type": "stream",
     "text": [
      " \n"
     ]
    },
    {
     "name": "stderr",
     "output_type": "stream",
     "text": [
      "send: b'\\x81\\x87\\xbe\\x840\\xac\\xcd\\xf0_\\xdc\\x96\\xad4'\n",
      "DEBUG:websocket:send: b'\\x81\\x87\\xbe\\x840\\xac\\xcd\\xf0_\\xdc\\x96\\xad4'\n"
     ]
    },
    {
     "name": "stdout",
     "output_type": "stream",
     "text": [
      "saylinesstop()\n"
     ]
    },
    {
     "name": "stderr",
     "output_type": "stream",
     "text": [
      "INFO:root:OK\n",
      "INFO:root:\u0004\n",
      "INFO:root:Traceback (most recent call last):\n",
      "INFO:root:\n",
      "\n",
      "INFO:root:  File \"\n",
      "INFO:root:<stdin>\n",
      "INFO:root:\", line \n",
      "INFO:root:1\n",
      "INFO:root:, in \n",
      "INFO:root:<module>\n",
      "INFO:root:\n",
      "\n",
      "INFO:root:NameError\n",
      "INFO:root:: \n",
      "INFO:root:name 'stop' isn't defined\n",
      "INFO:root:\n",
      "\n",
      "INFO:root:\u0004\n",
      "INFO:root:>\n"
     ]
    },
    {
     "name": "stdin",
     "output_type": "stream",
     "text": [
      " \n"
     ]
    },
    {
     "name": "stderr",
     "output_type": "stream",
     "text": [
      "send: b'\\x81\\x81IP\\x91NK'\n",
      "DEBUG:websocket:send: b'\\x81\\x81IP\\x91NK'\n",
      "send: b'\\x88\\x82f\\xd3\\x14\\xcce;'\n",
      "DEBUG:websocket:send: b'\\x88\\x82f\\xd3\\x14\\xcce;'\n",
      "INFO:root:\n",
      "INFO:root:\n",
      "INFO:root:\n"
     ]
    },
    {
     "name": "stdout",
     "output_type": "stream",
     "text": [
      "messg:: deque(['Password: ', '\\r\\nWebREPL connected\\r\\n>>> ', '\\r\\n', '>>> ', '\\r\\n', '>>> ', '\\r\\n', 'raw REPL; CTRL-B to exit\\r\\n', '>', 'OK', 'hihi', '\\r\\n', '\\x04', '\\x04', '>', 'OK', '\\x04', '\\x04', '>', 'OK', '\\x04', 'Traceback (most recent call last):', '\\r\\n', '  File \"', '<stdin>', '\", line ', '1', ', in ', '<module>', '\\r\\n', 'NameError', ': ', \"name 'stop' isn't defined\", '\\r\\n', '\\x04', '>'], maxlen=100) "
     ]
    }
   ],
   "source": [
    "with espweber(\"192.168.2.123\") as C:\n",
    "    C.saylines('print(\"hihi\")')\n",
    "    while 1:\n",
    "        get=input()\n",
    "        if get==\"\":\n",
    "            break\n",
    "        C.saylines(get)\n",
    "        # break\n",
    "    C.saylines(\"stop()\")\n",
    "    while 1:\n",
    "        get = input()\n",
    "        if get == \"\":\n",
    "            break\n",
    "        C.saylines(get)"
   ]
  },
  {
   "cell_type": "code",
   "execution_count": null,
   "id": "b6ecc892-87fc-4878-a36d-fe12a64ba0e6",
   "metadata": {},
   "outputs": [],
   "source": []
  },
  {
   "cell_type": "code",
   "execution_count": null,
   "id": "968b563d-8ed6-42d5-a1e3-0eb40fc56b7c",
   "metadata": {},
   "outputs": [],
   "source": []
  },
  {
   "cell_type": "code",
   "execution_count": null,
   "id": "4674002c-ca07-4571-8582-724f1c38dcb9",
   "metadata": {},
   "outputs": [],
   "source": []
  },
  {
   "cell_type": "raw",
   "id": "c056d041-4871-49f6-ae36-eafb8e95f8ba",
   "metadata": {},
   "source": [
    "if __name__ == '__main__':\n",
    "    \n",
    "    if(1):\n",
    "        # C=espweber(\"424F27\",1,Log)\n",
    "        # C=espweber(\"ESP_CB0055\",1,Log)\n",
    "        # with espweber(27,0,Log) as C:\n",
    "        with espweber(27,1,Log) as C:\n",
    "        # with espweber(217,0,Log) as C:\n",
    "        # C.saylines(\"D7.value(0)\")\n",
    "        # C=espweber(98,1)\n",
    "            C.saylines('print(\"hihi\")')\n",
    "            while 1:\n",
    "                get=input()\n",
    "                if get==\"\":\n",
    "                    break\n",
    "                C.saylines(get)\n",
    "                # break\n",
    "\n",
    "            C.saylines(\"stop()\")\n",
    "\n",
    "            while 1:\n",
    "                get = input()\n",
    "                if get == \"\":\n",
    "                    break\n",
    "                C.saylines(get)\n",
    "        # time.sleep(1)"
   ]
  },
  {
   "cell_type": "code",
   "execution_count": null,
   "id": "f204b1d7-e89b-437e-bd18-cf8c7537d280",
   "metadata": {},
   "outputs": [],
   "source": []
  },
  {
   "cell_type": "code",
   "execution_count": 55,
   "id": "591a3250-c239-49ff-b314-2c35a084e709",
   "metadata": {},
   "outputs": [
    {
     "name": "stderr",
     "output_type": "stream",
     "text": [
      "INFO:root:ws://192.168.2.123:8266/\n",
      "--- request header ---\n",
      "DEBUG:websocket:--- request header ---\n",
      "GET / HTTP/1.1\n",
      "Upgrade: websocket\n",
      "Host: 192.168.2.123:8266\n",
      "Origin: http://192.168.2.123:8266\n",
      "Sec-WebSocket-Key: RtyvcGWej1fhmP4tZeLPvw==\n",
      "Sec-WebSocket-Version: 13\n",
      "Connection: upgrade\n",
      "\n",
      "\n",
      "DEBUG:websocket:GET / HTTP/1.1\n",
      "Upgrade: websocket\n",
      "Host: 192.168.2.123:8266\n",
      "Origin: http://192.168.2.123:8266\n",
      "Sec-WebSocket-Key: RtyvcGWej1fhmP4tZeLPvw==\n",
      "Sec-WebSocket-Version: 13\n",
      "Connection: upgrade\n",
      "\n",
      "\n",
      "-----------------------\n",
      "DEBUG:websocket:-----------------------\n",
      "--- response header ---\n",
      "DEBUG:websocket:--- response header ---\n",
      "HTTP/1.1 101 Switching Protocols\n",
      "DEBUG:websocket:HTTP/1.1 101 Switching Protocols\n",
      "Upgrade: websocket\n",
      "DEBUG:websocket:Upgrade: websocket\n",
      "Connection: Upgrade\n",
      "DEBUG:websocket:Connection: Upgrade\n",
      "Sec-WebSocket-Accept: Hm5j39nvK7g1TEqIVcKX/y4o2fk=\n",
      "DEBUG:websocket:Sec-WebSocket-Accept: Hm5j39nvK7g1TEqIVcKX/y4o2fk=\n",
      "-----------------------\n",
      "DEBUG:websocket:-----------------------\n",
      "INFO:root:Password: \n",
      "send: b'\\x81\\x88\\xfd\\x96\\xad\\xf8\\xcc\\xa5\\x98\\xc8\\xcc\\xa3\\xa0\\xf2'\n",
      "DEBUG:websocket:send: b'\\x81\\x88\\xfd\\x96\\xad\\xf8\\xcc\\xa5\\x98\\xc8\\xcc\\xa3\\xa0\\xf2'\n",
      "send: b'\\x81\\x81\\xbd\\xc5?\\xfc\\xbe'\n",
      "DEBUG:websocket:send: b'\\x81\\x81\\xbd\\xc5?\\xfc\\xbe'\n",
      "send: b'\\x81\\x81\\xf9\\xb9I\\x08\\xfa'\n",
      "DEBUG:websocket:send: b'\\x81\\x81\\xf9\\xb9I\\x08\\xfa'\n",
      "send: b'\\x81\\x81\\x93\\x99a\\xf3\\x92'\n",
      "DEBUG:websocket:send: b'\\x81\\x81\\x93\\x99a\\xf3\\x92'\n",
      "send: b'\\x81\\x8f\\x97\\x82\\xc9\\x9e\\xfe\\xef\\xb9\\xf1\\xe5\\xf6\\xe9\\xf3\\xf6\\xe1\\xa1\\xf7\\xf9\\xe7\\xcd'\n",
      "DEBUG:websocket:send: b'\\x81\\x8f\\x97\\x82\\xc9\\x9e\\xfe\\xef\\xb9\\xf1\\xe5\\xf6\\xe9\\xf3\\xf6\\xe1\\xa1\\xf7\\xf9\\xe7\\xcd'\n",
      "send: b'\\x81\\x90\\xc9\\x10e;\\xa4q\\x06S\\xa0~\\x00\\x15\\xbbu\\x16^\\xbd8L?'\n",
      "DEBUG:websocket:send: b'\\x81\\x90\\xc9\\x10e;\\xa4q\\x06S\\xa0~\\x00\\x15\\xbbu\\x16^\\xbd8L?'\n",
      "send: b'\\x81\\x8e\\xa9\\xb1p\\xe9\\xd9\\xc3\\x19\\x87\\xdd\\x99W\\x8d\\xc6\\xdf\\x15\\xce\\x80\\xb5'\n",
      "DEBUG:websocket:send: b'\\x81\\x8e\\xa9\\xb1p\\xe9\\xd9\\xc3\\x19\\x87\\xdd\\x99W\\x8d\\xc6\\xdf\\x15\\xce\\x80\\xb5'\n",
      "send: b'\\x81\\x81L\\x93\\x82\\rN'\n",
      "DEBUG:websocket:send: b'\\x81\\x81L\\x93\\x82\\rN'\n",
      "send: b'\\x88\\x82\\xe6\\xf5K\\x06\\xe5\\x1d'\n",
      "DEBUG:websocket:send: b'\\x88\\x82\\xe6\\xf5K\\x06\\xe5\\x1d'\n"
     ]
    },
    {
     "name": "stdout",
     "output_type": "stream",
     "text": [
      "saylines135015\n",
      "saylinesimport machine\n",
      "saylinesmachine.reset()\n",
      "saylinesprint('done')\n"
     ]
    },
    {
     "name": "stderr",
     "output_type": "stream",
     "text": [
      "INFO:root:\n",
      "INFO:root:\n",
      "INFO:root:\n"
     ]
    },
    {
     "name": "stdout",
     "output_type": "stream",
     "text": [
      "messg:: deque(['Password: '], maxlen=100) "
     ]
    }
   ],
   "source": [
    "E=espweber(\"192.168.2.123\")\n",
    "E.turnoff(1)"
   ]
  },
  {
   "cell_type": "code",
   "execution_count": null,
   "id": "eebca491-1b45-4a37-b751-4081fc27bf98",
   "metadata": {},
   "outputs": [],
   "source": []
  },
  {
   "cell_type": "code",
   "execution_count": 53,
   "id": "3a19f7f3-bf01-4c9d-aeb4-1086670e023d",
   "metadata": {},
   "outputs": [
    {
     "name": "stderr",
     "output_type": "stream",
     "text": [
      "INFO:root:ws://192.168.2.123:8266/\n",
      "--- request header ---\n",
      "DEBUG:websocket:--- request header ---\n",
      "GET / HTTP/1.1\n",
      "Upgrade: websocket\n",
      "Host: 192.168.2.123:8266\n",
      "Origin: http://192.168.2.123:8266\n",
      "Sec-WebSocket-Key: k6/2C0m6g58VTY0BrJMlTQ==\n",
      "Sec-WebSocket-Version: 13\n",
      "Connection: upgrade\n",
      "\n",
      "\n",
      "DEBUG:websocket:GET / HTTP/1.1\n",
      "Upgrade: websocket\n",
      "Host: 192.168.2.123:8266\n",
      "Origin: http://192.168.2.123:8266\n",
      "Sec-WebSocket-Key: k6/2C0m6g58VTY0BrJMlTQ==\n",
      "Sec-WebSocket-Version: 13\n",
      "Connection: upgrade\n",
      "\n",
      "\n",
      "-----------------------\n",
      "DEBUG:websocket:-----------------------\n",
      "--- response header ---\n",
      "DEBUG:websocket:--- response header ---\n",
      "WARNING:root:\n"
     ]
    },
    {
     "name": "stdout",
     "output_type": "stream",
     "text": [
      "saylines135015\n"
     ]
    },
    {
     "ename": "WebSocketConnectionClosedException",
     "evalue": "Connection is already closed.",
     "output_type": "error",
     "traceback": [
      "\u001b[0;31m---------------------------------------------------------------------------\u001b[0m",
      "\u001b[0;31mWebSocketConnectionClosedException\u001b[0m        Traceback (most recent call last)",
      "\u001b[0;32m/tmp/ipykernel_44/948926688.py\u001b[0m in \u001b[0;36m<module>\u001b[0;34m\u001b[0m\n\u001b[0;32m----> 1\u001b[0;31m \u001b[0mE\u001b[0m\u001b[0;34m=\u001b[0m\u001b[0mespweber\u001b[0m\u001b[0;34m(\u001b[0m\u001b[0;34m\"192.168.2.123\"\u001b[0m\u001b[0;34m)\u001b[0m\u001b[0;34m\u001b[0m\u001b[0;34m\u001b[0m\u001b[0m\n\u001b[0m\u001b[1;32m      2\u001b[0m \u001b[0mE\u001b[0m\u001b[0;34m.\u001b[0m\u001b[0mturnoff\u001b[0m\u001b[0;34m(\u001b[0m\u001b[0;34m)\u001b[0m\u001b[0;34m\u001b[0m\u001b[0;34m\u001b[0m\u001b[0m\n",
      "\u001b[0;32m/tmp/ipykernel_44/1562693534.py\u001b[0m in \u001b[0;36m__init__\u001b[0;34m(self, place, normal, logger)\u001b[0m\n\u001b[1;32m     75\u001b[0m         \u001b[0;32melse\u001b[0m\u001b[0;34m:\u001b[0m\u001b[0;34m\u001b[0m\u001b[0;34m\u001b[0m\u001b[0m\n\u001b[1;32m     76\u001b[0m             \u001b[0;32mraise\u001b[0m \u001b[0mException\u001b[0m\u001b[0;34m(\u001b[0m\u001b[0;34m\"NoResponse\"\u001b[0m\u001b[0;34m)\u001b[0m\u001b[0;34m\u001b[0m\u001b[0;34m\u001b[0m\u001b[0m\n\u001b[0;32m---> 77\u001b[0;31m         \u001b[0mself\u001b[0m\u001b[0;34m.\u001b[0m\u001b[0msaylines\u001b[0m\u001b[0;34m(\u001b[0m\u001b[0;34m\"135015\"\u001b[0m\u001b[0;34m)\u001b[0m\u001b[0;34m\u001b[0m\u001b[0;34m\u001b[0m\u001b[0m\n\u001b[0m\u001b[1;32m     78\u001b[0m         \u001b[0mself\u001b[0m\u001b[0;34m.\u001b[0m\u001b[0msaylines\u001b[0m\u001b[0;34m(\u001b[0m\u001b[0;34m\"\\x03\"\u001b[0m\u001b[0;34m,\u001b[0m\u001b[0;36m1\u001b[0m\u001b[0;34m)\u001b[0m\u001b[0;34m\u001b[0m\u001b[0;34m\u001b[0m\u001b[0m\n\u001b[1;32m     79\u001b[0m         \u001b[0mself\u001b[0m\u001b[0;34m.\u001b[0m\u001b[0msaylines\u001b[0m\u001b[0;34m(\u001b[0m\u001b[0;34m\"\\x03\"\u001b[0m\u001b[0;34m,\u001b[0m\u001b[0;36m1\u001b[0m\u001b[0;34m)\u001b[0m\u001b[0;34m\u001b[0m\u001b[0;34m\u001b[0m\u001b[0m\n",
      "\u001b[0;32m/tmp/ipykernel_44/1562693534.py\u001b[0m in \u001b[0;36msaylines\u001b[0;34m(self, p, pure)\u001b[0m\n\u001b[1;32m    123\u001b[0m \u001b[0;34m\u001b[0m\u001b[0m\n\u001b[1;32m    124\u001b[0m                     \u001b[0mp\u001b[0m \u001b[0;34m=\u001b[0m \u001b[0mbytes\u001b[0m\u001b[0;34m(\u001b[0m\u001b[0mp\u001b[0m\u001b[0;34m,\u001b[0m \u001b[0;34m\"utf-8\"\u001b[0m\u001b[0;34m)\u001b[0m\u001b[0;34m\u001b[0m\u001b[0;34m\u001b[0m\u001b[0m\n\u001b[0;32m--> 125\u001b[0;31m                 \u001b[0mself\u001b[0m\u001b[0;34m.\u001b[0m\u001b[0mWS\u001b[0m\u001b[0;34m.\u001b[0m\u001b[0mweb\u001b[0m\u001b[0;34m.\u001b[0m\u001b[0msend\u001b[0m\u001b[0;34m(\u001b[0m\u001b[0mp\u001b[0m \u001b[0;34m+\u001b[0m \u001b[0mself\u001b[0m\u001b[0;34m.\u001b[0m\u001b[0mdidline\u001b[0m\u001b[0;34m(\u001b[0m\u001b[0mp\u001b[0m\u001b[0;34m)\u001b[0m\u001b[0;34m)\u001b[0m\u001b[0;34m\u001b[0m\u001b[0;34m\u001b[0m\u001b[0m\n\u001b[0m\u001b[1;32m    126\u001b[0m     \u001b[0mon\u001b[0m\u001b[0;34m=\u001b[0m\u001b[0;36m1\u001b[0m\u001b[0;34m\u001b[0m\u001b[0;34m\u001b[0m\u001b[0m\n\u001b[1;32m    127\u001b[0m     \u001b[0;32mdef\u001b[0m \u001b[0mturnoff\u001b[0m\u001b[0;34m(\u001b[0m\u001b[0mself\u001b[0m\u001b[0;34m,\u001b[0m\u001b[0mrestart\u001b[0m\u001b[0;34m=\u001b[0m\u001b[0;36m0\u001b[0m\u001b[0;34m)\u001b[0m\u001b[0;34m:\u001b[0m\u001b[0;34m\u001b[0m\u001b[0;34m\u001b[0m\u001b[0m\n",
      "\u001b[0;32m/opt/conda/lib/python3.9/site-packages/websocket/_app.py\u001b[0m in \u001b[0;36msend\u001b[0;34m(self, data, opcode)\u001b[0m\n\u001b[1;32m    153\u001b[0m \u001b[0;34m\u001b[0m\u001b[0m\n\u001b[1;32m    154\u001b[0m         \u001b[0;32mif\u001b[0m \u001b[0;32mnot\u001b[0m \u001b[0mself\u001b[0m\u001b[0;34m.\u001b[0m\u001b[0msock\u001b[0m \u001b[0;32mor\u001b[0m \u001b[0mself\u001b[0m\u001b[0;34m.\u001b[0m\u001b[0msock\u001b[0m\u001b[0;34m.\u001b[0m\u001b[0msend\u001b[0m\u001b[0;34m(\u001b[0m\u001b[0mdata\u001b[0m\u001b[0;34m,\u001b[0m \u001b[0mopcode\u001b[0m\u001b[0;34m)\u001b[0m \u001b[0;34m==\u001b[0m \u001b[0;36m0\u001b[0m\u001b[0;34m:\u001b[0m\u001b[0;34m\u001b[0m\u001b[0;34m\u001b[0m\u001b[0m\n\u001b[0;32m--> 155\u001b[0;31m             raise WebSocketConnectionClosedException(\n\u001b[0m\u001b[1;32m    156\u001b[0m                 \"Connection is already closed.\")\n\u001b[1;32m    157\u001b[0m \u001b[0;34m\u001b[0m\u001b[0m\n",
      "\u001b[0;31mWebSocketConnectionClosedException\u001b[0m: Connection is already closed."
     ]
    },
    {
     "name": "stderr",
     "output_type": "stream",
     "text": [
      "--- request header ---\n",
      "DEBUG:websocket:--- request header ---\n",
      "GET / HTTP/1.1\n",
      "Upgrade: websocket\n",
      "Host: 192.168.2.123:8266\n",
      "Origin: http://192.168.2.123:8266\n",
      "Sec-WebSocket-Key: w2WjQtO0sS4oA275X1XYlQ==\n",
      "Sec-WebSocket-Version: 13\n",
      "Connection: upgrade\n",
      "\n",
      "\n",
      "DEBUG:websocket:GET / HTTP/1.1\n",
      "Upgrade: websocket\n",
      "Host: 192.168.2.123:8266\n",
      "Origin: http://192.168.2.123:8266\n",
      "Sec-WebSocket-Key: w2WjQtO0sS4oA275X1XYlQ==\n",
      "Sec-WebSocket-Version: 13\n",
      "Connection: upgrade\n",
      "\n",
      "\n",
      "-----------------------\n",
      "DEBUG:websocket:-----------------------\n",
      "--- response header ---\n",
      "DEBUG:websocket:--- response header ---\n",
      "WARNING:root:\n"
     ]
    }
   ],
   "source": [
    "E=espweber(\"192.168.2.123\")\n",
    "E.turnoff()"
   ]
  },
  {
   "cell_type": "code",
   "execution_count": null,
   "id": "cf0f135c-f00a-4011-837c-8963167a420f",
   "metadata": {},
   "outputs": [],
   "source": []
  },
  {
   "cell_type": "code",
   "execution_count": null,
   "id": "57cb0b2f-0417-4d7a-8735-027c693fa973",
   "metadata": {},
   "outputs": [],
   "source": []
  }
 ],
 "metadata": {
  "kernelspec": {
   "display_name": "Python 3 (ipykernel)",
   "language": "python",
   "name": "python3"
  },
  "language_info": {
   "codemirror_mode": {
    "name": "ipython",
    "version": 3
   },
   "file_extension": ".py",
   "mimetype": "text/x-python",
   "name": "python",
   "nbconvert_exporter": "python",
   "pygments_lexer": "ipython3",
   "version": "3.10.5"
  }
 },
 "nbformat": 4,
 "nbformat_minor": 5
}
